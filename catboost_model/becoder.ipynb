{
 "cells": [
  {
   "cell_type": "code",
   "execution_count": null,
   "metadata": {
    "id": "qO3lBSngYqdi"
   },
   "outputs": [],
   "source": [
    "!pip install catboost\n",
    "!pip install scikit-learn"
   ]
  },
  {
   "cell_type": "code",
   "execution_count": null,
   "metadata": {},
   "outputs": [],
   "source": [
    "!pip install ipywidgets\n",
    "!jupyter nbextension enable --py widgetsnbextension"
   ]
  },
  {
   "cell_type": "code",
   "execution_count": 4,
   "metadata": {
    "id": "z26qVLsEZ8Wb"
   },
   "outputs": [],
   "source": [
    "import pandas as pd\n",
    "from sklearn.model_selection import train_test_split\n",
    "from sklearn.metrics import precision_score\n",
    "from catboost import CatBoostClassifier\n",
    "from catboost import Pool"
   ]
  },
  {
   "cell_type": "code",
   "execution_count": 5,
   "metadata": {
    "colab": {
     "base_uri": "https://localhost:8080/",
     "height": 206
    },
    "id": "6po_D9HtY5is",
    "outputId": "1305af25-9b05-424c-a8ee-44908bfc69eb"
   },
   "outputs": [
    {
     "data": {
      "text/plain": "                           file           author              msg  \\\n0                        README  Steve Sanderson   Initialising\\n   \n1                    .gitignore  Steve Sanderson  Initial state\\n   \n2       build/build-windows.bat  Steve Sanderson  Initial state\\n   \n3       build/knockout-debug.js  Steve Sanderson  Initial state\\n   \n4  build/output/knockout-min.js  Steve Sanderson  Initial state\\n   \n\n                        date  is_broken  \n0  2010-07-05T09:07:12+01:00      False  \n1  2010-07-05T18:42:37+01:00      False  \n2  2010-07-05T18:42:37+01:00      False  \n3  2010-07-05T18:42:37+01:00      False  \n4  2010-07-05T18:42:37+01:00      False  ",
      "text/html": "<div>\n<style scoped>\n    .dataframe tbody tr th:only-of-type {\n        vertical-align: middle;\n    }\n\n    .dataframe tbody tr th {\n        vertical-align: top;\n    }\n\n    .dataframe thead th {\n        text-align: right;\n    }\n</style>\n<table border=\"1\" class=\"dataframe\">\n  <thead>\n    <tr style=\"text-align: right;\">\n      <th></th>\n      <th>file</th>\n      <th>author</th>\n      <th>msg</th>\n      <th>date</th>\n      <th>is_broken</th>\n    </tr>\n  </thead>\n  <tbody>\n    <tr>\n      <th>0</th>\n      <td>README</td>\n      <td>Steve Sanderson</td>\n      <td>Initialising\\n</td>\n      <td>2010-07-05T09:07:12+01:00</td>\n      <td>False</td>\n    </tr>\n    <tr>\n      <th>1</th>\n      <td>.gitignore</td>\n      <td>Steve Sanderson</td>\n      <td>Initial state\\n</td>\n      <td>2010-07-05T18:42:37+01:00</td>\n      <td>False</td>\n    </tr>\n    <tr>\n      <th>2</th>\n      <td>build/build-windows.bat</td>\n      <td>Steve Sanderson</td>\n      <td>Initial state\\n</td>\n      <td>2010-07-05T18:42:37+01:00</td>\n      <td>False</td>\n    </tr>\n    <tr>\n      <th>3</th>\n      <td>build/knockout-debug.js</td>\n      <td>Steve Sanderson</td>\n      <td>Initial state\\n</td>\n      <td>2010-07-05T18:42:37+01:00</td>\n      <td>False</td>\n    </tr>\n    <tr>\n      <th>4</th>\n      <td>build/output/knockout-min.js</td>\n      <td>Steve Sanderson</td>\n      <td>Initial state\\n</td>\n      <td>2010-07-05T18:42:37+01:00</td>\n      <td>False</td>\n    </tr>\n  </tbody>\n</table>\n</div>"
     },
     "execution_count": 5,
     "metadata": {},
     "output_type": "execute_result"
    }
   ],
   "source": [
    "data_src = \"analyse_data_all.json\"\n",
    "\n",
    "df = pd.read_json(data_src)\n",
    "\n",
    "df.head()"
   ]
  },
  {
   "cell_type": "code",
   "execution_count": 6,
   "metadata": {
    "id": "4W5BUQhFaL1v"
   },
   "outputs": [],
   "source": [
    "train_df, test_df = train_test_split(df, test_size=0.2)\n",
    "\n",
    "train_data, train_labels = train_df.loc[:, train_df.columns != 'is_broken'], train_df['is_broken'].astype(int)\n",
    "test_data, test_labels = test_df.loc[:, train_df.columns != 'is_broken'], test_df['is_broken'].astype(int)\n",
    "\n",
    "cat_features = [0, 1, 2, 3]"
   ]
  },
  {
   "cell_type": "code",
   "execution_count": 15,
   "metadata": {
    "id": "4cCNxLlkaZ39"
   },
   "outputs": [],
   "source": [
    "model = CatBoostClassifier(\n",
    "    cat_features=cat_features,\n",
    "    train_dir = \"bccommits\"\n",
    ")"
   ]
  },
  {
   "cell_type": "code",
   "execution_count": 16,
   "metadata": {
    "colab": {
     "base_uri": "https://localhost:8080/",
     "height": 34,
     "referenced_widgets": [
      "d14e0da4b0e8426dac0770d0ce2bd235"
     ]
    },
    "id": "FsxjLnuypoqG",
    "outputId": "c06573a7-90ae-44a2-a4ef-986c8870f812"
   },
   "outputs": [
    {
     "data": {
      "text/plain": "MetricVisualizer(layout=Layout(align_self='stretch', height='500px'))",
      "application/vnd.jupyter.widget-view+json": {
       "version_major": 2,
       "version_minor": 0,
       "model_id": "3561ab0e0feb4daeba3ecab9193f77d7"
      }
     },
     "metadata": {},
     "output_type": "display_data"
    },
    {
     "name": "stdout",
     "output_type": "stream",
     "text": [
      "Learning rate set to 0.01616\n",
      "0:\tlearn: 0.6861073\ttotal: 13.6ms\tremaining: 13.6s\n",
      "1:\tlearn: 0.6792228\ttotal: 50.5ms\tremaining: 25.2s\n",
      "2:\tlearn: 0.6725539\ttotal: 88.1ms\tremaining: 29.3s\n",
      "3:\tlearn: 0.6661847\ttotal: 113ms\tremaining: 28s\n",
      "4:\tlearn: 0.6600904\ttotal: 126ms\tremaining: 25s\n",
      "5:\tlearn: 0.6541806\ttotal: 138ms\tremaining: 22.8s\n",
      "6:\tlearn: 0.6484616\ttotal: 154ms\tremaining: 21.8s\n",
      "7:\tlearn: 0.6429251\ttotal: 164ms\tremaining: 20.4s\n",
      "8:\tlearn: 0.6376959\ttotal: 170ms\tremaining: 18.7s\n",
      "9:\tlearn: 0.6325833\ttotal: 182ms\tremaining: 18s\n",
      "10:\tlearn: 0.6276933\ttotal: 189ms\tremaining: 17s\n",
      "11:\tlearn: 0.6228778\ttotal: 211ms\tremaining: 17.3s\n",
      "12:\tlearn: 0.6183106\ttotal: 223ms\tremaining: 17s\n",
      "13:\tlearn: 0.6139336\ttotal: 239ms\tremaining: 16.8s\n",
      "14:\tlearn: 0.6096537\ttotal: 271ms\tremaining: 17.8s\n",
      "15:\tlearn: 0.6054072\ttotal: 302ms\tremaining: 18.6s\n",
      "16:\tlearn: 0.6014399\ttotal: 329ms\tremaining: 19s\n",
      "17:\tlearn: 0.5976150\ttotal: 350ms\tremaining: 19.1s\n",
      "18:\tlearn: 0.5939153\ttotal: 362ms\tremaining: 18.7s\n",
      "19:\tlearn: 0.5903063\ttotal: 377ms\tremaining: 18.5s\n",
      "20:\tlearn: 0.5868947\ttotal: 390ms\tremaining: 18.2s\n",
      "21:\tlearn: 0.5835521\ttotal: 407ms\tremaining: 18.1s\n",
      "22:\tlearn: 0.5802310\ttotal: 428ms\tremaining: 18.2s\n",
      "23:\tlearn: 0.5771149\ttotal: 450ms\tremaining: 18.3s\n",
      "24:\tlearn: 0.5740756\ttotal: 471ms\tremaining: 18.4s\n",
      "25:\tlearn: 0.5707378\ttotal: 500ms\tremaining: 18.7s\n",
      "26:\tlearn: 0.5677420\ttotal: 526ms\tremaining: 19s\n",
      "27:\tlearn: 0.5647025\ttotal: 565ms\tremaining: 19.6s\n",
      "28:\tlearn: 0.5621525\ttotal: 574ms\tremaining: 19.2s\n",
      "29:\tlearn: 0.5596914\ttotal: 587ms\tremaining: 19s\n",
      "30:\tlearn: 0.5572747\ttotal: 606ms\tremaining: 18.9s\n",
      "31:\tlearn: 0.5549326\ttotal: 626ms\tremaining: 18.9s\n",
      "32:\tlearn: 0.5526512\ttotal: 644ms\tremaining: 18.9s\n",
      "33:\tlearn: 0.5504671\ttotal: 656ms\tremaining: 18.6s\n",
      "34:\tlearn: 0.5483591\ttotal: 665ms\tremaining: 18.3s\n",
      "35:\tlearn: 0.5462826\ttotal: 679ms\tremaining: 18.2s\n",
      "36:\tlearn: 0.5441749\ttotal: 715ms\tremaining: 18.6s\n",
      "37:\tlearn: 0.5417484\ttotal: 739ms\tremaining: 18.7s\n",
      "38:\tlearn: 0.5388681\ttotal: 760ms\tremaining: 18.7s\n",
      "39:\tlearn: 0.5360244\ttotal: 782ms\tremaining: 18.8s\n",
      "40:\tlearn: 0.5337865\ttotal: 795ms\tremaining: 18.6s\n",
      "41:\tlearn: 0.5308599\ttotal: 822ms\tremaining: 18.8s\n",
      "42:\tlearn: 0.5282453\ttotal: 848ms\tremaining: 18.9s\n",
      "43:\tlearn: 0.5259649\ttotal: 875ms\tremaining: 19s\n",
      "44:\tlearn: 0.5237182\ttotal: 898ms\tremaining: 19.1s\n",
      "45:\tlearn: 0.5216975\ttotal: 922ms\tremaining: 19.1s\n",
      "46:\tlearn: 0.5192289\ttotal: 942ms\tremaining: 19.1s\n",
      "47:\tlearn: 0.5169795\ttotal: 962ms\tremaining: 19.1s\n",
      "48:\tlearn: 0.5150323\ttotal: 979ms\tremaining: 19s\n",
      "49:\tlearn: 0.5127201\ttotal: 1000ms\tremaining: 19s\n",
      "50:\tlearn: 0.5104787\ttotal: 1.02s\tremaining: 19s\n",
      "51:\tlearn: 0.5085366\ttotal: 1.04s\tremaining: 18.9s\n",
      "52:\tlearn: 0.5066251\ttotal: 1.06s\tremaining: 18.9s\n",
      "53:\tlearn: 0.5050362\ttotal: 1.07s\tremaining: 18.7s\n",
      "54:\tlearn: 0.5034223\ttotal: 1.09s\tremaining: 18.7s\n",
      "55:\tlearn: 0.5016743\ttotal: 1.11s\tremaining: 18.7s\n",
      "56:\tlearn: 0.4998791\ttotal: 1.13s\tremaining: 18.7s\n",
      "57:\tlearn: 0.4985274\ttotal: 1.14s\tremaining: 18.6s\n",
      "58:\tlearn: 0.4971291\ttotal: 1.17s\tremaining: 18.6s\n",
      "59:\tlearn: 0.4954329\ttotal: 1.19s\tremaining: 18.6s\n",
      "60:\tlearn: 0.4937931\ttotal: 1.21s\tremaining: 18.6s\n",
      "61:\tlearn: 0.4922765\ttotal: 1.23s\tremaining: 18.7s\n",
      "62:\tlearn: 0.4908061\ttotal: 1.25s\tremaining: 18.7s\n",
      "63:\tlearn: 0.4894028\ttotal: 1.27s\tremaining: 18.6s\n",
      "64:\tlearn: 0.4885364\ttotal: 1.28s\tremaining: 18.4s\n",
      "65:\tlearn: 0.4872612\ttotal: 1.3s\tremaining: 18.4s\n",
      "66:\tlearn: 0.4861431\ttotal: 1.32s\tremaining: 18.4s\n",
      "67:\tlearn: 0.4853546\ttotal: 1.33s\tremaining: 18.2s\n",
      "68:\tlearn: 0.4844184\ttotal: 1.35s\tremaining: 18.2s\n",
      "69:\tlearn: 0.4831430\ttotal: 1.37s\tremaining: 18.2s\n",
      "70:\tlearn: 0.4820451\ttotal: 1.39s\tremaining: 18.2s\n",
      "71:\tlearn: 0.4810601\ttotal: 1.41s\tremaining: 18.2s\n",
      "72:\tlearn: 0.4799956\ttotal: 1.43s\tremaining: 18.2s\n",
      "73:\tlearn: 0.4790713\ttotal: 1.45s\tremaining: 18.2s\n",
      "74:\tlearn: 0.4784589\ttotal: 1.47s\tremaining: 18.1s\n",
      "75:\tlearn: 0.4774859\ttotal: 1.48s\tremaining: 18s\n",
      "76:\tlearn: 0.4767223\ttotal: 1.5s\tremaining: 17.9s\n",
      "77:\tlearn: 0.4760503\ttotal: 1.52s\tremaining: 17.9s\n",
      "78:\tlearn: 0.4752486\ttotal: 1.54s\tremaining: 17.9s\n",
      "79:\tlearn: 0.4743423\ttotal: 1.56s\tremaining: 17.9s\n",
      "80:\tlearn: 0.4736116\ttotal: 1.58s\tremaining: 17.9s\n",
      "81:\tlearn: 0.4728503\ttotal: 1.6s\tremaining: 17.9s\n",
      "82:\tlearn: 0.4720464\ttotal: 1.62s\tremaining: 17.9s\n",
      "83:\tlearn: 0.4713503\ttotal: 1.64s\tremaining: 17.9s\n",
      "84:\tlearn: 0.4705307\ttotal: 1.66s\tremaining: 17.9s\n",
      "85:\tlearn: 0.4698921\ttotal: 1.68s\tremaining: 17.8s\n",
      "86:\tlearn: 0.4691961\ttotal: 1.7s\tremaining: 17.8s\n",
      "87:\tlearn: 0.4688365\ttotal: 1.72s\tremaining: 17.8s\n",
      "88:\tlearn: 0.4682256\ttotal: 1.74s\tremaining: 17.8s\n",
      "89:\tlearn: 0.4678432\ttotal: 1.75s\tremaining: 17.7s\n",
      "90:\tlearn: 0.4673498\ttotal: 1.76s\tremaining: 17.6s\n",
      "91:\tlearn: 0.4668401\ttotal: 1.78s\tremaining: 17.6s\n",
      "92:\tlearn: 0.4662619\ttotal: 1.8s\tremaining: 17.6s\n",
      "93:\tlearn: 0.4656884\ttotal: 1.82s\tremaining: 17.6s\n",
      "94:\tlearn: 0.4652185\ttotal: 1.84s\tremaining: 17.5s\n",
      "95:\tlearn: 0.4647030\ttotal: 1.86s\tremaining: 17.5s\n",
      "96:\tlearn: 0.4642006\ttotal: 1.88s\tremaining: 17.5s\n",
      "97:\tlearn: 0.4636738\ttotal: 1.9s\tremaining: 17.5s\n",
      "98:\tlearn: 0.4631829\ttotal: 1.94s\tremaining: 17.6s\n",
      "99:\tlearn: 0.4625799\ttotal: 1.97s\tremaining: 17.7s\n",
      "100:\tlearn: 0.4622654\ttotal: 2.01s\tremaining: 17.9s\n",
      "101:\tlearn: 0.4619178\ttotal: 2.05s\tremaining: 18s\n",
      "102:\tlearn: 0.4615271\ttotal: 2.08s\tremaining: 18.1s\n",
      "103:\tlearn: 0.4611294\ttotal: 2.12s\tremaining: 18.2s\n",
      "104:\tlearn: 0.4608106\ttotal: 2.14s\tremaining: 18.3s\n",
      "105:\tlearn: 0.4604446\ttotal: 2.18s\tremaining: 18.4s\n",
      "106:\tlearn: 0.4600664\ttotal: 2.21s\tremaining: 18.5s\n",
      "107:\tlearn: 0.4595999\ttotal: 2.25s\tremaining: 18.6s\n",
      "108:\tlearn: 0.4591452\ttotal: 2.28s\tremaining: 18.7s\n",
      "109:\tlearn: 0.4586392\ttotal: 2.3s\tremaining: 18.6s\n",
      "110:\tlearn: 0.4582027\ttotal: 2.32s\tremaining: 18.6s\n",
      "111:\tlearn: 0.4580136\ttotal: 2.34s\tremaining: 18.6s\n",
      "112:\tlearn: 0.4576346\ttotal: 2.37s\tremaining: 18.6s\n",
      "113:\tlearn: 0.4571864\ttotal: 2.39s\tremaining: 18.6s\n",
      "114:\tlearn: 0.4569142\ttotal: 2.41s\tremaining: 18.6s\n",
      "115:\tlearn: 0.4566120\ttotal: 2.43s\tremaining: 18.5s\n",
      "116:\tlearn: 0.4561664\ttotal: 2.45s\tremaining: 18.5s\n",
      "117:\tlearn: 0.4558161\ttotal: 2.47s\tremaining: 18.5s\n",
      "118:\tlearn: 0.4555663\ttotal: 2.49s\tremaining: 18.4s\n",
      "119:\tlearn: 0.4554845\ttotal: 2.49s\tremaining: 18.3s\n",
      "120:\tlearn: 0.4551679\ttotal: 2.51s\tremaining: 18.3s\n",
      "121:\tlearn: 0.4548525\ttotal: 2.53s\tremaining: 18.2s\n",
      "122:\tlearn: 0.4544220\ttotal: 2.55s\tremaining: 18.2s\n",
      "123:\tlearn: 0.4540152\ttotal: 2.57s\tremaining: 18.2s\n",
      "124:\tlearn: 0.4537768\ttotal: 2.59s\tremaining: 18.2s\n",
      "125:\tlearn: 0.4534726\ttotal: 2.61s\tremaining: 18.1s\n",
      "126:\tlearn: 0.4531197\ttotal: 2.63s\tremaining: 18.1s\n",
      "127:\tlearn: 0.4529952\ttotal: 2.64s\tremaining: 18s\n",
      "128:\tlearn: 0.4528587\ttotal: 2.66s\tremaining: 18s\n",
      "129:\tlearn: 0.4525269\ttotal: 2.69s\tremaining: 18s\n",
      "130:\tlearn: 0.4522333\ttotal: 2.71s\tremaining: 17.9s\n",
      "131:\tlearn: 0.4520368\ttotal: 2.72s\tremaining: 17.9s\n",
      "132:\tlearn: 0.4517680\ttotal: 2.74s\tremaining: 17.9s\n",
      "133:\tlearn: 0.4516934\ttotal: 2.75s\tremaining: 17.8s\n",
      "134:\tlearn: 0.4515164\ttotal: 2.77s\tremaining: 17.8s\n",
      "135:\tlearn: 0.4510006\ttotal: 2.79s\tremaining: 17.7s\n",
      "136:\tlearn: 0.4506273\ttotal: 2.81s\tremaining: 17.7s\n",
      "137:\tlearn: 0.4504214\ttotal: 2.83s\tremaining: 17.7s\n",
      "138:\tlearn: 0.4502291\ttotal: 2.85s\tremaining: 17.7s\n",
      "139:\tlearn: 0.4499930\ttotal: 2.89s\tremaining: 17.8s\n",
      "140:\tlearn: 0.4496445\ttotal: 2.93s\tremaining: 17.8s\n",
      "141:\tlearn: 0.4494722\ttotal: 2.96s\tremaining: 17.9s\n",
      "142:\tlearn: 0.4493330\ttotal: 2.99s\tremaining: 17.9s\n",
      "143:\tlearn: 0.4489790\ttotal: 3.01s\tremaining: 17.9s\n",
      "144:\tlearn: 0.4486919\ttotal: 3.03s\tremaining: 17.9s\n",
      "145:\tlearn: 0.4484587\ttotal: 3.05s\tremaining: 17.8s\n",
      "146:\tlearn: 0.4484293\ttotal: 3.06s\tremaining: 17.7s\n",
      "147:\tlearn: 0.4481614\ttotal: 3.08s\tremaining: 17.7s\n",
      "148:\tlearn: 0.4479358\ttotal: 3.1s\tremaining: 17.7s\n",
      "149:\tlearn: 0.4478076\ttotal: 3.11s\tremaining: 17.6s\n",
      "150:\tlearn: 0.4475920\ttotal: 3.14s\tremaining: 17.6s\n",
      "151:\tlearn: 0.4471072\ttotal: 3.16s\tremaining: 17.6s\n",
      "152:\tlearn: 0.4469347\ttotal: 3.18s\tremaining: 17.6s\n",
      "153:\tlearn: 0.4467838\ttotal: 3.2s\tremaining: 17.6s\n",
      "154:\tlearn: 0.4465919\ttotal: 3.21s\tremaining: 17.5s\n",
      "155:\tlearn: 0.4462551\ttotal: 3.24s\tremaining: 17.5s\n",
      "156:\tlearn: 0.4460489\ttotal: 3.26s\tremaining: 17.5s\n",
      "157:\tlearn: 0.4458700\ttotal: 3.28s\tremaining: 17.5s\n",
      "158:\tlearn: 0.4455002\ttotal: 3.3s\tremaining: 17.4s\n",
      "159:\tlearn: 0.4452070\ttotal: 3.32s\tremaining: 17.4s\n",
      "160:\tlearn: 0.4449703\ttotal: 3.34s\tremaining: 17.4s\n",
      "161:\tlearn: 0.4447708\ttotal: 3.36s\tremaining: 17.4s\n",
      "162:\tlearn: 0.4446000\ttotal: 3.38s\tremaining: 17.4s\n",
      "163:\tlearn: 0.4444315\ttotal: 3.4s\tremaining: 17.3s\n",
      "164:\tlearn: 0.4440207\ttotal: 3.42s\tremaining: 17.3s\n",
      "165:\tlearn: 0.4437120\ttotal: 3.44s\tremaining: 17.3s\n",
      "166:\tlearn: 0.4436038\ttotal: 3.46s\tremaining: 17.3s\n",
      "167:\tlearn: 0.4434521\ttotal: 3.48s\tremaining: 17.2s\n",
      "168:\tlearn: 0.4431745\ttotal: 3.5s\tremaining: 17.2s\n",
      "169:\tlearn: 0.4430118\ttotal: 3.52s\tremaining: 17.2s\n",
      "170:\tlearn: 0.4428086\ttotal: 3.54s\tremaining: 17.2s\n",
      "171:\tlearn: 0.4426679\ttotal: 3.56s\tremaining: 17.1s\n",
      "172:\tlearn: 0.4425360\ttotal: 3.58s\tremaining: 17.1s\n",
      "173:\tlearn: 0.4423136\ttotal: 3.6s\tremaining: 17.1s\n",
      "174:\tlearn: 0.4422129\ttotal: 3.62s\tremaining: 17.1s\n",
      "175:\tlearn: 0.4421237\ttotal: 3.65s\tremaining: 17.1s\n",
      "176:\tlearn: 0.4418679\ttotal: 3.66s\tremaining: 17s\n",
      "177:\tlearn: 0.4417216\ttotal: 3.68s\tremaining: 17s\n",
      "178:\tlearn: 0.4415881\ttotal: 3.7s\tremaining: 17s\n",
      "179:\tlearn: 0.4414820\ttotal: 3.72s\tremaining: 17s\n",
      "180:\tlearn: 0.4412803\ttotal: 3.74s\tremaining: 16.9s\n",
      "181:\tlearn: 0.4411262\ttotal: 3.76s\tremaining: 16.9s\n",
      "182:\tlearn: 0.4410157\ttotal: 3.78s\tremaining: 16.9s\n",
      "183:\tlearn: 0.4408750\ttotal: 3.8s\tremaining: 16.9s\n",
      "184:\tlearn: 0.4406477\ttotal: 3.82s\tremaining: 16.8s\n",
      "185:\tlearn: 0.4405282\ttotal: 3.84s\tremaining: 16.8s\n",
      "186:\tlearn: 0.4403580\ttotal: 3.86s\tremaining: 16.8s\n",
      "187:\tlearn: 0.4400766\ttotal: 3.89s\tremaining: 16.8s\n",
      "188:\tlearn: 0.4399473\ttotal: 3.91s\tremaining: 16.8s\n",
      "189:\tlearn: 0.4396779\ttotal: 3.93s\tremaining: 16.7s\n",
      "190:\tlearn: 0.4394243\ttotal: 3.95s\tremaining: 16.7s\n",
      "191:\tlearn: 0.4390978\ttotal: 3.97s\tremaining: 16.7s\n",
      "192:\tlearn: 0.4390053\ttotal: 3.99s\tremaining: 16.7s\n",
      "193:\tlearn: 0.4388832\ttotal: 4.01s\tremaining: 16.7s\n",
      "194:\tlearn: 0.4386726\ttotal: 4.04s\tremaining: 16.7s\n",
      "195:\tlearn: 0.4385107\ttotal: 4.05s\tremaining: 16.6s\n",
      "196:\tlearn: 0.4384245\ttotal: 4.08s\tremaining: 16.6s\n",
      "197:\tlearn: 0.4382062\ttotal: 4.09s\tremaining: 16.6s\n",
      "198:\tlearn: 0.4381402\ttotal: 4.11s\tremaining: 16.6s\n",
      "199:\tlearn: 0.4380803\ttotal: 4.13s\tremaining: 16.5s\n",
      "200:\tlearn: 0.4377854\ttotal: 4.15s\tremaining: 16.5s\n",
      "201:\tlearn: 0.4377020\ttotal: 4.17s\tremaining: 16.5s\n",
      "202:\tlearn: 0.4375841\ttotal: 4.19s\tremaining: 16.5s\n",
      "203:\tlearn: 0.4374727\ttotal: 4.22s\tremaining: 16.5s\n",
      "204:\tlearn: 0.4373612\ttotal: 4.24s\tremaining: 16.5s\n",
      "205:\tlearn: 0.4373497\ttotal: 4.26s\tremaining: 16.4s\n",
      "206:\tlearn: 0.4372883\ttotal: 4.28s\tremaining: 16.4s\n",
      "207:\tlearn: 0.4372189\ttotal: 4.3s\tremaining: 16.4s\n",
      "208:\tlearn: 0.4370713\ttotal: 4.32s\tremaining: 16.3s\n",
      "209:\tlearn: 0.4370693\ttotal: 4.32s\tremaining: 16.3s\n",
      "210:\tlearn: 0.4369084\ttotal: 4.34s\tremaining: 16.2s\n",
      "211:\tlearn: 0.4368091\ttotal: 4.37s\tremaining: 16.2s\n",
      "212:\tlearn: 0.4366626\ttotal: 4.39s\tremaining: 16.2s\n",
      "213:\tlearn: 0.4365226\ttotal: 4.41s\tremaining: 16.2s\n",
      "214:\tlearn: 0.4363893\ttotal: 4.43s\tremaining: 16.2s\n",
      "215:\tlearn: 0.4362742\ttotal: 4.47s\tremaining: 16.2s\n",
      "216:\tlearn: 0.4361040\ttotal: 4.5s\tremaining: 16.3s\n",
      "217:\tlearn: 0.4360690\ttotal: 4.53s\tremaining: 16.2s\n",
      "218:\tlearn: 0.4359251\ttotal: 4.54s\tremaining: 16.2s\n",
      "219:\tlearn: 0.4355793\ttotal: 4.56s\tremaining: 16.2s\n",
      "220:\tlearn: 0.4355781\ttotal: 4.57s\tremaining: 16.1s\n",
      "221:\tlearn: 0.4354716\ttotal: 4.59s\tremaining: 16.1s\n",
      "222:\tlearn: 0.4354074\ttotal: 4.61s\tremaining: 16.1s\n",
      "223:\tlearn: 0.4352185\ttotal: 4.63s\tremaining: 16s\n",
      "224:\tlearn: 0.4352079\ttotal: 4.65s\tremaining: 16s\n",
      "225:\tlearn: 0.4348524\ttotal: 4.68s\tremaining: 16s\n",
      "226:\tlearn: 0.4345000\ttotal: 4.7s\tremaining: 16s\n",
      "227:\tlearn: 0.4343890\ttotal: 4.71s\tremaining: 16s\n",
      "228:\tlearn: 0.4342748\ttotal: 4.74s\tremaining: 15.9s\n",
      "229:\tlearn: 0.4341955\ttotal: 4.75s\tremaining: 15.9s\n",
      "230:\tlearn: 0.4340903\ttotal: 4.77s\tremaining: 15.9s\n",
      "231:\tlearn: 0.4340134\ttotal: 4.79s\tremaining: 15.9s\n",
      "232:\tlearn: 0.4338889\ttotal: 4.82s\tremaining: 15.9s\n",
      "233:\tlearn: 0.4338038\ttotal: 4.84s\tremaining: 15.8s\n",
      "234:\tlearn: 0.4337139\ttotal: 4.86s\tremaining: 15.8s\n",
      "235:\tlearn: 0.4336376\ttotal: 4.88s\tremaining: 15.8s\n",
      "236:\tlearn: 0.4335442\ttotal: 4.9s\tremaining: 15.8s\n",
      "237:\tlearn: 0.4335385\ttotal: 4.92s\tremaining: 15.7s\n",
      "238:\tlearn: 0.4334396\ttotal: 4.94s\tremaining: 15.7s\n",
      "239:\tlearn: 0.4333107\ttotal: 4.96s\tremaining: 15.7s\n",
      "240:\tlearn: 0.4331163\ttotal: 4.97s\tremaining: 15.7s\n",
      "241:\tlearn: 0.4330851\ttotal: 4.99s\tremaining: 15.6s\n",
      "242:\tlearn: 0.4330227\ttotal: 5.01s\tremaining: 15.6s\n",
      "243:\tlearn: 0.4328325\ttotal: 5.03s\tremaining: 15.6s\n",
      "244:\tlearn: 0.4327163\ttotal: 5.05s\tremaining: 15.6s\n",
      "245:\tlearn: 0.4325655\ttotal: 5.07s\tremaining: 15.6s\n",
      "246:\tlearn: 0.4324952\ttotal: 5.1s\tremaining: 15.5s\n",
      "247:\tlearn: 0.4324873\ttotal: 5.11s\tremaining: 15.5s\n",
      "248:\tlearn: 0.4323960\ttotal: 5.13s\tremaining: 15.5s\n",
      "249:\tlearn: 0.4323726\ttotal: 5.15s\tremaining: 15.4s\n",
      "250:\tlearn: 0.4322802\ttotal: 5.17s\tremaining: 15.4s\n",
      "251:\tlearn: 0.4321670\ttotal: 5.19s\tremaining: 15.4s\n",
      "252:\tlearn: 0.4320737\ttotal: 5.21s\tremaining: 15.4s\n",
      "253:\tlearn: 0.4318025\ttotal: 5.24s\tremaining: 15.4s\n",
      "254:\tlearn: 0.4317395\ttotal: 5.27s\tremaining: 15.4s\n",
      "255:\tlearn: 0.4317230\ttotal: 5.29s\tremaining: 15.4s\n",
      "256:\tlearn: 0.4317209\ttotal: 5.31s\tremaining: 15.3s\n",
      "257:\tlearn: 0.4316349\ttotal: 5.33s\tremaining: 15.3s\n",
      "258:\tlearn: 0.4314896\ttotal: 5.35s\tremaining: 15.3s\n",
      "259:\tlearn: 0.4314241\ttotal: 5.37s\tremaining: 15.3s\n",
      "260:\tlearn: 0.4312416\ttotal: 5.39s\tremaining: 15.3s\n",
      "261:\tlearn: 0.4311933\ttotal: 5.41s\tremaining: 15.2s\n",
      "262:\tlearn: 0.4309765\ttotal: 5.43s\tremaining: 15.2s\n",
      "263:\tlearn: 0.4308681\ttotal: 5.45s\tremaining: 15.2s\n",
      "264:\tlearn: 0.4307392\ttotal: 5.47s\tremaining: 15.2s\n",
      "265:\tlearn: 0.4307366\ttotal: 5.47s\tremaining: 15.1s\n",
      "266:\tlearn: 0.4306090\ttotal: 5.5s\tremaining: 15.1s\n",
      "267:\tlearn: 0.4306073\ttotal: 5.5s\tremaining: 15s\n",
      "268:\tlearn: 0.4306026\ttotal: 5.51s\tremaining: 15s\n",
      "269:\tlearn: 0.4305204\ttotal: 5.53s\tremaining: 15s\n",
      "270:\tlearn: 0.4304144\ttotal: 5.55s\tremaining: 14.9s\n",
      "271:\tlearn: 0.4302438\ttotal: 5.57s\tremaining: 14.9s\n",
      "272:\tlearn: 0.4302218\ttotal: 5.59s\tremaining: 14.9s\n",
      "273:\tlearn: 0.4301545\ttotal: 5.61s\tremaining: 14.9s\n",
      "274:\tlearn: 0.4299890\ttotal: 5.63s\tremaining: 14.8s\n",
      "275:\tlearn: 0.4299635\ttotal: 5.65s\tremaining: 14.8s\n",
      "276:\tlearn: 0.4299625\ttotal: 5.66s\tremaining: 14.8s\n",
      "277:\tlearn: 0.4298836\ttotal: 5.68s\tremaining: 14.8s\n",
      "278:\tlearn: 0.4298146\ttotal: 5.7s\tremaining: 14.7s\n",
      "279:\tlearn: 0.4297349\ttotal: 5.72s\tremaining: 14.7s\n",
      "280:\tlearn: 0.4296526\ttotal: 5.74s\tremaining: 14.7s\n",
      "281:\tlearn: 0.4295927\ttotal: 5.76s\tremaining: 14.7s\n",
      "282:\tlearn: 0.4294645\ttotal: 5.78s\tremaining: 14.6s\n",
      "283:\tlearn: 0.4293547\ttotal: 5.8s\tremaining: 14.6s\n",
      "284:\tlearn: 0.4292448\ttotal: 5.82s\tremaining: 14.6s\n",
      "285:\tlearn: 0.4292448\ttotal: 5.83s\tremaining: 14.5s\n",
      "286:\tlearn: 0.4291773\ttotal: 5.85s\tremaining: 14.5s\n",
      "287:\tlearn: 0.4289931\ttotal: 5.87s\tremaining: 14.5s\n",
      "288:\tlearn: 0.4288835\ttotal: 5.88s\tremaining: 14.5s\n",
      "289:\tlearn: 0.4288835\ttotal: 5.89s\tremaining: 14.4s\n",
      "290:\tlearn: 0.4288731\ttotal: 5.91s\tremaining: 14.4s\n",
      "291:\tlearn: 0.4287768\ttotal: 5.93s\tremaining: 14.4s\n",
      "292:\tlearn: 0.4287359\ttotal: 5.95s\tremaining: 14.4s\n",
      "293:\tlearn: 0.4287006\ttotal: 5.96s\tremaining: 14.3s\n",
      "294:\tlearn: 0.4285130\ttotal: 5.98s\tremaining: 14.3s\n",
      "295:\tlearn: 0.4284768\ttotal: 6.03s\tremaining: 14.3s\n",
      "296:\tlearn: 0.4283802\ttotal: 6.07s\tremaining: 14.4s\n",
      "297:\tlearn: 0.4282645\ttotal: 6.11s\tremaining: 14.4s\n",
      "298:\tlearn: 0.4281745\ttotal: 6.14s\tremaining: 14.4s\n",
      "299:\tlearn: 0.4281522\ttotal: 6.17s\tremaining: 14.4s\n",
      "300:\tlearn: 0.4281007\ttotal: 6.2s\tremaining: 14.4s\n",
      "301:\tlearn: 0.4280242\ttotal: 6.24s\tremaining: 14.4s\n",
      "302:\tlearn: 0.4279634\ttotal: 6.26s\tremaining: 14.4s\n",
      "303:\tlearn: 0.4278912\ttotal: 6.28s\tremaining: 14.4s\n",
      "304:\tlearn: 0.4277147\ttotal: 6.3s\tremaining: 14.4s\n",
      "305:\tlearn: 0.4276435\ttotal: 6.32s\tremaining: 14.3s\n",
      "306:\tlearn: 0.4275351\ttotal: 6.34s\tremaining: 14.3s\n",
      "307:\tlearn: 0.4274593\ttotal: 6.36s\tremaining: 14.3s\n",
      "308:\tlearn: 0.4274362\ttotal: 6.38s\tremaining: 14.3s\n",
      "309:\tlearn: 0.4274362\ttotal: 6.39s\tremaining: 14.2s\n",
      "310:\tlearn: 0.4273557\ttotal: 6.41s\tremaining: 14.2s\n",
      "311:\tlearn: 0.4272648\ttotal: 6.43s\tremaining: 14.2s\n",
      "312:\tlearn: 0.4271820\ttotal: 6.45s\tremaining: 14.2s\n",
      "313:\tlearn: 0.4270457\ttotal: 6.47s\tremaining: 14.1s\n",
      "314:\tlearn: 0.4270353\ttotal: 6.47s\tremaining: 14.1s\n",
      "315:\tlearn: 0.4269865\ttotal: 6.49s\tremaining: 14.1s\n",
      "316:\tlearn: 0.4268854\ttotal: 6.51s\tremaining: 14s\n",
      "317:\tlearn: 0.4266800\ttotal: 6.53s\tremaining: 14s\n",
      "318:\tlearn: 0.4266385\ttotal: 6.55s\tremaining: 14s\n",
      "319:\tlearn: 0.4266029\ttotal: 6.57s\tremaining: 14s\n",
      "320:\tlearn: 0.4265207\ttotal: 6.59s\tremaining: 13.9s\n",
      "321:\tlearn: 0.4265079\ttotal: 6.6s\tremaining: 13.9s\n",
      "322:\tlearn: 0.4264182\ttotal: 6.62s\tremaining: 13.9s\n",
      "323:\tlearn: 0.4263148\ttotal: 6.64s\tremaining: 13.9s\n",
      "324:\tlearn: 0.4262774\ttotal: 6.66s\tremaining: 13.8s\n",
      "325:\tlearn: 0.4262184\ttotal: 6.69s\tremaining: 13.8s\n",
      "326:\tlearn: 0.4260626\ttotal: 6.71s\tremaining: 13.8s\n",
      "327:\tlearn: 0.4260002\ttotal: 6.73s\tremaining: 13.8s\n",
      "328:\tlearn: 0.4259527\ttotal: 6.75s\tremaining: 13.8s\n",
      "329:\tlearn: 0.4257445\ttotal: 6.79s\tremaining: 13.8s\n",
      "330:\tlearn: 0.4256825\ttotal: 6.82s\tremaining: 13.8s\n",
      "331:\tlearn: 0.4255748\ttotal: 6.86s\tremaining: 13.8s\n",
      "332:\tlearn: 0.4255432\ttotal: 6.89s\tremaining: 13.8s\n",
      "333:\tlearn: 0.4253181\ttotal: 6.93s\tremaining: 13.8s\n",
      "334:\tlearn: 0.4252675\ttotal: 6.95s\tremaining: 13.8s\n",
      "335:\tlearn: 0.4252367\ttotal: 6.97s\tremaining: 13.8s\n",
      "336:\tlearn: 0.4251998\ttotal: 6.99s\tremaining: 13.7s\n",
      "337:\tlearn: 0.4250470\ttotal: 7s\tremaining: 13.7s\n",
      "338:\tlearn: 0.4249789\ttotal: 7.02s\tremaining: 13.7s\n",
      "339:\tlearn: 0.4249316\ttotal: 7.04s\tremaining: 13.7s\n",
      "340:\tlearn: 0.4248589\ttotal: 7.06s\tremaining: 13.7s\n",
      "341:\tlearn: 0.4247925\ttotal: 7.09s\tremaining: 13.6s\n",
      "342:\tlearn: 0.4247036\ttotal: 7.12s\tremaining: 13.6s\n",
      "343:\tlearn: 0.4246087\ttotal: 7.13s\tremaining: 13.6s\n",
      "344:\tlearn: 0.4245281\ttotal: 7.15s\tremaining: 13.6s\n",
      "345:\tlearn: 0.4245101\ttotal: 7.17s\tremaining: 13.6s\n",
      "346:\tlearn: 0.4245027\ttotal: 7.19s\tremaining: 13.5s\n",
      "347:\tlearn: 0.4245007\ttotal: 7.2s\tremaining: 13.5s\n",
      "348:\tlearn: 0.4244582\ttotal: 7.22s\tremaining: 13.5s\n",
      "349:\tlearn: 0.4244555\ttotal: 7.23s\tremaining: 13.4s\n",
      "350:\tlearn: 0.4244008\ttotal: 7.25s\tremaining: 13.4s\n",
      "351:\tlearn: 0.4242602\ttotal: 7.27s\tremaining: 13.4s\n",
      "352:\tlearn: 0.4242348\ttotal: 7.29s\tremaining: 13.4s\n",
      "353:\tlearn: 0.4241713\ttotal: 7.32s\tremaining: 13.3s\n",
      "354:\tlearn: 0.4241654\ttotal: 7.33s\tremaining: 13.3s\n",
      "355:\tlearn: 0.4241471\ttotal: 7.35s\tremaining: 13.3s\n",
      "356:\tlearn: 0.4239954\ttotal: 7.37s\tremaining: 13.3s\n",
      "357:\tlearn: 0.4239217\ttotal: 7.39s\tremaining: 13.2s\n",
      "358:\tlearn: 0.4238545\ttotal: 7.41s\tremaining: 13.2s\n",
      "359:\tlearn: 0.4238275\ttotal: 7.42s\tremaining: 13.2s\n",
      "360:\tlearn: 0.4237574\ttotal: 7.45s\tremaining: 13.2s\n",
      "361:\tlearn: 0.4236906\ttotal: 7.46s\tremaining: 13.2s\n",
      "362:\tlearn: 0.4235713\ttotal: 7.48s\tremaining: 13.1s\n",
      "363:\tlearn: 0.4234386\ttotal: 7.51s\tremaining: 13.1s\n",
      "364:\tlearn: 0.4234181\ttotal: 7.53s\tremaining: 13.1s\n",
      "365:\tlearn: 0.4233831\ttotal: 7.55s\tremaining: 13.1s\n",
      "366:\tlearn: 0.4232935\ttotal: 7.57s\tremaining: 13.1s\n",
      "367:\tlearn: 0.4232276\ttotal: 7.59s\tremaining: 13s\n",
      "368:\tlearn: 0.4231409\ttotal: 7.61s\tremaining: 13s\n",
      "369:\tlearn: 0.4230422\ttotal: 7.63s\tremaining: 13s\n",
      "370:\tlearn: 0.4229884\ttotal: 7.65s\tremaining: 13s\n",
      "371:\tlearn: 0.4229330\ttotal: 7.67s\tremaining: 12.9s\n",
      "372:\tlearn: 0.4228979\ttotal: 7.69s\tremaining: 12.9s\n",
      "373:\tlearn: 0.4228755\ttotal: 7.71s\tremaining: 12.9s\n",
      "374:\tlearn: 0.4227244\ttotal: 7.73s\tremaining: 12.9s\n",
      "375:\tlearn: 0.4226606\ttotal: 7.75s\tremaining: 12.9s\n",
      "376:\tlearn: 0.4225258\ttotal: 7.77s\tremaining: 12.8s\n",
      "377:\tlearn: 0.4224502\ttotal: 7.79s\tremaining: 12.8s\n",
      "378:\tlearn: 0.4223033\ttotal: 7.81s\tremaining: 12.8s\n",
      "379:\tlearn: 0.4222962\ttotal: 7.82s\tremaining: 12.8s\n",
      "380:\tlearn: 0.4222027\ttotal: 7.84s\tremaining: 12.7s\n",
      "381:\tlearn: 0.4220867\ttotal: 7.86s\tremaining: 12.7s\n",
      "382:\tlearn: 0.4219435\ttotal: 7.88s\tremaining: 12.7s\n",
      "383:\tlearn: 0.4218774\ttotal: 7.9s\tremaining: 12.7s\n",
      "384:\tlearn: 0.4217915\ttotal: 7.92s\tremaining: 12.7s\n",
      "385:\tlearn: 0.4217311\ttotal: 7.94s\tremaining: 12.6s\n",
      "386:\tlearn: 0.4216634\ttotal: 7.96s\tremaining: 12.6s\n",
      "387:\tlearn: 0.4215378\ttotal: 7.98s\tremaining: 12.6s\n",
      "388:\tlearn: 0.4214926\ttotal: 8s\tremaining: 12.6s\n",
      "389:\tlearn: 0.4214447\ttotal: 8.02s\tremaining: 12.5s\n",
      "390:\tlearn: 0.4213400\ttotal: 8.04s\tremaining: 12.5s\n",
      "391:\tlearn: 0.4212536\ttotal: 8.06s\tremaining: 12.5s\n",
      "392:\tlearn: 0.4212004\ttotal: 8.08s\tremaining: 12.5s\n",
      "393:\tlearn: 0.4210515\ttotal: 8.1s\tremaining: 12.5s\n",
      "394:\tlearn: 0.4210353\ttotal: 8.13s\tremaining: 12.4s\n",
      "395:\tlearn: 0.4210340\ttotal: 8.14s\tremaining: 12.4s\n",
      "396:\tlearn: 0.4210293\ttotal: 8.15s\tremaining: 12.4s\n",
      "397:\tlearn: 0.4210048\ttotal: 8.17s\tremaining: 12.4s\n",
      "398:\tlearn: 0.4209776\ttotal: 8.19s\tremaining: 12.3s\n",
      "399:\tlearn: 0.4208843\ttotal: 8.21s\tremaining: 12.3s\n",
      "400:\tlearn: 0.4208229\ttotal: 8.23s\tremaining: 12.3s\n",
      "401:\tlearn: 0.4208222\ttotal: 8.25s\tremaining: 12.3s\n",
      "402:\tlearn: 0.4207812\ttotal: 8.27s\tremaining: 12.2s\n",
      "403:\tlearn: 0.4206972\ttotal: 8.29s\tremaining: 12.2s\n",
      "404:\tlearn: 0.4206175\ttotal: 8.3s\tremaining: 12.2s\n",
      "405:\tlearn: 0.4205997\ttotal: 8.32s\tremaining: 12.2s\n",
      "406:\tlearn: 0.4205752\ttotal: 8.34s\tremaining: 12.2s\n",
      "407:\tlearn: 0.4204844\ttotal: 8.36s\tremaining: 12.1s\n",
      "408:\tlearn: 0.4203087\ttotal: 8.39s\tremaining: 12.1s\n",
      "409:\tlearn: 0.4202050\ttotal: 8.41s\tremaining: 12.1s\n",
      "410:\tlearn: 0.4200984\ttotal: 8.43s\tremaining: 12.1s\n",
      "411:\tlearn: 0.4198919\ttotal: 8.45s\tremaining: 12.1s\n",
      "412:\tlearn: 0.4198245\ttotal: 8.46s\tremaining: 12s\n",
      "413:\tlearn: 0.4196082\ttotal: 8.48s\tremaining: 12s\n",
      "414:\tlearn: 0.4195439\ttotal: 8.5s\tremaining: 12s\n",
      "415:\tlearn: 0.4194996\ttotal: 8.52s\tremaining: 12s\n",
      "416:\tlearn: 0.4194861\ttotal: 8.54s\tremaining: 11.9s\n",
      "417:\tlearn: 0.4194514\ttotal: 8.58s\tremaining: 11.9s\n",
      "418:\tlearn: 0.4193518\ttotal: 8.6s\tremaining: 11.9s\n",
      "419:\tlearn: 0.4193016\ttotal: 8.62s\tremaining: 11.9s\n",
      "420:\tlearn: 0.4192931\ttotal: 8.63s\tremaining: 11.9s\n",
      "421:\tlearn: 0.4192676\ttotal: 8.65s\tremaining: 11.8s\n",
      "422:\tlearn: 0.4191801\ttotal: 8.67s\tremaining: 11.8s\n",
      "423:\tlearn: 0.4191444\ttotal: 8.69s\tremaining: 11.8s\n",
      "424:\tlearn: 0.4190270\ttotal: 8.71s\tremaining: 11.8s\n",
      "425:\tlearn: 0.4190104\ttotal: 8.73s\tremaining: 11.8s\n",
      "426:\tlearn: 0.4189883\ttotal: 8.74s\tremaining: 11.7s\n",
      "427:\tlearn: 0.4189723\ttotal: 8.76s\tremaining: 11.7s\n",
      "428:\tlearn: 0.4189703\ttotal: 8.77s\tremaining: 11.7s\n",
      "429:\tlearn: 0.4189159\ttotal: 8.8s\tremaining: 11.7s\n",
      "430:\tlearn: 0.4188358\ttotal: 8.82s\tremaining: 11.6s\n",
      "431:\tlearn: 0.4188326\ttotal: 8.82s\tremaining: 11.6s\n",
      "432:\tlearn: 0.4188325\ttotal: 8.83s\tremaining: 11.6s\n",
      "433:\tlearn: 0.4187422\ttotal: 8.85s\tremaining: 11.5s\n",
      "434:\tlearn: 0.4186998\ttotal: 8.87s\tremaining: 11.5s\n",
      "435:\tlearn: 0.4186494\ttotal: 8.89s\tremaining: 11.5s\n",
      "436:\tlearn: 0.4186060\ttotal: 8.91s\tremaining: 11.5s\n",
      "437:\tlearn: 0.4185417\ttotal: 8.93s\tremaining: 11.5s\n",
      "438:\tlearn: 0.4184274\ttotal: 8.95s\tremaining: 11.4s\n",
      "439:\tlearn: 0.4183750\ttotal: 8.97s\tremaining: 11.4s\n",
      "440:\tlearn: 0.4182609\ttotal: 8.99s\tremaining: 11.4s\n",
      "441:\tlearn: 0.4182198\ttotal: 9.01s\tremaining: 11.4s\n",
      "442:\tlearn: 0.4182150\ttotal: 9.02s\tremaining: 11.3s\n",
      "443:\tlearn: 0.4181180\ttotal: 9.04s\tremaining: 11.3s\n",
      "444:\tlearn: 0.4180511\ttotal: 9.06s\tremaining: 11.3s\n",
      "445:\tlearn: 0.4180475\ttotal: 9.07s\tremaining: 11.3s\n",
      "446:\tlearn: 0.4180237\ttotal: 9.09s\tremaining: 11.3s\n",
      "447:\tlearn: 0.4178811\ttotal: 9.12s\tremaining: 11.2s\n",
      "448:\tlearn: 0.4178718\ttotal: 9.14s\tremaining: 11.2s\n",
      "449:\tlearn: 0.4178285\ttotal: 9.16s\tremaining: 11.2s\n",
      "450:\tlearn: 0.4177735\ttotal: 9.18s\tremaining: 11.2s\n",
      "451:\tlearn: 0.4177735\ttotal: 9.19s\tremaining: 11.1s\n",
      "452:\tlearn: 0.4177133\ttotal: 9.21s\tremaining: 11.1s\n",
      "453:\tlearn: 0.4176453\ttotal: 9.23s\tremaining: 11.1s\n",
      "454:\tlearn: 0.4174306\ttotal: 9.26s\tremaining: 11.1s\n",
      "455:\tlearn: 0.4172167\ttotal: 9.28s\tremaining: 11.1s\n",
      "456:\tlearn: 0.4171922\ttotal: 9.29s\tremaining: 11s\n",
      "457:\tlearn: 0.4171423\ttotal: 9.31s\tremaining: 11s\n",
      "458:\tlearn: 0.4169000\ttotal: 9.34s\tremaining: 11s\n",
      "459:\tlearn: 0.4168361\ttotal: 9.35s\tremaining: 11s\n",
      "460:\tlearn: 0.4167945\ttotal: 9.37s\tremaining: 11s\n",
      "461:\tlearn: 0.4167389\ttotal: 9.39s\tremaining: 10.9s\n",
      "462:\tlearn: 0.4167101\ttotal: 9.41s\tremaining: 10.9s\n",
      "463:\tlearn: 0.4166961\ttotal: 9.43s\tremaining: 10.9s\n",
      "464:\tlearn: 0.4165251\ttotal: 9.45s\tremaining: 10.9s\n",
      "465:\tlearn: 0.4164986\ttotal: 9.47s\tremaining: 10.9s\n",
      "466:\tlearn: 0.4164073\ttotal: 9.49s\tremaining: 10.8s\n",
      "467:\tlearn: 0.4163320\ttotal: 9.51s\tremaining: 10.8s\n",
      "468:\tlearn: 0.4162917\ttotal: 9.53s\tremaining: 10.8s\n",
      "469:\tlearn: 0.4161822\ttotal: 9.55s\tremaining: 10.8s\n",
      "470:\tlearn: 0.4160839\ttotal: 9.57s\tremaining: 10.8s\n",
      "471:\tlearn: 0.4160685\ttotal: 9.59s\tremaining: 10.7s\n",
      "472:\tlearn: 0.4159578\ttotal: 9.61s\tremaining: 10.7s\n",
      "473:\tlearn: 0.4159330\ttotal: 9.63s\tremaining: 10.7s\n",
      "474:\tlearn: 0.4158649\ttotal: 9.65s\tremaining: 10.7s\n",
      "475:\tlearn: 0.4157770\ttotal: 9.67s\tremaining: 10.7s\n",
      "476:\tlearn: 0.4156742\ttotal: 9.7s\tremaining: 10.6s\n",
      "477:\tlearn: 0.4156005\ttotal: 9.72s\tremaining: 10.6s\n",
      "478:\tlearn: 0.4155298\ttotal: 9.74s\tremaining: 10.6s\n",
      "479:\tlearn: 0.4154818\ttotal: 9.76s\tremaining: 10.6s\n",
      "480:\tlearn: 0.4152852\ttotal: 9.78s\tremaining: 10.6s\n",
      "481:\tlearn: 0.4152691\ttotal: 9.8s\tremaining: 10.5s\n",
      "482:\tlearn: 0.4152026\ttotal: 9.82s\tremaining: 10.5s\n",
      "483:\tlearn: 0.4150878\ttotal: 9.84s\tremaining: 10.5s\n",
      "484:\tlearn: 0.4150487\ttotal: 9.88s\tremaining: 10.5s\n",
      "485:\tlearn: 0.4150045\ttotal: 9.91s\tremaining: 10.5s\n",
      "486:\tlearn: 0.4149680\ttotal: 9.93s\tremaining: 10.5s\n",
      "487:\tlearn: 0.4149431\ttotal: 9.95s\tremaining: 10.4s\n",
      "488:\tlearn: 0.4148886\ttotal: 9.96s\tremaining: 10.4s\n",
      "489:\tlearn: 0.4148384\ttotal: 9.98s\tremaining: 10.4s\n",
      "490:\tlearn: 0.4147951\ttotal: 10s\tremaining: 10.4s\n",
      "491:\tlearn: 0.4146624\ttotal: 10s\tremaining: 10.4s\n",
      "492:\tlearn: 0.4146053\ttotal: 10s\tremaining: 10.3s\n",
      "493:\tlearn: 0.4145040\ttotal: 10.1s\tremaining: 10.3s\n",
      "494:\tlearn: 0.4144164\ttotal: 10.1s\tremaining: 10.3s\n",
      "495:\tlearn: 0.4143770\ttotal: 10.1s\tremaining: 10.3s\n",
      "496:\tlearn: 0.4143050\ttotal: 10.1s\tremaining: 10.2s\n",
      "497:\tlearn: 0.4142639\ttotal: 10.2s\tremaining: 10.2s\n",
      "498:\tlearn: 0.4141517\ttotal: 10.2s\tremaining: 10.2s\n",
      "499:\tlearn: 0.4141290\ttotal: 10.2s\tremaining: 10.2s\n",
      "500:\tlearn: 0.4140134\ttotal: 10.2s\tremaining: 10.2s\n",
      "501:\tlearn: 0.4139753\ttotal: 10.2s\tremaining: 10.2s\n",
      "502:\tlearn: 0.4138520\ttotal: 10.3s\tremaining: 10.1s\n",
      "503:\tlearn: 0.4137766\ttotal: 10.3s\tremaining: 10.1s\n",
      "504:\tlearn: 0.4137142\ttotal: 10.3s\tremaining: 10.1s\n",
      "505:\tlearn: 0.4136984\ttotal: 10.3s\tremaining: 10.1s\n",
      "506:\tlearn: 0.4135892\ttotal: 10.3s\tremaining: 10.1s\n",
      "507:\tlearn: 0.4135682\ttotal: 10.4s\tremaining: 10s\n",
      "508:\tlearn: 0.4134999\ttotal: 10.4s\tremaining: 10s\n",
      "509:\tlearn: 0.4134167\ttotal: 10.4s\tremaining: 9.99s\n",
      "510:\tlearn: 0.4132694\ttotal: 10.4s\tremaining: 9.97s\n",
      "511:\tlearn: 0.4132222\ttotal: 10.4s\tremaining: 9.95s\n",
      "512:\tlearn: 0.4131376\ttotal: 10.5s\tremaining: 9.92s\n",
      "513:\tlearn: 0.4129848\ttotal: 10.5s\tremaining: 9.9s\n",
      "514:\tlearn: 0.4128486\ttotal: 10.5s\tremaining: 9.88s\n",
      "515:\tlearn: 0.4127961\ttotal: 10.5s\tremaining: 9.87s\n",
      "516:\tlearn: 0.4127005\ttotal: 10.5s\tremaining: 9.85s\n",
      "517:\tlearn: 0.4126708\ttotal: 10.6s\tremaining: 9.83s\n",
      "518:\tlearn: 0.4126037\ttotal: 10.6s\tremaining: 9.81s\n",
      "519:\tlearn: 0.4125583\ttotal: 10.6s\tremaining: 9.79s\n",
      "520:\tlearn: 0.4124558\ttotal: 10.6s\tremaining: 9.76s\n",
      "521:\tlearn: 0.4123466\ttotal: 10.6s\tremaining: 9.74s\n",
      "522:\tlearn: 0.4120523\ttotal: 10.7s\tremaining: 9.72s\n",
      "523:\tlearn: 0.4118574\ttotal: 10.7s\tremaining: 9.7s\n",
      "524:\tlearn: 0.4118571\ttotal: 10.7s\tremaining: 9.67s\n",
      "525:\tlearn: 0.4117256\ttotal: 10.7s\tremaining: 9.65s\n",
      "526:\tlearn: 0.4116883\ttotal: 10.7s\tremaining: 9.63s\n",
      "527:\tlearn: 0.4116364\ttotal: 10.7s\tremaining: 9.61s\n",
      "528:\tlearn: 0.4115832\ttotal: 10.8s\tremaining: 9.59s\n",
      "529:\tlearn: 0.4115216\ttotal: 10.8s\tremaining: 9.57s\n",
      "530:\tlearn: 0.4114104\ttotal: 10.8s\tremaining: 9.55s\n",
      "531:\tlearn: 0.4113460\ttotal: 10.8s\tremaining: 9.53s\n",
      "532:\tlearn: 0.4112423\ttotal: 10.8s\tremaining: 9.5s\n",
      "533:\tlearn: 0.4111049\ttotal: 10.9s\tremaining: 9.48s\n",
      "534:\tlearn: 0.4110347\ttotal: 10.9s\tremaining: 9.46s\n",
      "535:\tlearn: 0.4109367\ttotal: 10.9s\tremaining: 9.44s\n",
      "536:\tlearn: 0.4108537\ttotal: 10.9s\tremaining: 9.42s\n",
      "537:\tlearn: 0.4106527\ttotal: 10.9s\tremaining: 9.4s\n",
      "538:\tlearn: 0.4106176\ttotal: 11s\tremaining: 9.38s\n",
      "539:\tlearn: 0.4105138\ttotal: 11s\tremaining: 9.36s\n",
      "540:\tlearn: 0.4104302\ttotal: 11s\tremaining: 9.34s\n",
      "541:\tlearn: 0.4103315\ttotal: 11s\tremaining: 9.32s\n",
      "542:\tlearn: 0.4102480\ttotal: 11.1s\tremaining: 9.3s\n",
      "543:\tlearn: 0.4102088\ttotal: 11.1s\tremaining: 9.28s\n",
      "544:\tlearn: 0.4100765\ttotal: 11.1s\tremaining: 9.26s\n",
      "545:\tlearn: 0.4100190\ttotal: 11.1s\tremaining: 9.24s\n",
      "546:\tlearn: 0.4098701\ttotal: 11.1s\tremaining: 9.22s\n",
      "547:\tlearn: 0.4098177\ttotal: 11.2s\tremaining: 9.2s\n",
      "548:\tlearn: 0.4097610\ttotal: 11.2s\tremaining: 9.19s\n",
      "549:\tlearn: 0.4095817\ttotal: 11.2s\tremaining: 9.17s\n",
      "550:\tlearn: 0.4094905\ttotal: 11.2s\tremaining: 9.15s\n",
      "551:\tlearn: 0.4094086\ttotal: 11.2s\tremaining: 9.13s\n",
      "552:\tlearn: 0.4093846\ttotal: 11.3s\tremaining: 9.11s\n",
      "553:\tlearn: 0.4092350\ttotal: 11.3s\tremaining: 9.09s\n",
      "554:\tlearn: 0.4090799\ttotal: 11.3s\tremaining: 9.07s\n",
      "555:\tlearn: 0.4090097\ttotal: 11.3s\tremaining: 9.04s\n",
      "556:\tlearn: 0.4089362\ttotal: 11.3s\tremaining: 9.02s\n",
      "557:\tlearn: 0.4088419\ttotal: 11.4s\tremaining: 9s\n",
      "558:\tlearn: 0.4087572\ttotal: 11.4s\tremaining: 8.98s\n",
      "559:\tlearn: 0.4086891\ttotal: 11.4s\tremaining: 8.96s\n",
      "560:\tlearn: 0.4085867\ttotal: 11.4s\tremaining: 8.94s\n",
      "561:\tlearn: 0.4085620\ttotal: 11.4s\tremaining: 8.92s\n",
      "562:\tlearn: 0.4084270\ttotal: 11.5s\tremaining: 8.9s\n",
      "563:\tlearn: 0.4083708\ttotal: 11.5s\tremaining: 8.88s\n",
      "564:\tlearn: 0.4083227\ttotal: 11.5s\tremaining: 8.86s\n",
      "565:\tlearn: 0.4082432\ttotal: 11.5s\tremaining: 8.84s\n",
      "566:\tlearn: 0.4081485\ttotal: 11.5s\tremaining: 8.82s\n",
      "567:\tlearn: 0.4079121\ttotal: 11.6s\tremaining: 8.8s\n",
      "568:\tlearn: 0.4078023\ttotal: 11.6s\tremaining: 8.78s\n",
      "569:\tlearn: 0.4078020\ttotal: 11.6s\tremaining: 8.75s\n",
      "570:\tlearn: 0.4077808\ttotal: 11.6s\tremaining: 8.73s\n",
      "571:\tlearn: 0.4077058\ttotal: 11.6s\tremaining: 8.71s\n",
      "572:\tlearn: 0.4076521\ttotal: 11.7s\tremaining: 8.69s\n",
      "573:\tlearn: 0.4075802\ttotal: 11.7s\tremaining: 8.67s\n",
      "574:\tlearn: 0.4075455\ttotal: 11.7s\tremaining: 8.65s\n",
      "575:\tlearn: 0.4074920\ttotal: 11.7s\tremaining: 8.63s\n",
      "576:\tlearn: 0.4074296\ttotal: 11.7s\tremaining: 8.61s\n",
      "577:\tlearn: 0.4073878\ttotal: 11.8s\tremaining: 8.59s\n",
      "578:\tlearn: 0.4073071\ttotal: 11.8s\tremaining: 8.56s\n",
      "579:\tlearn: 0.4071935\ttotal: 11.8s\tremaining: 8.54s\n",
      "580:\tlearn: 0.4071456\ttotal: 11.8s\tremaining: 8.52s\n",
      "581:\tlearn: 0.4069903\ttotal: 11.8s\tremaining: 8.5s\n",
      "582:\tlearn: 0.4068915\ttotal: 11.9s\tremaining: 8.48s\n",
      "583:\tlearn: 0.4068615\ttotal: 11.9s\tremaining: 8.46s\n",
      "584:\tlearn: 0.4066862\ttotal: 11.9s\tremaining: 8.44s\n",
      "585:\tlearn: 0.4066749\ttotal: 11.9s\tremaining: 8.42s\n",
      "586:\tlearn: 0.4065976\ttotal: 11.9s\tremaining: 8.4s\n",
      "587:\tlearn: 0.4065489\ttotal: 12s\tremaining: 8.38s\n",
      "588:\tlearn: 0.4064754\ttotal: 12s\tremaining: 8.36s\n",
      "589:\tlearn: 0.4063626\ttotal: 12s\tremaining: 8.34s\n",
      "590:\tlearn: 0.4062754\ttotal: 12s\tremaining: 8.32s\n",
      "591:\tlearn: 0.4061043\ttotal: 12s\tremaining: 8.29s\n",
      "592:\tlearn: 0.4060356\ttotal: 12.1s\tremaining: 8.27s\n",
      "593:\tlearn: 0.4059991\ttotal: 12.1s\tremaining: 8.25s\n",
      "594:\tlearn: 0.4059659\ttotal: 12.1s\tremaining: 8.23s\n",
      "595:\tlearn: 0.4058681\ttotal: 12.1s\tremaining: 8.21s\n",
      "596:\tlearn: 0.4057095\ttotal: 12.1s\tremaining: 8.19s\n",
      "597:\tlearn: 0.4055362\ttotal: 12.2s\tremaining: 8.17s\n",
      "598:\tlearn: 0.4054257\ttotal: 12.2s\tremaining: 8.16s\n",
      "599:\tlearn: 0.4053348\ttotal: 12.2s\tremaining: 8.14s\n",
      "600:\tlearn: 0.4052458\ttotal: 12.2s\tremaining: 8.12s\n",
      "601:\tlearn: 0.4051907\ttotal: 12.2s\tremaining: 8.1s\n",
      "602:\tlearn: 0.4051621\ttotal: 12.3s\tremaining: 8.07s\n",
      "603:\tlearn: 0.4050333\ttotal: 12.3s\tremaining: 8.05s\n",
      "604:\tlearn: 0.4050081\ttotal: 12.3s\tremaining: 8.04s\n",
      "605:\tlearn: 0.4049507\ttotal: 12.3s\tremaining: 8.02s\n",
      "606:\tlearn: 0.4048176\ttotal: 12.3s\tremaining: 7.99s\n",
      "607:\tlearn: 0.4047076\ttotal: 12.4s\tremaining: 7.97s\n",
      "608:\tlearn: 0.4046268\ttotal: 12.4s\tremaining: 7.95s\n",
      "609:\tlearn: 0.4044563\ttotal: 12.4s\tremaining: 7.93s\n",
      "610:\tlearn: 0.4043417\ttotal: 12.4s\tremaining: 7.91s\n",
      "611:\tlearn: 0.4042500\ttotal: 12.4s\tremaining: 7.89s\n",
      "612:\tlearn: 0.4041906\ttotal: 12.5s\tremaining: 7.87s\n",
      "613:\tlearn: 0.4041168\ttotal: 12.5s\tremaining: 7.85s\n",
      "614:\tlearn: 0.4040525\ttotal: 12.5s\tremaining: 7.83s\n",
      "615:\tlearn: 0.4040159\ttotal: 12.5s\tremaining: 7.81s\n",
      "616:\tlearn: 0.4039560\ttotal: 12.5s\tremaining: 7.79s\n",
      "617:\tlearn: 0.4038629\ttotal: 12.6s\tremaining: 7.77s\n",
      "618:\tlearn: 0.4038105\ttotal: 12.6s\tremaining: 7.75s\n",
      "619:\tlearn: 0.4038094\ttotal: 12.6s\tremaining: 7.72s\n",
      "620:\tlearn: 0.4036067\ttotal: 12.6s\tremaining: 7.7s\n",
      "621:\tlearn: 0.4034717\ttotal: 12.6s\tremaining: 7.68s\n",
      "622:\tlearn: 0.4033414\ttotal: 12.7s\tremaining: 7.66s\n",
      "623:\tlearn: 0.4032612\ttotal: 12.7s\tremaining: 7.64s\n",
      "624:\tlearn: 0.4032169\ttotal: 12.7s\tremaining: 7.62s\n",
      "625:\tlearn: 0.4031930\ttotal: 12.7s\tremaining: 7.6s\n",
      "626:\tlearn: 0.4030696\ttotal: 12.7s\tremaining: 7.58s\n",
      "627:\tlearn: 0.4030053\ttotal: 12.8s\tremaining: 7.56s\n",
      "628:\tlearn: 0.4030010\ttotal: 12.8s\tremaining: 7.54s\n",
      "629:\tlearn: 0.4029747\ttotal: 12.8s\tremaining: 7.52s\n",
      "630:\tlearn: 0.4029578\ttotal: 12.8s\tremaining: 7.5s\n",
      "631:\tlearn: 0.4029292\ttotal: 12.8s\tremaining: 7.47s\n",
      "632:\tlearn: 0.4029012\ttotal: 12.9s\tremaining: 7.47s\n",
      "633:\tlearn: 0.4027579\ttotal: 12.9s\tremaining: 7.46s\n",
      "634:\tlearn: 0.4027091\ttotal: 12.9s\tremaining: 7.44s\n",
      "635:\tlearn: 0.4024971\ttotal: 13s\tremaining: 7.42s\n",
      "636:\tlearn: 0.4024720\ttotal: 13s\tremaining: 7.41s\n",
      "637:\tlearn: 0.4024309\ttotal: 13s\tremaining: 7.39s\n",
      "638:\tlearn: 0.4023398\ttotal: 13s\tremaining: 7.37s\n",
      "639:\tlearn: 0.4023283\ttotal: 13.1s\tremaining: 7.35s\n",
      "640:\tlearn: 0.4022563\ttotal: 13.1s\tremaining: 7.33s\n",
      "641:\tlearn: 0.4022136\ttotal: 13.1s\tremaining: 7.31s\n",
      "642:\tlearn: 0.4020966\ttotal: 13.1s\tremaining: 7.29s\n",
      "643:\tlearn: 0.4020561\ttotal: 13.2s\tremaining: 7.27s\n",
      "644:\tlearn: 0.4019760\ttotal: 13.2s\tremaining: 7.25s\n",
      "645:\tlearn: 0.4018524\ttotal: 13.2s\tremaining: 7.25s\n",
      "646:\tlearn: 0.4017998\ttotal: 13.2s\tremaining: 7.23s\n",
      "647:\tlearn: 0.4016806\ttotal: 13.3s\tremaining: 7.21s\n",
      "648:\tlearn: 0.4016688\ttotal: 13.3s\tremaining: 7.19s\n",
      "649:\tlearn: 0.4016011\ttotal: 13.3s\tremaining: 7.17s\n",
      "650:\tlearn: 0.4015469\ttotal: 13.3s\tremaining: 7.15s\n",
      "651:\tlearn: 0.4014905\ttotal: 13.4s\tremaining: 7.13s\n",
      "652:\tlearn: 0.4013920\ttotal: 13.4s\tremaining: 7.11s\n",
      "653:\tlearn: 0.4013518\ttotal: 13.4s\tremaining: 7.09s\n",
      "654:\tlearn: 0.4011816\ttotal: 13.4s\tremaining: 7.08s\n",
      "655:\tlearn: 0.4011176\ttotal: 13.5s\tremaining: 7.06s\n",
      "656:\tlearn: 0.4010460\ttotal: 13.5s\tremaining: 7.04s\n",
      "657:\tlearn: 0.4010107\ttotal: 13.5s\tremaining: 7.02s\n",
      "658:\tlearn: 0.4009306\ttotal: 13.5s\tremaining: 7s\n",
      "659:\tlearn: 0.4008845\ttotal: 13.6s\tremaining: 6.98s\n",
      "660:\tlearn: 0.4008579\ttotal: 13.6s\tremaining: 6.96s\n",
      "661:\tlearn: 0.4008105\ttotal: 13.6s\tremaining: 6.94s\n",
      "662:\tlearn: 0.4007671\ttotal: 13.6s\tremaining: 6.92s\n",
      "663:\tlearn: 0.4006667\ttotal: 13.6s\tremaining: 6.9s\n",
      "664:\tlearn: 0.4006235\ttotal: 13.7s\tremaining: 6.88s\n",
      "665:\tlearn: 0.4005485\ttotal: 13.7s\tremaining: 6.86s\n",
      "666:\tlearn: 0.4005379\ttotal: 13.7s\tremaining: 6.83s\n",
      "667:\tlearn: 0.4005073\ttotal: 13.7s\tremaining: 6.81s\n",
      "668:\tlearn: 0.4003620\ttotal: 13.7s\tremaining: 6.79s\n",
      "669:\tlearn: 0.4003312\ttotal: 13.8s\tremaining: 6.77s\n",
      "670:\tlearn: 0.4002006\ttotal: 13.8s\tremaining: 6.75s\n",
      "671:\tlearn: 0.4000107\ttotal: 13.8s\tremaining: 6.73s\n",
      "672:\tlearn: 0.3999111\ttotal: 13.8s\tremaining: 6.71s\n",
      "673:\tlearn: 0.3998548\ttotal: 13.8s\tremaining: 6.69s\n",
      "674:\tlearn: 0.3997913\ttotal: 13.9s\tremaining: 6.67s\n",
      "675:\tlearn: 0.3997468\ttotal: 13.9s\tremaining: 6.65s\n",
      "676:\tlearn: 0.3997459\ttotal: 13.9s\tremaining: 6.63s\n",
      "677:\tlearn: 0.3997194\ttotal: 13.9s\tremaining: 6.6s\n",
      "678:\tlearn: 0.3996335\ttotal: 13.9s\tremaining: 6.58s\n",
      "679:\tlearn: 0.3995816\ttotal: 13.9s\tremaining: 6.56s\n",
      "680:\tlearn: 0.3994771\ttotal: 14s\tremaining: 6.54s\n",
      "681:\tlearn: 0.3994421\ttotal: 14s\tremaining: 6.52s\n",
      "682:\tlearn: 0.3993326\ttotal: 14s\tremaining: 6.5s\n",
      "683:\tlearn: 0.3992127\ttotal: 14s\tremaining: 6.48s\n",
      "684:\tlearn: 0.3990773\ttotal: 14s\tremaining: 6.46s\n",
      "685:\tlearn: 0.3989616\ttotal: 14.1s\tremaining: 6.44s\n",
      "686:\tlearn: 0.3988494\ttotal: 14.1s\tremaining: 6.42s\n",
      "687:\tlearn: 0.3988107\ttotal: 14.1s\tremaining: 6.39s\n",
      "688:\tlearn: 0.3987768\ttotal: 14.1s\tremaining: 6.37s\n",
      "689:\tlearn: 0.3986861\ttotal: 14.1s\tremaining: 6.35s\n",
      "690:\tlearn: 0.3985708\ttotal: 14.2s\tremaining: 6.33s\n",
      "691:\tlearn: 0.3985051\ttotal: 14.2s\tremaining: 6.31s\n",
      "692:\tlearn: 0.3984463\ttotal: 14.2s\tremaining: 6.29s\n",
      "693:\tlearn: 0.3984010\ttotal: 14.2s\tremaining: 6.28s\n",
      "694:\tlearn: 0.3983639\ttotal: 14.3s\tremaining: 6.26s\n",
      "695:\tlearn: 0.3982068\ttotal: 14.3s\tremaining: 6.24s\n",
      "696:\tlearn: 0.3981361\ttotal: 14.3s\tremaining: 6.21s\n",
      "697:\tlearn: 0.3980365\ttotal: 14.3s\tremaining: 6.19s\n",
      "698:\tlearn: 0.3979710\ttotal: 14.3s\tremaining: 6.17s\n",
      "699:\tlearn: 0.3979019\ttotal: 14.4s\tremaining: 6.15s\n",
      "700:\tlearn: 0.3978659\ttotal: 14.4s\tremaining: 6.13s\n",
      "701:\tlearn: 0.3977816\ttotal: 14.4s\tremaining: 6.11s\n",
      "702:\tlearn: 0.3977421\ttotal: 14.4s\tremaining: 6.09s\n",
      "703:\tlearn: 0.3977043\ttotal: 14.4s\tremaining: 6.07s\n",
      "704:\tlearn: 0.3976923\ttotal: 14.5s\tremaining: 6.05s\n",
      "705:\tlearn: 0.3976419\ttotal: 14.5s\tremaining: 6.03s\n",
      "706:\tlearn: 0.3976014\ttotal: 14.5s\tremaining: 6.01s\n",
      "707:\tlearn: 0.3974996\ttotal: 14.5s\tremaining: 5.99s\n",
      "708:\tlearn: 0.3974343\ttotal: 14.5s\tremaining: 5.97s\n",
      "709:\tlearn: 0.3972848\ttotal: 14.6s\tremaining: 5.95s\n",
      "710:\tlearn: 0.3971716\ttotal: 14.6s\tremaining: 5.92s\n",
      "711:\tlearn: 0.3971441\ttotal: 14.6s\tremaining: 5.9s\n",
      "712:\tlearn: 0.3971179\ttotal: 14.6s\tremaining: 5.88s\n",
      "713:\tlearn: 0.3970011\ttotal: 14.6s\tremaining: 5.86s\n",
      "714:\tlearn: 0.3969705\ttotal: 14.7s\tremaining: 5.84s\n",
      "715:\tlearn: 0.3968713\ttotal: 14.7s\tremaining: 5.83s\n",
      "716:\tlearn: 0.3968482\ttotal: 14.7s\tremaining: 5.81s\n",
      "717:\tlearn: 0.3967585\ttotal: 14.8s\tremaining: 5.8s\n",
      "718:\tlearn: 0.3967115\ttotal: 14.8s\tremaining: 5.78s\n",
      "719:\tlearn: 0.3967103\ttotal: 14.8s\tremaining: 5.76s\n",
      "720:\tlearn: 0.3965443\ttotal: 14.9s\tremaining: 5.75s\n",
      "721:\tlearn: 0.3964684\ttotal: 14.9s\tremaining: 5.74s\n",
      "722:\tlearn: 0.3964136\ttotal: 14.9s\tremaining: 5.72s\n",
      "723:\tlearn: 0.3964075\ttotal: 15s\tremaining: 5.71s\n",
      "724:\tlearn: 0.3963210\ttotal: 15s\tremaining: 5.69s\n",
      "725:\tlearn: 0.3962970\ttotal: 15s\tremaining: 5.67s\n",
      "726:\tlearn: 0.3962664\ttotal: 15.1s\tremaining: 5.66s\n",
      "727:\tlearn: 0.3962350\ttotal: 15.1s\tremaining: 5.63s\n",
      "728:\tlearn: 0.3961562\ttotal: 15.1s\tremaining: 5.61s\n",
      "729:\tlearn: 0.3960459\ttotal: 15.1s\tremaining: 5.59s\n",
      "730:\tlearn: 0.3959278\ttotal: 15.1s\tremaining: 5.57s\n",
      "731:\tlearn: 0.3959158\ttotal: 15.2s\tremaining: 5.55s\n",
      "732:\tlearn: 0.3958172\ttotal: 15.2s\tremaining: 5.53s\n",
      "733:\tlearn: 0.3957606\ttotal: 15.2s\tremaining: 5.51s\n",
      "734:\tlearn: 0.3957376\ttotal: 15.2s\tremaining: 5.49s\n",
      "735:\tlearn: 0.3956548\ttotal: 15.2s\tremaining: 5.47s\n",
      "736:\tlearn: 0.3955828\ttotal: 15.3s\tremaining: 5.45s\n",
      "737:\tlearn: 0.3954598\ttotal: 15.3s\tremaining: 5.43s\n",
      "738:\tlearn: 0.3953657\ttotal: 15.3s\tremaining: 5.41s\n",
      "739:\tlearn: 0.3953118\ttotal: 15.3s\tremaining: 5.39s\n",
      "740:\tlearn: 0.3952179\ttotal: 15.3s\tremaining: 5.37s\n",
      "741:\tlearn: 0.3951672\ttotal: 15.4s\tremaining: 5.34s\n",
      "742:\tlearn: 0.3951261\ttotal: 15.4s\tremaining: 5.32s\n",
      "743:\tlearn: 0.3950412\ttotal: 15.4s\tremaining: 5.3s\n",
      "744:\tlearn: 0.3950341\ttotal: 15.4s\tremaining: 5.28s\n",
      "745:\tlearn: 0.3949800\ttotal: 15.5s\tremaining: 5.26s\n",
      "746:\tlearn: 0.3949559\ttotal: 15.5s\tremaining: 5.24s\n",
      "747:\tlearn: 0.3948568\ttotal: 15.5s\tremaining: 5.22s\n",
      "748:\tlearn: 0.3947681\ttotal: 15.5s\tremaining: 5.2s\n",
      "749:\tlearn: 0.3946605\ttotal: 15.5s\tremaining: 5.18s\n",
      "750:\tlearn: 0.3946218\ttotal: 15.6s\tremaining: 5.16s\n",
      "751:\tlearn: 0.3945856\ttotal: 15.6s\tremaining: 5.13s\n",
      "752:\tlearn: 0.3944154\ttotal: 15.6s\tremaining: 5.11s\n",
      "753:\tlearn: 0.3943960\ttotal: 15.6s\tremaining: 5.09s\n",
      "754:\tlearn: 0.3943739\ttotal: 15.6s\tremaining: 5.07s\n",
      "755:\tlearn: 0.3942954\ttotal: 15.7s\tremaining: 5.05s\n",
      "756:\tlearn: 0.3942683\ttotal: 15.7s\tremaining: 5.03s\n",
      "757:\tlearn: 0.3942087\ttotal: 15.7s\tremaining: 5.01s\n",
      "758:\tlearn: 0.3941862\ttotal: 15.7s\tremaining: 4.99s\n",
      "759:\tlearn: 0.3941628\ttotal: 15.7s\tremaining: 4.97s\n",
      "760:\tlearn: 0.3941098\ttotal: 15.8s\tremaining: 4.95s\n",
      "761:\tlearn: 0.3940429\ttotal: 15.8s\tremaining: 4.93s\n",
      "762:\tlearn: 0.3940179\ttotal: 15.8s\tremaining: 4.91s\n",
      "763:\tlearn: 0.3939945\ttotal: 15.8s\tremaining: 4.89s\n",
      "764:\tlearn: 0.3939627\ttotal: 15.8s\tremaining: 4.87s\n",
      "765:\tlearn: 0.3938642\ttotal: 15.9s\tremaining: 4.84s\n",
      "766:\tlearn: 0.3938628\ttotal: 15.9s\tremaining: 4.83s\n",
      "767:\tlearn: 0.3937659\ttotal: 15.9s\tremaining: 4.8s\n",
      "768:\tlearn: 0.3937015\ttotal: 15.9s\tremaining: 4.78s\n",
      "769:\tlearn: 0.3937004\ttotal: 16s\tremaining: 4.76s\n",
      "770:\tlearn: 0.3936377\ttotal: 16s\tremaining: 4.75s\n",
      "771:\tlearn: 0.3936366\ttotal: 16s\tremaining: 4.73s\n",
      "772:\tlearn: 0.3934944\ttotal: 16s\tremaining: 4.71s\n",
      "773:\tlearn: 0.3934532\ttotal: 16.1s\tremaining: 4.69s\n",
      "774:\tlearn: 0.3933856\ttotal: 16.1s\tremaining: 4.67s\n",
      "775:\tlearn: 0.3933742\ttotal: 16.1s\tremaining: 4.65s\n",
      "776:\tlearn: 0.3933405\ttotal: 16.1s\tremaining: 4.63s\n",
      "777:\tlearn: 0.3932649\ttotal: 16.1s\tremaining: 4.61s\n",
      "778:\tlearn: 0.3931871\ttotal: 16.2s\tremaining: 4.58s\n",
      "779:\tlearn: 0.3931758\ttotal: 16.2s\tremaining: 4.56s\n",
      "780:\tlearn: 0.3930760\ttotal: 16.2s\tremaining: 4.54s\n",
      "781:\tlearn: 0.3930749\ttotal: 16.2s\tremaining: 4.52s\n",
      "782:\tlearn: 0.3929945\ttotal: 16.2s\tremaining: 4.5s\n",
      "783:\tlearn: 0.3929073\ttotal: 16.3s\tremaining: 4.48s\n",
      "784:\tlearn: 0.3928105\ttotal: 16.3s\tremaining: 4.46s\n",
      "785:\tlearn: 0.3927822\ttotal: 16.3s\tremaining: 4.44s\n",
      "786:\tlearn: 0.3927252\ttotal: 16.3s\tremaining: 4.42s\n",
      "787:\tlearn: 0.3926833\ttotal: 16.4s\tremaining: 4.4s\n",
      "788:\tlearn: 0.3926405\ttotal: 16.4s\tremaining: 4.38s\n",
      "789:\tlearn: 0.3926121\ttotal: 16.4s\tremaining: 4.36s\n",
      "790:\tlearn: 0.3924034\ttotal: 16.4s\tremaining: 4.35s\n",
      "791:\tlearn: 0.3924021\ttotal: 16.5s\tremaining: 4.33s\n",
      "792:\tlearn: 0.3923695\ttotal: 16.5s\tremaining: 4.31s\n",
      "793:\tlearn: 0.3922957\ttotal: 16.5s\tremaining: 4.29s\n",
      "794:\tlearn: 0.3922633\ttotal: 16.6s\tremaining: 4.28s\n",
      "795:\tlearn: 0.3922249\ttotal: 16.6s\tremaining: 4.26s\n",
      "796:\tlearn: 0.3921632\ttotal: 16.6s\tremaining: 4.24s\n",
      "797:\tlearn: 0.3921568\ttotal: 16.6s\tremaining: 4.21s\n",
      "798:\tlearn: 0.3920455\ttotal: 16.7s\tremaining: 4.19s\n",
      "799:\tlearn: 0.3919980\ttotal: 16.7s\tremaining: 4.17s\n",
      "800:\tlearn: 0.3918648\ttotal: 16.7s\tremaining: 4.15s\n",
      "801:\tlearn: 0.3918030\ttotal: 16.7s\tremaining: 4.13s\n",
      "802:\tlearn: 0.3917565\ttotal: 16.8s\tremaining: 4.11s\n",
      "803:\tlearn: 0.3916986\ttotal: 16.8s\tremaining: 4.09s\n",
      "804:\tlearn: 0.3916251\ttotal: 16.8s\tremaining: 4.07s\n",
      "805:\tlearn: 0.3914777\ttotal: 16.8s\tremaining: 4.05s\n",
      "806:\tlearn: 0.3913715\ttotal: 16.8s\tremaining: 4.03s\n",
      "807:\tlearn: 0.3913166\ttotal: 16.9s\tremaining: 4s\n",
      "808:\tlearn: 0.3912524\ttotal: 16.9s\tremaining: 3.98s\n",
      "809:\tlearn: 0.3911962\ttotal: 16.9s\tremaining: 3.96s\n",
      "810:\tlearn: 0.3911757\ttotal: 16.9s\tremaining: 3.94s\n",
      "811:\tlearn: 0.3911368\ttotal: 16.9s\tremaining: 3.92s\n",
      "812:\tlearn: 0.3910710\ttotal: 17s\tremaining: 3.9s\n",
      "813:\tlearn: 0.3910450\ttotal: 17s\tremaining: 3.88s\n",
      "814:\tlearn: 0.3909309\ttotal: 17s\tremaining: 3.86s\n",
      "815:\tlearn: 0.3908401\ttotal: 17s\tremaining: 3.84s\n",
      "816:\tlearn: 0.3907760\ttotal: 17s\tremaining: 3.81s\n",
      "817:\tlearn: 0.3906591\ttotal: 17.1s\tremaining: 3.79s\n",
      "818:\tlearn: 0.3905819\ttotal: 17.1s\tremaining: 3.77s\n",
      "819:\tlearn: 0.3904998\ttotal: 17.1s\tremaining: 3.75s\n",
      "820:\tlearn: 0.3904454\ttotal: 17.1s\tremaining: 3.73s\n",
      "821:\tlearn: 0.3904276\ttotal: 17.1s\tremaining: 3.71s\n",
      "822:\tlearn: 0.3902780\ttotal: 17.2s\tremaining: 3.69s\n",
      "823:\tlearn: 0.3900376\ttotal: 17.2s\tremaining: 3.67s\n",
      "824:\tlearn: 0.3899808\ttotal: 17.2s\tremaining: 3.65s\n",
      "825:\tlearn: 0.3899154\ttotal: 17.2s\tremaining: 3.63s\n",
      "826:\tlearn: 0.3898340\ttotal: 17.2s\tremaining: 3.61s\n",
      "827:\tlearn: 0.3897407\ttotal: 17.3s\tremaining: 3.58s\n",
      "828:\tlearn: 0.3896665\ttotal: 17.3s\tremaining: 3.56s\n",
      "829:\tlearn: 0.3896179\ttotal: 17.3s\tremaining: 3.54s\n",
      "830:\tlearn: 0.3895722\ttotal: 17.3s\tremaining: 3.52s\n",
      "831:\tlearn: 0.3894202\ttotal: 17.4s\tremaining: 3.5s\n",
      "832:\tlearn: 0.3893369\ttotal: 17.4s\tremaining: 3.48s\n",
      "833:\tlearn: 0.3892808\ttotal: 17.4s\tremaining: 3.46s\n",
      "834:\tlearn: 0.3892282\ttotal: 17.4s\tremaining: 3.44s\n",
      "835:\tlearn: 0.3891221\ttotal: 17.4s\tremaining: 3.42s\n",
      "836:\tlearn: 0.3890886\ttotal: 17.5s\tremaining: 3.4s\n",
      "837:\tlearn: 0.3890444\ttotal: 17.5s\tremaining: 3.38s\n",
      "838:\tlearn: 0.3888847\ttotal: 17.5s\tremaining: 3.37s\n",
      "839:\tlearn: 0.3888108\ttotal: 17.6s\tremaining: 3.35s\n",
      "840:\tlearn: 0.3888046\ttotal: 17.6s\tremaining: 3.33s\n",
      "841:\tlearn: 0.3887118\ttotal: 17.6s\tremaining: 3.31s\n",
      "842:\tlearn: 0.3885418\ttotal: 17.7s\tremaining: 3.29s\n",
      "843:\tlearn: 0.3884300\ttotal: 17.7s\tremaining: 3.27s\n",
      "844:\tlearn: 0.3883356\ttotal: 17.7s\tremaining: 3.25s\n",
      "845:\tlearn: 0.3883143\ttotal: 17.7s\tremaining: 3.23s\n",
      "846:\tlearn: 0.3882260\ttotal: 17.8s\tremaining: 3.21s\n",
      "847:\tlearn: 0.3881639\ttotal: 17.8s\tremaining: 3.19s\n",
      "848:\tlearn: 0.3881467\ttotal: 17.8s\tremaining: 3.17s\n",
      "849:\tlearn: 0.3881340\ttotal: 17.9s\tremaining: 3.15s\n",
      "850:\tlearn: 0.3880641\ttotal: 17.9s\tremaining: 3.13s\n",
      "851:\tlearn: 0.3880076\ttotal: 17.9s\tremaining: 3.11s\n",
      "852:\tlearn: 0.3878457\ttotal: 17.9s\tremaining: 3.09s\n",
      "853:\tlearn: 0.3877907\ttotal: 18s\tremaining: 3.07s\n",
      "854:\tlearn: 0.3877471\ttotal: 18s\tremaining: 3.05s\n",
      "855:\tlearn: 0.3877358\ttotal: 18s\tremaining: 3.03s\n",
      "856:\tlearn: 0.3877018\ttotal: 18s\tremaining: 3.01s\n",
      "857:\tlearn: 0.3876815\ttotal: 18s\tremaining: 2.99s\n",
      "858:\tlearn: 0.3876490\ttotal: 18.1s\tremaining: 2.96s\n",
      "859:\tlearn: 0.3876301\ttotal: 18.1s\tremaining: 2.94s\n",
      "860:\tlearn: 0.3874380\ttotal: 18.1s\tremaining: 2.92s\n",
      "861:\tlearn: 0.3873436\ttotal: 18.1s\tremaining: 2.9s\n",
      "862:\tlearn: 0.3873028\ttotal: 18.2s\tremaining: 2.88s\n",
      "863:\tlearn: 0.3872129\ttotal: 18.2s\tremaining: 2.86s\n",
      "864:\tlearn: 0.3871579\ttotal: 18.2s\tremaining: 2.84s\n",
      "865:\tlearn: 0.3870867\ttotal: 18.2s\tremaining: 2.82s\n",
      "866:\tlearn: 0.3870523\ttotal: 18.3s\tremaining: 2.8s\n",
      "867:\tlearn: 0.3869467\ttotal: 18.3s\tremaining: 2.78s\n",
      "868:\tlearn: 0.3868545\ttotal: 18.3s\tremaining: 2.76s\n",
      "869:\tlearn: 0.3867144\ttotal: 18.3s\tremaining: 2.74s\n",
      "870:\tlearn: 0.3866582\ttotal: 18.4s\tremaining: 2.72s\n",
      "871:\tlearn: 0.3865771\ttotal: 18.4s\tremaining: 2.7s\n",
      "872:\tlearn: 0.3864691\ttotal: 18.4s\tremaining: 2.68s\n",
      "873:\tlearn: 0.3864326\ttotal: 18.4s\tremaining: 2.66s\n",
      "874:\tlearn: 0.3863925\ttotal: 18.4s\tremaining: 2.63s\n",
      "875:\tlearn: 0.3863814\ttotal: 18.5s\tremaining: 2.61s\n",
      "876:\tlearn: 0.3863064\ttotal: 18.5s\tremaining: 2.59s\n",
      "877:\tlearn: 0.3862868\ttotal: 18.5s\tremaining: 2.57s\n",
      "878:\tlearn: 0.3862147\ttotal: 18.5s\tremaining: 2.55s\n",
      "879:\tlearn: 0.3861912\ttotal: 18.5s\tremaining: 2.53s\n",
      "880:\tlearn: 0.3860844\ttotal: 18.6s\tremaining: 2.51s\n",
      "881:\tlearn: 0.3860552\ttotal: 18.6s\tremaining: 2.49s\n",
      "882:\tlearn: 0.3859825\ttotal: 18.6s\tremaining: 2.47s\n",
      "883:\tlearn: 0.3858951\ttotal: 18.7s\tremaining: 2.45s\n",
      "884:\tlearn: 0.3858495\ttotal: 18.7s\tremaining: 2.43s\n",
      "885:\tlearn: 0.3858253\ttotal: 18.7s\tremaining: 2.41s\n",
      "886:\tlearn: 0.3857750\ttotal: 18.8s\tremaining: 2.39s\n",
      "887:\tlearn: 0.3857423\ttotal: 18.8s\tremaining: 2.37s\n",
      "888:\tlearn: 0.3857010\ttotal: 18.8s\tremaining: 2.35s\n",
      "889:\tlearn: 0.3856490\ttotal: 18.8s\tremaining: 2.33s\n",
      "890:\tlearn: 0.3856409\ttotal: 18.9s\tremaining: 2.31s\n",
      "891:\tlearn: 0.3855003\ttotal: 18.9s\tremaining: 2.29s\n",
      "892:\tlearn: 0.3854365\ttotal: 18.9s\tremaining: 2.27s\n",
      "893:\tlearn: 0.3852717\ttotal: 18.9s\tremaining: 2.24s\n",
      "894:\tlearn: 0.3851164\ttotal: 18.9s\tremaining: 2.22s\n",
      "895:\tlearn: 0.3850657\ttotal: 19s\tremaining: 2.2s\n",
      "896:\tlearn: 0.3850073\ttotal: 19s\tremaining: 2.18s\n",
      "897:\tlearn: 0.3849909\ttotal: 19s\tremaining: 2.16s\n",
      "898:\tlearn: 0.3848565\ttotal: 19s\tremaining: 2.14s\n",
      "899:\tlearn: 0.3848300\ttotal: 19s\tremaining: 2.12s\n",
      "900:\tlearn: 0.3847924\ttotal: 19.1s\tremaining: 2.1s\n",
      "901:\tlearn: 0.3847103\ttotal: 19.1s\tremaining: 2.07s\n",
      "902:\tlearn: 0.3846523\ttotal: 19.1s\tremaining: 2.05s\n",
      "903:\tlearn: 0.3846059\ttotal: 19.1s\tremaining: 2.03s\n",
      "904:\tlearn: 0.3845237\ttotal: 19.1s\tremaining: 2.01s\n",
      "905:\tlearn: 0.3844253\ttotal: 19.2s\tremaining: 1.99s\n",
      "906:\tlearn: 0.3843381\ttotal: 19.2s\tremaining: 1.97s\n",
      "907:\tlearn: 0.3843326\ttotal: 19.2s\tremaining: 1.95s\n",
      "908:\tlearn: 0.3843319\ttotal: 19.2s\tremaining: 1.92s\n",
      "909:\tlearn: 0.3842969\ttotal: 19.2s\tremaining: 1.9s\n",
      "910:\tlearn: 0.3842577\ttotal: 19.3s\tremaining: 1.88s\n",
      "911:\tlearn: 0.3842364\ttotal: 19.3s\tremaining: 1.86s\n",
      "912:\tlearn: 0.3842061\ttotal: 19.3s\tremaining: 1.84s\n",
      "913:\tlearn: 0.3841126\ttotal: 19.3s\tremaining: 1.82s\n",
      "914:\tlearn: 0.3840907\ttotal: 19.4s\tremaining: 1.8s\n",
      "915:\tlearn: 0.3839587\ttotal: 19.4s\tremaining: 1.78s\n",
      "916:\tlearn: 0.3838927\ttotal: 19.4s\tremaining: 1.75s\n",
      "917:\tlearn: 0.3838091\ttotal: 19.4s\tremaining: 1.73s\n",
      "918:\tlearn: 0.3837197\ttotal: 19.4s\tremaining: 1.71s\n",
      "919:\tlearn: 0.3836352\ttotal: 19.5s\tremaining: 1.69s\n",
      "920:\tlearn: 0.3835636\ttotal: 19.5s\tremaining: 1.67s\n",
      "921:\tlearn: 0.3834814\ttotal: 19.5s\tremaining: 1.65s\n",
      "922:\tlearn: 0.3834807\ttotal: 19.5s\tremaining: 1.63s\n",
      "923:\tlearn: 0.3834579\ttotal: 19.5s\tremaining: 1.61s\n",
      "924:\tlearn: 0.3834204\ttotal: 19.6s\tremaining: 1.58s\n",
      "925:\tlearn: 0.3833761\ttotal: 19.6s\tremaining: 1.56s\n",
      "926:\tlearn: 0.3832309\ttotal: 19.6s\tremaining: 1.54s\n",
      "927:\tlearn: 0.3832219\ttotal: 19.6s\tremaining: 1.52s\n",
      "928:\tlearn: 0.3831816\ttotal: 19.6s\tremaining: 1.5s\n",
      "929:\tlearn: 0.3831580\ttotal: 19.7s\tremaining: 1.48s\n",
      "930:\tlearn: 0.3831427\ttotal: 19.7s\tremaining: 1.46s\n",
      "931:\tlearn: 0.3830006\ttotal: 19.7s\tremaining: 1.44s\n",
      "932:\tlearn: 0.3829002\ttotal: 19.7s\tremaining: 1.42s\n",
      "933:\tlearn: 0.3828707\ttotal: 19.7s\tremaining: 1.39s\n",
      "934:\tlearn: 0.3828447\ttotal: 19.8s\tremaining: 1.37s\n",
      "935:\tlearn: 0.3827656\ttotal: 19.8s\tremaining: 1.35s\n",
      "936:\tlearn: 0.3827639\ttotal: 19.8s\tremaining: 1.33s\n",
      "937:\tlearn: 0.3826696\ttotal: 19.8s\tremaining: 1.31s\n",
      "938:\tlearn: 0.3826181\ttotal: 19.8s\tremaining: 1.29s\n",
      "939:\tlearn: 0.3825538\ttotal: 19.9s\tremaining: 1.27s\n",
      "940:\tlearn: 0.3824718\ttotal: 19.9s\tremaining: 1.25s\n",
      "941:\tlearn: 0.3824355\ttotal: 19.9s\tremaining: 1.22s\n",
      "942:\tlearn: 0.3824122\ttotal: 19.9s\tremaining: 1.2s\n",
      "943:\tlearn: 0.3823519\ttotal: 19.9s\tremaining: 1.18s\n",
      "944:\tlearn: 0.3823324\ttotal: 20s\tremaining: 1.16s\n",
      "945:\tlearn: 0.3823294\ttotal: 20s\tremaining: 1.14s\n",
      "946:\tlearn: 0.3822669\ttotal: 20s\tremaining: 1.12s\n",
      "947:\tlearn: 0.3821845\ttotal: 20.1s\tremaining: 1.1s\n",
      "948:\tlearn: 0.3820338\ttotal: 20.1s\tremaining: 1.08s\n",
      "949:\tlearn: 0.3819767\ttotal: 20.1s\tremaining: 1.06s\n",
      "950:\tlearn: 0.3819260\ttotal: 20.2s\tremaining: 1.04s\n",
      "951:\tlearn: 0.3818639\ttotal: 20.2s\tremaining: 1.02s\n",
      "952:\tlearn: 0.3818428\ttotal: 20.2s\tremaining: 998ms\n",
      "953:\tlearn: 0.3816804\ttotal: 20.3s\tremaining: 977ms\n",
      "954:\tlearn: 0.3815956\ttotal: 20.3s\tremaining: 956ms\n",
      "955:\tlearn: 0.3815070\ttotal: 20.3s\tremaining: 935ms\n",
      "956:\tlearn: 0.3814905\ttotal: 20.4s\tremaining: 914ms\n",
      "957:\tlearn: 0.3813920\ttotal: 20.4s\tremaining: 894ms\n",
      "958:\tlearn: 0.3813374\ttotal: 20.4s\tremaining: 873ms\n",
      "959:\tlearn: 0.3812850\ttotal: 20.4s\tremaining: 852ms\n",
      "960:\tlearn: 0.3812082\ttotal: 20.5s\tremaining: 831ms\n",
      "961:\tlearn: 0.3811333\ttotal: 20.5s\tremaining: 810ms\n",
      "962:\tlearn: 0.3811022\ttotal: 20.5s\tremaining: 789ms\n",
      "963:\tlearn: 0.3810583\ttotal: 20.5s\tremaining: 767ms\n",
      "964:\tlearn: 0.3810116\ttotal: 20.6s\tremaining: 746ms\n",
      "965:\tlearn: 0.3809452\ttotal: 20.6s\tremaining: 725ms\n",
      "966:\tlearn: 0.3808572\ttotal: 20.6s\tremaining: 703ms\n",
      "967:\tlearn: 0.3808417\ttotal: 20.6s\tremaining: 682ms\n",
      "968:\tlearn: 0.3808411\ttotal: 20.6s\tremaining: 661ms\n",
      "969:\tlearn: 0.3807932\ttotal: 20.7s\tremaining: 639ms\n",
      "970:\tlearn: 0.3807458\ttotal: 20.7s\tremaining: 618ms\n",
      "971:\tlearn: 0.3807246\ttotal: 20.7s\tremaining: 597ms\n",
      "972:\tlearn: 0.3806507\ttotal: 20.7s\tremaining: 575ms\n",
      "973:\tlearn: 0.3806083\ttotal: 20.8s\tremaining: 554ms\n",
      "974:\tlearn: 0.3805811\ttotal: 20.8s\tremaining: 533ms\n",
      "975:\tlearn: 0.3805439\ttotal: 20.8s\tremaining: 511ms\n",
      "976:\tlearn: 0.3804849\ttotal: 20.8s\tremaining: 490ms\n",
      "977:\tlearn: 0.3804798\ttotal: 20.8s\tremaining: 469ms\n",
      "978:\tlearn: 0.3803547\ttotal: 20.9s\tremaining: 447ms\n",
      "979:\tlearn: 0.3803026\ttotal: 20.9s\tremaining: 426ms\n",
      "980:\tlearn: 0.3802650\ttotal: 20.9s\tremaining: 405ms\n",
      "981:\tlearn: 0.3802395\ttotal: 20.9s\tremaining: 383ms\n",
      "982:\tlearn: 0.3801803\ttotal: 20.9s\tremaining: 362ms\n",
      "983:\tlearn: 0.3801340\ttotal: 21s\tremaining: 341ms\n",
      "984:\tlearn: 0.3800723\ttotal: 21s\tremaining: 319ms\n",
      "985:\tlearn: 0.3800232\ttotal: 21s\tremaining: 298ms\n",
      "986:\tlearn: 0.3800224\ttotal: 21s\tremaining: 277ms\n",
      "987:\tlearn: 0.3799428\ttotal: 21s\tremaining: 256ms\n",
      "988:\tlearn: 0.3798931\ttotal: 21.1s\tremaining: 234ms\n",
      "989:\tlearn: 0.3798775\ttotal: 21.1s\tremaining: 213ms\n",
      "990:\tlearn: 0.3798580\ttotal: 21.1s\tremaining: 192ms\n",
      "991:\tlearn: 0.3797663\ttotal: 21.1s\tremaining: 170ms\n",
      "992:\tlearn: 0.3797156\ttotal: 21.1s\tremaining: 149ms\n",
      "993:\tlearn: 0.3796266\ttotal: 21.2s\tremaining: 128ms\n",
      "994:\tlearn: 0.3795740\ttotal: 21.2s\tremaining: 106ms\n",
      "995:\tlearn: 0.3794882\ttotal: 21.2s\tremaining: 85.1ms\n",
      "996:\tlearn: 0.3794607\ttotal: 21.2s\tremaining: 63.9ms\n",
      "997:\tlearn: 0.3794518\ttotal: 21.2s\tremaining: 42.6ms\n",
      "998:\tlearn: 0.3794487\ttotal: 21.3s\tremaining: 21.3ms\n",
      "999:\tlearn: 0.3794125\ttotal: 21.3s\tremaining: 0us\n"
     ]
    },
    {
     "data": {
      "text/plain": "<catboost.core.CatBoostClassifier at 0x25a62ffa320>"
     },
     "execution_count": 16,
     "metadata": {},
     "output_type": "execute_result"
    }
   ],
   "source": [
    "model.fit(train_data, train_labels, plot=True)"
   ]
  },
  {
   "cell_type": "code",
   "execution_count": 17,
   "metadata": {
    "id": "otQhvrylgIAS"
   },
   "outputs": [],
   "source": [
    "predict = model.predict(test_data)"
   ]
  },
  {
   "cell_type": "code",
   "execution_count": 18,
   "metadata": {
    "colab": {
     "base_uri": "https://localhost:8080/"
    },
    "id": "ExPwNEVPgqTJ",
    "outputId": "c7c11aa0-8c06-4eb5-99d8-3e6ec3c97672"
   },
   "outputs": [
    {
     "name": "stdout",
     "output_type": "stream",
     "text": [
      "Precision: 0.5098039215686274\n"
     ]
    }
   ],
   "source": [
    "print(f\"Precision: {precision_score(test_labels.astype(int), pd.DataFrame(predict)[0].astype(int))}\")"
   ]
  },
  {
   "cell_type": "code",
   "execution_count": null,
   "outputs": [
    {
     "ename": "KeyboardInterrupt",
     "evalue": "",
     "output_type": "error",
     "traceback": [
      "\u001B[1;31m---------------------------------------------------------------------------\u001B[0m",
      "\u001B[1;31mKeyboardInterrupt\u001B[0m                         Traceback (most recent call last)",
      "Cell \u001B[1;32mIn [19], line 4\u001B[0m\n\u001B[0;32m      1\u001B[0m \u001B[38;5;28;01mimport\u001B[39;00m \u001B[38;5;21;01mcatboost\u001B[39;00m\n\u001B[0;32m      3\u001B[0m w \u001B[38;5;241m=\u001B[39m catboost\u001B[38;5;241m.\u001B[39mMetricVisualizer(\u001B[38;5;124m'\u001B[39m\u001B[38;5;124m/bccommits/\u001B[39m\u001B[38;5;124m'\u001B[39m)\n\u001B[1;32m----> 4\u001B[0m \u001B[43mw\u001B[49m\u001B[38;5;241;43m.\u001B[39;49m\u001B[43mstart\u001B[49m\u001B[43m(\u001B[49m\u001B[43m)\u001B[49m\n",
      "File \u001B[1;32mC:\\Python310\\lib\\site-packages\\catboost\\widget\\ipythonwidget.py:45\u001B[0m, in \u001B[0;36mMetricVisualizer.start\u001B[1;34m(self)\u001B[0m\n\u001B[0;32m     43\u001B[0m display(\u001B[38;5;28mself\u001B[39m)\n\u001B[0;32m     44\u001B[0m \u001B[38;5;28mself\u001B[39m\u001B[38;5;241m.\u001B[39m_update_data()\n\u001B[1;32m---> 45\u001B[0m \u001B[38;5;28;01mwhile\u001B[39;00m \u001B[38;5;129;01mnot\u001B[39;00m \u001B[38;5;28;43mself\u001B[39;49m\u001B[38;5;241;43m.\u001B[39;49m\u001B[43m_need_to_stop\u001B[49m\u001B[38;5;241;43m.\u001B[39;49m\u001B[43mwait\u001B[49m\u001B[43m(\u001B[49m\u001B[38;5;241;43m1.0\u001B[39;49m\u001B[43m)\u001B[49m:\n\u001B[0;32m     46\u001B[0m     \u001B[38;5;28mself\u001B[39m\u001B[38;5;241m.\u001B[39m_update_data()\n\u001B[0;32m     48\u001B[0m \u001B[38;5;28;01mif\u001B[39;00m \u001B[38;5;28mself\u001B[39m\u001B[38;5;241m.\u001B[39m_update_after_stop_signal:\n",
      "File \u001B[1;32mC:\\Python310\\lib\\threading.py:607\u001B[0m, in \u001B[0;36mEvent.wait\u001B[1;34m(self, timeout)\u001B[0m\n\u001B[0;32m    605\u001B[0m signaled \u001B[38;5;241m=\u001B[39m \u001B[38;5;28mself\u001B[39m\u001B[38;5;241m.\u001B[39m_flag\n\u001B[0;32m    606\u001B[0m \u001B[38;5;28;01mif\u001B[39;00m \u001B[38;5;129;01mnot\u001B[39;00m signaled:\n\u001B[1;32m--> 607\u001B[0m     signaled \u001B[38;5;241m=\u001B[39m \u001B[38;5;28;43mself\u001B[39;49m\u001B[38;5;241;43m.\u001B[39;49m\u001B[43m_cond\u001B[49m\u001B[38;5;241;43m.\u001B[39;49m\u001B[43mwait\u001B[49m\u001B[43m(\u001B[49m\u001B[43mtimeout\u001B[49m\u001B[43m)\u001B[49m\n\u001B[0;32m    608\u001B[0m \u001B[38;5;28;01mreturn\u001B[39;00m signaled\n",
      "File \u001B[1;32mC:\\Python310\\lib\\threading.py:324\u001B[0m, in \u001B[0;36mCondition.wait\u001B[1;34m(self, timeout)\u001B[0m\n\u001B[0;32m    322\u001B[0m \u001B[38;5;28;01melse\u001B[39;00m:\n\u001B[0;32m    323\u001B[0m     \u001B[38;5;28;01mif\u001B[39;00m timeout \u001B[38;5;241m>\u001B[39m \u001B[38;5;241m0\u001B[39m:\n\u001B[1;32m--> 324\u001B[0m         gotit \u001B[38;5;241m=\u001B[39m \u001B[43mwaiter\u001B[49m\u001B[38;5;241;43m.\u001B[39;49m\u001B[43macquire\u001B[49m\u001B[43m(\u001B[49m\u001B[38;5;28;43;01mTrue\u001B[39;49;00m\u001B[43m,\u001B[49m\u001B[43m \u001B[49m\u001B[43mtimeout\u001B[49m\u001B[43m)\u001B[49m\n\u001B[0;32m    325\u001B[0m     \u001B[38;5;28;01melse\u001B[39;00m:\n\u001B[0;32m    326\u001B[0m         gotit \u001B[38;5;241m=\u001B[39m waiter\u001B[38;5;241m.\u001B[39macquire(\u001B[38;5;28;01mFalse\u001B[39;00m)\n",
      "\u001B[1;31mKeyboardInterrupt\u001B[0m: "
     ]
    }
   ],
   "source": [
    "import catboost\n",
    "\n",
    "w = catboost.MetricVisualizer('/bccommits/')\n",
    "w.start()"
   ],
   "metadata": {
    "collapsed": false
   }
  }
 ],
 "metadata": {
  "colab": {
   "provenance": []
  },
  "kernelspec": {
   "display_name": "Python 3 (ipykernel)",
   "language": "python",
   "name": "python3"
  },
  "language_info": {
   "codemirror_mode": {
    "name": "ipython",
    "version": 3
   },
   "file_extension": ".py",
   "mimetype": "text/x-python",
   "name": "python",
   "nbconvert_exporter": "python",
   "pygments_lexer": "ipython3",
   "version": "3.10.8"
  },
  "widgets": {
   "application/vnd.jupyter.widget-state+json": {
    "d14e0da4b0e8426dac0770d0ce2bd235": {
     "model_module": "catboost-widget",
     "model_module_version": "^1.0.0",
     "model_name": "CatboostWidgetModel",
     "state": {
      "_dom_classes": [],
      "_model_module": "catboost-widget",
      "_model_module_version": "^1.0.0",
      "_model_name": "CatboostWidgetModel",
      "_view_count": null,
      "_view_module": "catboost-widget",
      "_view_module_version": "^1.0.0",
      "_view_name": "CatboostWidgetView",
      "data": {
       "bccommits": {
        "content": {
         "data": {
          "iterations": [
           {
            "iteration": 0,
            "learn": [
             0.6880775646
            ],
            "passed_time": 0.0106770319,
            "remaining_time": 16.00487082
           },
           {
            "iteration": 1,
            "learn": [
             0.6830802426
            ],
            "passed_time": 0.02118079957,
            "remaining_time": 15.86441888
           },
           {
            "iteration": 2,
            "learn": [
             0.6782034146
            ],
            "passed_time": 0.04086769516,
            "remaining_time": 20.39297988
           },
           {
            "iteration": 3,
            "learn": [
             0.673448621
            ],
            "passed_time": 0.04960364474,
            "remaining_time": 18.55176313
           },
           {
            "iteration": 4,
            "learn": [
             0.6688288372
            ],
            "passed_time": 0.0615916115,
            "remaining_time": 18.41589184
           },
           {
            "iteration": 5,
            "learn": [
             0.664194434
            ],
            "passed_time": 0.07214877831,
            "remaining_time": 17.9650458
           },
           {
            "iteration": 6,
            "learn": [
             0.6598504931
            ],
            "passed_time": 0.07818512362,
            "remaining_time": 16.67576994
           },
           {
            "iteration": 7,
            "learn": [
             0.6553420529
            ],
            "passed_time": 0.09855756269,
            "remaining_time": 18.38098544
           },
           {
            "iteration": 8,
            "learn": [
             0.6509129878
            ],
            "passed_time": 0.103114295,
            "remaining_time": 17.08260154
           },
           {
            "iteration": 9,
            "learn": [
             0.6468817353
            ],
            "passed_time": 0.110966396,
            "remaining_time": 16.533993
           },
           {
            "iteration": 10,
            "learn": [
             0.6427595001
            ],
            "passed_time": 0.1376589653,
            "remaining_time": 18.63401812
           },
           {
            "iteration": 11,
            "learn": [
             0.6387824099
            ],
            "passed_time": 0.1481655212,
            "remaining_time": 18.37252463
           },
           {
            "iteration": 12,
            "learn": [
             0.634876456
            ],
            "passed_time": 0.1582210596,
            "remaining_time": 18.09805505
           },
           {
            "iteration": 13,
            "learn": [
             0.6311148481
            ],
            "passed_time": 0.1667987241,
            "remaining_time": 17.70449314
           },
           {
            "iteration": 14,
            "learn": [
             0.6274529311
            ],
            "passed_time": 0.181882139,
            "remaining_time": 18.00633176
           },
           {
            "iteration": 15,
            "learn": [
             0.6239781369
            ],
            "passed_time": 0.1860593275,
            "remaining_time": 17.25700263
           },
           {
            "iteration": 16,
            "learn": [
             0.6203499494
            ],
            "passed_time": 0.199436871,
            "remaining_time": 17.3979341
           },
           {
            "iteration": 17,
            "learn": [
             0.6169701024
            ],
            "passed_time": 0.2101854936,
            "remaining_time": 17.3052723
           },
           {
            "iteration": 18,
            "learn": [
             0.6137452855
            ],
            "passed_time": 0.2173477955,
            "remaining_time": 16.94168869
           },
           {
            "iteration": 19,
            "learn": [
             0.6104396947
            ],
            "passed_time": 0.239065347,
            "remaining_time": 17.69083568
           },
           {
            "iteration": 20,
            "learn": [
             0.6071395914
            ],
            "passed_time": 0.2475272206,
            "remaining_time": 17.43298854
           },
           {
            "iteration": 21,
            "learn": [
             0.604117768
            ],
            "passed_time": 0.255587268,
            "remaining_time": 17.17081737
           },
           {
            "iteration": 22,
            "learn": [
             0.6008770713
            ],
            "passed_time": 0.2705021192,
            "remaining_time": 17.37094044
           },
           {
            "iteration": 23,
            "learn": [
             0.597585875
            ],
            "passed_time": 0.2808228782,
            "remaining_time": 17.27060701
           },
           {
            "iteration": 24,
            "learn": [
             0.5942954272
            ],
            "passed_time": 0.2916575429,
            "remaining_time": 17.20779503
           },
           {
            "iteration": 25,
            "learn": [
             0.5911389191
            ],
            "passed_time": 0.3052233507,
            "remaining_time": 17.30381611
           },
           {
            "iteration": 26,
            "learn": [
             0.5884664285
            ],
            "passed_time": 0.313281202,
            "remaining_time": 17.09123002
           },
           {
            "iteration": 27,
            "learn": [
             0.5856594486
            ],
            "passed_time": 0.3241348255,
            "remaining_time": 17.04023083
           },
           {
            "iteration": 28,
            "learn": [
             0.5829881699
            ],
            "passed_time": 0.3347552718,
            "remaining_time": 16.98017258
           },
           {
            "iteration": 29,
            "learn": [
             0.5801547631
            ],
            "passed_time": 0.3456239786,
            "remaining_time": 16.93557495
           },
           {
            "iteration": 30,
            "learn": [
             0.5774847275
            ],
            "passed_time": 0.350032888,
            "remaining_time": 16.58704234
           },
           {
            "iteration": 31,
            "learn": [
             0.574828459
            ],
            "passed_time": 0.3543557344,
            "remaining_time": 16.25606931
           },
           {
            "iteration": 32,
            "learn": [
             0.5725681787
            ],
            "passed_time": 0.3569991271,
            "remaining_time": 15.87023392
           },
           {
            "iteration": 33,
            "learn": [
             0.5701377519
            ],
            "passed_time": 0.3612508601,
            "remaining_time": 15.57628709
           },
           {
            "iteration": 34,
            "learn": [
             0.5676387536
            ],
            "passed_time": 0.364580571,
            "remaining_time": 15.26030104
           },
           {
            "iteration": 35,
            "learn": [
             0.5652913286
            ],
            "passed_time": 0.368357591,
            "remaining_time": 14.97987537
           },
           {
            "iteration": 36,
            "learn": [
             0.5630648989
            ],
            "passed_time": 0.3712675703,
            "remaining_time": 14.68012042
           },
           {
            "iteration": 37,
            "learn": [
             0.560900714
            ],
            "passed_time": 0.3743045405,
            "remaining_time": 14.40087469
           },
           {
            "iteration": 38,
            "learn": [
             0.5589589693
            ],
            "passed_time": 0.376891504,
            "remaining_time": 14.11893557
           },
           {
            "iteration": 39,
            "learn": [
             0.556954255
            ],
            "passed_time": 0.3811461816,
            "remaining_time": 13.91183563
           },
           {
            "iteration": 40,
            "learn": [
             0.5551063131
            ],
            "passed_time": 0.3834948637,
            "remaining_time": 13.64680503
           },
           {
            "iteration": 41,
            "learn": [
             0.5531120502
            ],
            "passed_time": 0.3885584259,
            "remaining_time": 13.48852821
           },
           {
            "iteration": 42,
            "learn": [
             0.5512095844
            ],
            "passed_time": 0.3930209781,
            "remaining_time": 13.31701314
           },
           {
            "iteration": 43,
            "learn": [
             0.5493629412
            ],
            "passed_time": 0.3972896167,
            "remaining_time": 13.14667459
           },
           {
            "iteration": 44,
            "learn": [
             0.5476698107
            ],
            "passed_time": 0.4000583043,
            "remaining_time": 12.9352185
           },
           {
            "iteration": 45,
            "learn": [
             0.5458280917
            ],
            "passed_time": 0.404217329,
            "remaining_time": 12.77678253
           },
           {
            "iteration": 46,
            "learn": [
             0.5441880615
            ],
            "passed_time": 0.4074308962,
            "remaining_time": 12.59568281
           },
           {
            "iteration": 47,
            "learn": [
             0.5425081892
            ],
            "passed_time": 0.4101569142,
            "remaining_time": 12.40724665
           },
           {
            "iteration": 48,
            "learn": [
             0.5409544938
            ],
            "passed_time": 0.4134461781,
            "remaining_time": 12.24306948
           },
           {
            "iteration": 49,
            "learn": [
             0.5393087384
            ],
            "passed_time": 0.417480314,
            "remaining_time": 12.1069291
           },
           {
            "iteration": 50,
            "learn": [
             0.5378684461
            ],
            "passed_time": 0.4198342316,
            "remaining_time": 11.9282314
           },
           {
            "iteration": 51,
            "learn": [
             0.5361007755
            ],
            "passed_time": 0.4240714823,
            "remaining_time": 11.80875974
           },
           {
            "iteration": 52,
            "learn": [
             0.5345410425
            ],
            "passed_time": 0.4279191234,
            "remaining_time": 11.68299946
           },
           {
            "iteration": 53,
            "learn": [
             0.5332059022
            ],
            "passed_time": 0.4302255326,
            "remaining_time": 11.52048371
           },
           {
            "iteration": 54,
            "learn": [
             0.5317335246
            ],
            "passed_time": 0.4345056221,
            "remaining_time": 11.41564771
           },
           {
            "iteration": 55,
            "learn": [
             0.530020548
            ],
            "passed_time": 0.4388379256,
            "remaining_time": 11.31574937
           },
           {
            "iteration": 56,
            "learn": [
             0.5285555132
            ],
            "passed_time": 0.442730782,
            "remaining_time": 11.20807927
           },
           {
            "iteration": 57,
            "learn": [
             0.5270479013
            ],
            "passed_time": 0.4469709214,
            "remaining_time": 11.11262187
           },
           {
            "iteration": 58,
            "learn": [
             0.5258725575
            ],
            "passed_time": 0.4493039056,
            "remaining_time": 10.97367675
           },
           {
            "iteration": 59,
            "learn": [
             0.5247254831
            ],
            "passed_time": 0.4515361244,
            "remaining_time": 10.83686699
           },
           {
            "iteration": 60,
            "learn": [
             0.5233642385
            ],
            "passed_time": 0.4560296309,
            "remaining_time": 10.75781375
           },
           {
            "iteration": 61,
            "learn": [
             0.5222730329
            ],
            "passed_time": 0.4583931939,
            "remaining_time": 10.63176472
           },
           {
            "iteration": 62,
            "learn": [
             0.5210932504
            ],
            "passed_time": 0.4617950858,
            "remaining_time": 10.53332601
           },
           {
            "iteration": 63,
            "learn": [
             0.5196345819
            ],
            "passed_time": 0.4663453574,
            "remaining_time": 10.46362396
           },
           {
            "iteration": 64,
            "learn": [
             0.5183065808
            ],
            "passed_time": 0.4708020131,
            "remaining_time": 10.39385983
           },
           {
            "iteration": 65,
            "learn": [
             0.5170877821
            ],
            "passed_time": 0.4751384486,
            "remaining_time": 10.32346266
           },
           {
            "iteration": 66,
            "learn": [
             0.5157257989
            ],
            "passed_time": 0.4795016573,
            "remaining_time": 10.25561007
           },
           {
            "iteration": 67,
            "learn": [
             0.5145243187
            ],
            "passed_time": 0.4837998474,
            "remaining_time": 10.18825561
           },
           {
            "iteration": 68,
            "learn": [
             0.5134275168
            ],
            "passed_time": 0.4885978431,
            "remaining_time": 10.1330944
           },
           {
            "iteration": 69,
            "learn": [
             0.5119052839
            ],
            "passed_time": 0.4932133151,
            "remaining_time": 10.07564344
           },
           {
            "iteration": 70,
            "learn": [
             0.5102870718
            ],
            "passed_time": 0.4984793372,
            "remaining_time": 10.03277427
           },
           {
            "iteration": 71,
            "learn": [
             0.5094460262
            ],
            "passed_time": 0.5027807242,
            "remaining_time": 9.971817697
           },
           {
            "iteration": 72,
            "learn": [
             0.5084688937
            ],
            "passed_time": 0.5065858298,
            "remaining_time": 9.902712043
           },
           {
            "iteration": 73,
            "learn": [
             0.5070619873
            ],
            "passed_time": 0.5120587173,
            "remaining_time": 9.867509876
           },
           {
            "iteration": 74,
            "learn": [
             0.5056479808
            ],
            "passed_time": 0.5165370854,
            "remaining_time": 9.814204623
           },
           {
            "iteration": 75,
            "learn": [
             0.5043068174
            ],
            "passed_time": 0.5212216199,
            "remaining_time": 9.766047194
           },
           {
            "iteration": 76,
            "learn": [
             0.5033962238
            ],
            "passed_time": 0.5251972906,
            "remaining_time": 9.705918759
           },
           {
            "iteration": 77,
            "learn": [
             0.5021021621
            ],
            "passed_time": 0.5297831807,
            "remaining_time": 9.658354909
           },
           {
            "iteration": 78,
            "learn": [
             0.500899134
            ],
            "passed_time": 0.5336518844,
            "remaining_time": 9.598978832
           },
           {
            "iteration": 79,
            "learn": [
             0.4994323576
            ],
            "passed_time": 0.5381831467,
            "remaining_time": 9.552750854
           },
           {
            "iteration": 80,
            "learn": [
             0.49818982
            ],
            "passed_time": 0.5429229659,
            "remaining_time": 9.511206031
           },
           {
            "iteration": 81,
            "learn": [
             0.4970611805
            ],
            "passed_time": 0.5473357495,
            "remaining_time": 9.46490357
           },
           {
            "iteration": 82,
            "learn": [
             0.4957580298
            ],
            "passed_time": 0.5518043101,
            "remaining_time": 9.420562739
           },
           {
            "iteration": 83,
            "learn": [
             0.4944888338
            ],
            "passed_time": 0.5583629027,
            "remaining_time": 9.412403217
           },
           {
            "iteration": 84,
            "learn": [
             0.4934588453
            ],
            "passed_time": 0.5650871952,
            "remaining_time": 9.407039779
           },
           {
            "iteration": 85,
            "learn": [
             0.4923597612
            ],
            "passed_time": 0.5703332516,
            "remaining_time": 9.377339741
           },
           {
            "iteration": 86,
            "learn": [
             0.4912168588
            ],
            "passed_time": 0.5747740107,
            "remaining_time": 9.335122726
           },
           {
            "iteration": 87,
            "learn": [
             0.4901518712
            ],
            "passed_time": 0.5792672581,
            "remaining_time": 9.294606459
           },
           {
            "iteration": 88,
            "learn": [
             0.4891144671
            ],
            "passed_time": 0.5840252028,
            "remaining_time": 9.259096193
           },
           {
            "iteration": 89,
            "learn": [
             0.4880404581
            ],
            "passed_time": 0.5886584619,
            "remaining_time": 9.222315903
           },
           {
            "iteration": 90,
            "learn": [
             0.4872165191
            ],
            "passed_time": 0.5921344633,
            "remaining_time": 9.168323722
           },
           {
            "iteration": 91,
            "learn": [
             0.4861997959
            ],
            "passed_time": 0.5968231015,
            "remaining_time": 9.133988336
           },
           {
            "iteration": 92,
            "learn": [
             0.4853947301
            ],
            "passed_time": 0.5999284481,
            "remaining_time": 9.076336844
           },
           {
            "iteration": 93,
            "learn": [
             0.4846362414
            ],
            "passed_time": 0.6029669451,
            "remaining_time": 9.018846009
           },
           {
            "iteration": 94,
            "learn": [
             0.4837081172
            ],
            "passed_time": 0.607867689,
            "remaining_time": 8.99004319
           },
           {
            "iteration": 95,
            "learn": [
             0.4827493164
            ],
            "passed_time": 0.6127480567,
            "remaining_time": 8.961440329
           },
           {
            "iteration": 96,
            "learn": [
             0.4820065796
            ],
            "passed_time": 0.6156167832,
            "remaining_time": 8.90423038
           },
           {
            "iteration": 97,
            "learn": [
             0.4811719195
            ],
            "passed_time": 0.6188593955,
            "remaining_time": 8.853478291
           },
           {
            "iteration": 98,
            "learn": [
             0.4804312198
            ],
            "passed_time": 0.6230923824,
            "remaining_time": 8.81770129
           },
           {
            "iteration": 99,
            "learn": [
             0.4798354384
            ],
            "passed_time": 0.6257247925,
            "remaining_time": 8.760147095
           },
           {
            "iteration": 100,
            "learn": [
             0.479032519
            ],
            "passed_time": 0.63022348,
            "remaining_time": 8.729531174
           },
           {
            "iteration": 101,
            "learn": [
             0.4783515551
            ],
            "passed_time": 0.6342498952,
            "remaining_time": 8.692954445
           },
           {
            "iteration": 102,
            "learn": [
             0.4775934416
            ],
            "passed_time": 0.6391223585,
            "remaining_time": 8.668484804
           },
           {
            "iteration": 103,
            "learn": [
             0.4769121888
            ],
            "passed_time": 0.643849679,
            "remaining_time": 8.642443768
           },
           {
            "iteration": 104,
            "learn": [
             0.4760818705
            ],
            "passed_time": 0.6485479271,
            "remaining_time": 8.61642246
           },
           {
            "iteration": 105,
            "learn": [
             0.4754849836
            ],
            "passed_time": 0.6514840283,
            "remaining_time": 8.56762958
           },
           {
            "iteration": 106,
            "learn": [
             0.4750485138
            ],
            "passed_time": 0.6542076093,
            "remaining_time": 8.5169271
           },
           {
            "iteration": 107,
            "learn": [
             0.474483548
            ],
            "passed_time": 0.657165233,
            "remaining_time": 8.47012967
           },
           {
            "iteration": 108,
            "learn": [
             0.4737244936
            ],
            "passed_time": 0.6614918682,
            "remaining_time": 8.441607235
           },
           {
            "iteration": 109,
            "learn": [
             0.4730365765
            ],
            "passed_time": 0.6661629663,
            "remaining_time": 8.417877483
           },
           {
            "iteration": 110,
            "learn": [
             0.4724210675
            ],
            "passed_time": 0.670691519,
            "remaining_time": 8.392707386
           },
           {
            "iteration": 111,
            "learn": [
             0.4717091197
            ],
            "passed_time": 0.6753226434,
            "remaining_time": 8.369177045
           },
           {
            "iteration": 112,
            "learn": [
             0.4711260593
            ],
            "passed_time": 0.6800337397,
            "remaining_time": 8.346962805
           },
           {
            "iteration": 113,
            "learn": [
             0.470455698
            ],
            "passed_time": 0.6848760033,
            "remaining_time": 8.326650356
           },
           {
            "iteration": 114,
            "learn": [
             0.4699216412
            ],
            "passed_time": 0.6906564243,
            "remaining_time": 8.317905631
           },
           {
            "iteration": 115,
            "learn": [
             0.4693341917
            ],
            "passed_time": 0.6966129713,
            "remaining_time": 8.311313382
           },
           {
            "iteration": 116,
            "learn": [
             0.4686334116
            ],
            "passed_time": 0.7012038707,
            "remaining_time": 8.288589344
           },
           {
            "iteration": 117,
            "learn": [
             0.4680803051
            ],
            "passed_time": 0.7059154871,
            "remaining_time": 8.267586467
           },
           {
            "iteration": 118,
            "learn": [
             0.4677092791
            ],
            "passed_time": 0.7084542575,
            "remaining_time": 8.221641425
           },
           {
            "iteration": 119,
            "learn": [
             0.4672849615
            ],
            "passed_time": 0.7129062121,
            "remaining_time": 8.198421439
           },
           {
            "iteration": 120,
            "learn": [
             0.4667910843
            ],
            "passed_time": 0.7161887535,
            "remaining_time": 8.162184224
           },
           {
            "iteration": 121,
            "learn": [
             0.4662980807
            ],
            "passed_time": 0.7206482778,
            "remaining_time": 8.139781368
           },
           {
            "iteration": 122,
            "learn": [
             0.4658589373
            ],
            "passed_time": 0.725389107,
            "remaining_time": 8.120819515
           },
           {
            "iteration": 123,
            "learn": [
             0.4652559083
            ],
            "passed_time": 0.7301189976,
            "remaining_time": 8.101965651
           },
           {
            "iteration": 124,
            "learn": [
             0.4647846374
            ],
            "passed_time": 0.7340692496,
            "remaining_time": 8.074761746
           },
           {
            "iteration": 125,
            "learn": [
             0.4642803503
            ],
            "passed_time": 0.7388307154,
            "remaining_time": 8.05677304
           },
           {
            "iteration": 126,
            "learn": [
             0.4639535127
            ],
            "passed_time": 0.7424290684,
            "remaining_time": 8.026418196
           },
           {
            "iteration": 127,
            "learn": [
             0.4635774977
            ],
            "passed_time": 0.7463457406,
            "remaining_time": 7.999893407
           },
           {
            "iteration": 128,
            "learn": [
             0.4632057334
            ],
            "passed_time": 0.7508473209,
            "remaining_time": 7.979935481
           },
           {
            "iteration": 129,
            "learn": [
             0.4626470522
            ],
            "passed_time": 0.7554410882,
            "remaining_time": 7.961186852
           },
           {
            "iteration": 130,
            "learn": [
             0.462469227
            ],
            "passed_time": 0.7578129919,
            "remaining_time": 7.919435007
           },
           {
            "iteration": 131,
            "learn": [
             0.4620219546
            ],
            "passed_time": 0.7623717802,
            "remaining_time": 7.900943903
           },
           {
            "iteration": 132,
            "learn": [
             0.4617264889
            ],
            "passed_time": 0.7670418387,
            "remaining_time": 7.883805966
           },
           {
            "iteration": 133,
            "learn": [
             0.4614453639
            ],
            "passed_time": 0.7713552061,
            "remaining_time": 7.863217996
           },
           {
            "iteration": 134,
            "learn": [
             0.4611343186
            ],
            "passed_time": 0.7741667156,
            "remaining_time": 7.82768568
           },
           {
            "iteration": 135,
            "learn": [
             0.4605148736
            ],
            "passed_time": 0.7791852922,
            "remaining_time": 7.814770137
           },
           {
            "iteration": 136,
            "learn": [
             0.4601875347
            ],
            "passed_time": 0.7840280981,
            "remaining_time": 7.800221152
           },
           {
            "iteration": 137,
            "learn": [
             0.4598595247
            ],
            "passed_time": 0.7887155141,
            "remaining_time": 7.784279204
           },
           {
            "iteration": 138,
            "learn": [
             0.459419038
            ],
            "passed_time": 0.7934985252,
            "remaining_time": 7.7694352
           },
           {
            "iteration": 139,
            "learn": [
             0.4590028849
            ],
            "passed_time": 0.7984176747,
            "remaining_time": 7.756057411
           },
           {
            "iteration": 140,
            "learn": [
             0.458615455
            ],
            "passed_time": 0.8031024473,
            "remaining_time": 7.740540609
           },
           {
            "iteration": 141,
            "learn": [
             0.458255518
            ],
            "passed_time": 0.8077396324,
            "remaining_time": 7.724721274
           },
           {
            "iteration": 142,
            "learn": [
             0.4579666629
            ],
            "passed_time": 0.8123506798,
            "remaining_time": 7.708810297
           },
           {
            "iteration": 143,
            "learn": [
             0.4578391934
            ],
            "passed_time": 0.8146003638,
            "remaining_time": 7.670820093
           },
           {
            "iteration": 144,
            "learn": [
             0.4575109682
            ],
            "passed_time": 0.8190284489,
            "remaining_time": 7.653679643
           },
           {
            "iteration": 145,
            "learn": [
             0.4571620232
            ],
            "passed_time": 0.8237360192,
            "remaining_time": 7.639305274
           },
           {
            "iteration": 146,
            "learn": [
             0.4568269079
            ],
            "passed_time": 0.8283168173,
            "remaining_time": 7.623895604
           },
           {
            "iteration": 147,
            "learn": [
             0.4565004888
            ],
            "passed_time": 0.8330256485,
            "remaining_time": 7.60980187
           },
           {
            "iteration": 148,
            "learn": [
             0.4563882833
            ],
            "passed_time": 0.8353616174,
            "remaining_time": 7.574319094
           },
           {
            "iteration": 149,
            "learn": [
             0.4561355659
            ],
            "passed_time": 0.8382937675,
            "remaining_time": 7.544643907
           },
           {
            "iteration": 150,
            "learn": [
             0.4557112919
            ],
            "passed_time": 0.8429592854,
            "remaining_time": 7.53080845
           },
           {
            "iteration": 151,
            "learn": [
             0.4554960939
            ],
            "passed_time": 0.8475087911,
            "remaining_time": 7.516064805
           },
           {
            "iteration": 152,
            "learn": [
             0.4551855969
            ],
            "passed_time": 0.8514792651,
            "remaining_time": 7.496356668
           },
           {
            "iteration": 153,
            "learn": [
             0.4550322184
            ],
            "passed_time": 0.8540911536,
            "remaining_time": 7.464978525
           },
           {
            "iteration": 154,
            "learn": [
             0.454724626
            ],
            "passed_time": 0.8585755047,
            "remaining_time": 7.450219702
           },
           {
            "iteration": 155,
            "learn": [
             0.4544332621
            ],
            "passed_time": 0.8632454883,
            "remaining_time": 7.437191899
           },
           {
            "iteration": 156,
            "learn": [
             0.4541719055
            ],
            "passed_time": 0.8677027484,
            "remaining_time": 7.422450899
           },
           {
            "iteration": 157,
            "learn": [
             0.4538887427
            ],
            "passed_time": 0.8722150278,
            "remaining_time": 7.408307388
           },
           {
            "iteration": 158,
            "learn": [
             0.4535377096
            ],
            "passed_time": 0.8765141979,
            "remaining_time": 7.392487669
           },
           {
            "iteration": 159,
            "learn": [
             0.4531270383
            ],
            "passed_time": 0.8810895841,
            "remaining_time": 7.379125266
           },
           {
            "iteration": 160,
            "learn": [
             0.4528523649
            ],
            "passed_time": 0.8850789679,
            "remaining_time": 7.360998373
           },
           {
            "iteration": 161,
            "learn": [
             0.4525422906
            ],
            "passed_time": 0.889696961,
            "remaining_time": 7.348237863
           },
           {
            "iteration": 162,
            "learn": [
             0.4523241652
            ],
            "passed_time": 0.8945881331,
            "remaining_time": 7.337818
           },
           {
            "iteration": 163,
            "learn": [
             0.4520416749
            ],
            "passed_time": 0.900170563,
            "remaining_time": 7.333096782
           },
           {
            "iteration": 164,
            "learn": [
             0.4518453714
            ],
            "passed_time": 0.9047447405,
            "remaining_time": 7.320207446
           },
           {
            "iteration": 165,
            "learn": [
             0.451617579
            ],
            "passed_time": 0.9092844813,
            "remaining_time": 7.307141554
           },
           {
            "iteration": 166,
            "learn": [
             0.4514142648
            ],
            "passed_time": 0.9139475909,
            "remaining_time": 7.295162507
           },
           {
            "iteration": 167,
            "learn": [
             0.4511083847
            ],
            "passed_time": 0.918464585,
            "remaining_time": 7.282112067
           },
           {
            "iteration": 168,
            "learn": [
             0.4508218621
            ],
            "passed_time": 0.923175844,
            "remaining_time": 7.270692594
           },
           {
            "iteration": 169,
            "learn": [
             0.4505466422
            ],
            "passed_time": 0.9278866372,
            "remaining_time": 7.259348397
           },
           {
            "iteration": 170,
            "learn": [
             0.4501490412
            ],
            "passed_time": 0.9324415594,
            "remaining_time": 7.246870365
           },
           {
            "iteration": 171,
            "learn": [
             0.4499172481
            ],
            "passed_time": 0.9371781011,
            "remaining_time": 7.235886734
           },
           {
            "iteration": 172,
            "learn": [
             0.4497681758
            ],
            "passed_time": 0.9411862143,
            "remaining_time": 7.219387898
           },
           {
            "iteration": 173,
            "learn": [
             0.4495908697
            ],
            "passed_time": 0.9458327692,
            "remaining_time": 7.207898
           },
           {
            "iteration": 174,
            "learn": [
             0.449323214
            ],
            "passed_time": 0.9506418553,
            "remaining_time": 7.197716905
           },
           {
            "iteration": 175,
            "learn": [
             0.4491696988
            ],
            "passed_time": 0.9552717197,
            "remaining_time": 7.186248619
           },
           {
            "iteration": 176,
            "learn": [
             0.4489727225
            ],
            "passed_time": 0.9599565883,
            "remaining_time": 7.175268736
           },
           {
            "iteration": 177,
            "learn": [
             0.4486408612
            ],
            "passed_time": 0.9644270889,
            "remaining_time": 7.162767481
           },
           {
            "iteration": 178,
            "learn": [
             0.4484513115
            ],
            "passed_time": 0.9690009382,
            "remaining_time": 7.151118656
           },
           {
            "iteration": 179,
            "learn": [
             0.4482867711
            ],
            "passed_time": 0.9735259348,
            "remaining_time": 7.139190189
           },
           {
            "iteration": 180,
            "learn": [
             0.4480761842
            ],
            "passed_time": 0.9782234739,
            "remaining_time": 7.128600895
           },
           {
            "iteration": 181,
            "learn": [
             0.4478893984
            ],
            "passed_time": 0.982779482,
            "remaining_time": 7.117051414
           },
           {
            "iteration": 182,
            "learn": [
             0.4477133856
            ],
            "passed_time": 0.9874428889,
            "remaining_time": 7.106351283
           },
           {
            "iteration": 183,
            "learn": [
             0.4475519892
            ],
            "passed_time": 0.9987114551,
            "remaining_time": 7.142958016
           },
           {
            "iteration": 184,
            "learn": [
             0.4473295088
            ],
            "passed_time": 1.013458989,
            "remaining_time": 7.203776055
           },
           {
            "iteration": 185,
            "learn": [
             0.4471563473
            ],
            "passed_time": 1.017994022,
            "remaining_time": 7.191635188
           },
           {
            "iteration": 186,
            "learn": [
             0.4469633848
            ],
            "passed_time": 1.022538428,
            "remaining_time": 7.179641476
           },
           {
            "iteration": 187,
            "learn": [
             0.446818197
            ],
            "passed_time": 1.027053088,
            "remaining_time": 7.167519425
           },
           {
            "iteration": 188,
            "learn": [
             0.4466326172
            ],
            "passed_time": 1.032014644,
            "remaining_time": 7.158577768
           },
           {
            "iteration": 189,
            "learn": [
             0.4464159303
            ],
            "passed_time": 1.039335082,
            "remaining_time": 7.16594188
           },
           {
            "iteration": 190,
            "learn": [
             0.4463001816
            ],
            "passed_time": 1.043425573,
            "remaining_time": 7.151016098
           },
           {
            "iteration": 191,
            "learn": [
             0.4462633248
            ],
            "passed_time": 1.045562983,
            "remaining_time": 7.122897824
           },
           {
            "iteration": 192,
            "learn": [
             0.4459233607
            ],
            "passed_time": 1.055988604,
            "remaining_time": 7.15117671
           },
           {
            "iteration": 193,
            "learn": [
             0.4458199538
            ],
            "passed_time": 1.061977711,
            "remaining_time": 7.149190155
           },
           {
            "iteration": 194,
            "learn": [
             0.445545428
            ],
            "passed_time": 1.069154118,
            "remaining_time": 7.155108328
           },
           {
            "iteration": 195,
            "learn": [
             0.4453427095
            ],
            "passed_time": 1.074451727,
            "remaining_time": 7.148393123
           },
           {
            "iteration": 196,
            "learn": [
             0.4452066634
            ],
            "passed_time": 1.079273009,
            "remaining_time": 7.13854178
           },
           {
            "iteration": 197,
            "learn": [
             0.4449485998
            ],
            "passed_time": 1.083780342,
            "remaining_time": 7.126676793
           },
           {
            "iteration": 198,
            "learn": [
             0.444799724
            ],
            "passed_time": 1.08866668,
            "remaining_time": 7.117363573
           },
           {
            "iteration": 199,
            "learn": [
             0.4445420373
            ],
            "passed_time": 1.093381851,
            "remaining_time": 7.10698203
           },
           {
            "iteration": 200,
            "learn": [
             0.4443680475
            ],
            "passed_time": 1.098300231,
            "remaining_time": 7.097970147
           },
           {
            "iteration": 201,
            "learn": [
             0.4442248398
            ],
            "passed_time": 1.103243606,
            "remaining_time": 7.089159409
           },
           {
            "iteration": 202,
            "learn": [
             0.4440795768
            ],
            "passed_time": 1.108104876,
            "remaining_time": 7.079862186
           },
           {
            "iteration": 203,
            "learn": [
             0.4439777094
            ],
            "passed_time": 1.112718304,
            "remaining_time": 7.069033932
           },
           {
            "iteration": 204,
            "learn": [
             0.4439199491
            ],
            "passed_time": 1.115655782,
            "remaining_time": 7.047679209
           },
           {
            "iteration": 205,
            "learn": [
             0.4438130948
            ],
            "passed_time": 1.120539671,
            "remaining_time": 7.038729777
           },
           {
            "iteration": 206,
            "learn": [
             0.4437329782
            ],
            "passed_time": 1.123526037,
            "remaining_time": 7.017966987
           },
           {
            "iteration": 207,
            "learn": [
             0.4435838699
            ],
            "passed_time": 1.128657632,
            "remaining_time": 7.010700294
           },
           {
            "iteration": 208,
            "learn": [
             0.4432956145
            ],
            "passed_time": 1.133463979,
            "remaining_time": 7.001444961
           },
           {
            "iteration": 209,
            "learn": [
             0.4432452007
            ],
            "passed_time": 1.136183468,
            "remaining_time": 6.979412732
           },
           {
            "iteration": 210,
            "learn": [
             0.4431317632
            ],
            "passed_time": 1.141076631,
            "remaining_time": 6.970842547
           },
           {
            "iteration": 211,
            "learn": [
             0.4428943439
            ],
            "passed_time": 1.145970948,
            "remaining_time": 6.962314061
           },
           {
            "iteration": 212,
            "learn": [
             0.4428544436
            ],
            "passed_time": 1.148669707,
            "remaining_time": 6.940553583
           },
           {
            "iteration": 213,
            "learn": [
             0.4427297306
            ],
            "passed_time": 1.153392968,
            "remaining_time": 6.931137181
           },
           {
            "iteration": 214,
            "learn": [
             0.4425324024
            ],
            "passed_time": 1.160223332,
            "remaining_time": 6.934358054
           },
           {
            "iteration": 215,
            "learn": [
             0.4424525359
            ],
            "passed_time": 1.167229478,
            "remaining_time": 6.938530785
           },
           {
            "iteration": 216,
            "learn": [
             0.4423461396
            ],
            "passed_time": 1.172010551,
            "remaining_time": 6.929444869
           },
           {
            "iteration": 217,
            "learn": [
             0.4422192401
            ],
            "passed_time": 1.176719152,
            "remaining_time": 6.919972263
           },
           {
            "iteration": 218,
            "learn": [
             0.4420991058
            ],
            "passed_time": 1.181528957,
            "remaining_time": 6.911135131
           },
           {
            "iteration": 219,
            "learn": [
             0.4418536875
            ],
            "passed_time": 1.186422328,
            "remaining_time": 6.902820818
           },
           {
            "iteration": 220,
            "learn": [
             0.4418355646
            ],
            "passed_time": 1.189103737,
            "remaining_time": 6.881736108
           },
           {
            "iteration": 221,
            "learn": [
             0.4416911462
            ],
            "passed_time": 1.19374073,
            "remaining_time": 6.872075016
           },
           {
            "iteration": 222,
            "learn": [
             0.4415336495
            ],
            "passed_time": 1.198858457,
            "remaining_time": 6.865211881
           },
           {
            "iteration": 223,
            "learn": [
             0.4413798929
            ],
            "passed_time": 1.203545767,
            "remaining_time": 6.855912496
           },
           {
            "iteration": 224,
            "learn": [
             0.4412943536
            ],
            "passed_time": 1.208045843,
            "remaining_time": 6.845593108
           },
           {
            "iteration": 225,
            "learn": [
             0.441205955
            ],
            "passed_time": 1.212680174,
            "remaining_time": 6.836082043
           },
           {
            "iteration": 226,
            "learn": [
             0.4411231632
            ],
            "passed_time": 1.217437318,
            "remaining_time": 6.82730267
           },
           {
            "iteration": 227,
            "learn": [
             0.4410387563
            ],
            "passed_time": 1.221985219,
            "remaining_time": 6.817391221
           },
           {
            "iteration": 228,
            "learn": [
             0.4408227291
            ],
            "passed_time": 1.226664922,
            "remaining_time": 6.808258147
           },
           {
            "iteration": 229,
            "learn": [
             0.440641847
            ],
            "passed_time": 1.231296118,
            "remaining_time": 6.798895956
           },
           {
            "iteration": 230,
            "learn": [
             0.4405113101
            ],
            "passed_time": 1.235916055,
            "remaining_time": 6.789512873
           },
           {
            "iteration": 231,
            "learn": [
             0.4403673012
            ],
            "passed_time": 1.240556152,
            "remaining_time": 6.780281037
           },
           {
            "iteration": 232,
            "learn": [
             0.4402560949
            ],
            "passed_time": 1.245627595,
            "remaining_time": 6.773434175
           },
           {
            "iteration": 233,
            "learn": [
             0.4400482387
            ],
            "passed_time": 1.25041881,
            "remaining_time": 6.765086382
           },
           {
            "iteration": 234,
            "learn": [
             0.4399448439
            ],
            "passed_time": 1.255234314,
            "remaining_time": 6.756899605
           },
           {
            "iteration": 235,
            "learn": [
             0.439921421
            ],
            "passed_time": 1.257965472,
            "remaining_time": 6.737577785
           },
           {
            "iteration": 236,
            "learn": [
             0.4397046881
            ],
            "passed_time": 1.262630181,
            "remaining_time": 6.72870008
           },
           {
            "iteration": 237,
            "learn": [
             0.4396250624
            ],
            "passed_time": 1.267608422,
            "remaining_time": 6.72152029
           },
           {
            "iteration": 238,
            "learn": [
             0.4394931916
            ],
            "passed_time": 1.272207943,
            "remaining_time": 6.712360734
           },
           {
            "iteration": 239,
            "learn": [
             0.439458691
            ],
            "passed_time": 1.275418151,
            "remaining_time": 6.69594529
           },
           {
            "iteration": 240,
            "learn": [
             0.4393789819
            ],
            "passed_time": 1.279866383,
            "remaining_time": 6.686106953
           },
           {
            "iteration": 241,
            "learn": [
             0.4393172155
            ],
            "passed_time": 1.28448417,
            "remaining_time": 6.677194569
           },
           {
            "iteration": 242,
            "learn": [
             0.4392015526
            ],
            "passed_time": 1.289199356,
            "remaining_time": 6.668821361
           },
           {
            "iteration": 243,
            "learn": [
             0.4391921901
            ],
            "passed_time": 1.291602192,
            "remaining_time": 6.648575215
           },
           {
            "iteration": 244,
            "learn": [
             0.4391181349
            ],
            "passed_time": 1.297843076,
            "remaining_time": 6.648134939
           },
           {
            "iteration": 245,
            "learn": [
             0.4391092133
            ],
            "passed_time": 1.300164209,
            "remaining_time": 6.627666334
           },
           {
            "iteration": 246,
            "learn": [
             0.4390203725
            ],
            "passed_time": 1.304805338,
            "remaining_time": 6.619113719
           },
           {
            "iteration": 247,
            "learn": [
             0.4389541713
            ],
            "passed_time": 1.309393972,
            "remaining_time": 6.610327632
           },
           {
            "iteration": 248,
            "learn": [
             0.4389261743
            ],
            "passed_time": 1.312956212,
            "remaining_time": 6.59641856
           },
           {
            "iteration": 249,
            "learn": [
             0.4388510945
            ],
            "passed_time": 1.31760096,
            "remaining_time": 6.588004799
           },
           {
            "iteration": 250,
            "learn": [
             0.4386537919
            ],
            "passed_time": 1.322115345,
            "remaining_time": 6.578972375
           },
           {
            "iteration": 251,
            "learn": [
             0.438537301
            ],
            "passed_time": 1.326750694,
            "remaining_time": 6.570574867
           },
           {
            "iteration": 252,
            "learn": [
             0.4384632094
            ],
            "passed_time": 1.331363084,
            "remaining_time": 6.562093933
           },
           {
            "iteration": 253,
            "learn": [
             0.4383860795
            ],
            "passed_time": 1.335874256,
            "remaining_time": 6.553146943
           },
           {
            "iteration": 254,
            "learn": [
             0.4381935107
            ],
            "passed_time": 1.340353226,
            "remaining_time": 6.544077513
           },
           {
            "iteration": 255,
            "learn": [
             0.4381066362
            ],
            "passed_time": 1.344832659,
            "remaining_time": 6.535046201
           },
           {
            "iteration": 256,
            "learn": [
             0.4380363945
            ],
            "passed_time": 1.349580796,
            "remaining_time": 6.527349922
           },
           {
            "iteration": 257,
            "learn": [
             0.4378132412
            ],
            "passed_time": 1.354233335,
            "remaining_time": 6.519216286
           },
           {
            "iteration": 258,
            "learn": [
             0.4375550452
            ],
            "passed_time": 1.359097863,
            "remaining_time": 6.512125283
           },
           {
            "iteration": 259,
            "learn": [
             0.4374399278
            ],
            "passed_time": 1.363703768,
            "remaining_time": 6.503817969
           },
           {
            "iteration": 260,
            "learn": [
             0.4373208469
            ],
            "passed_time": 1.368344528,
            "remaining_time": 6.495704485
           },
           {
            "iteration": 261,
            "learn": [
             0.4372661377
            ],
            "passed_time": 1.372207885,
            "remaining_time": 6.483944129
           },
           {
            "iteration": 262,
            "learn": [
             0.4371611301
            ],
            "passed_time": 1.376831073,
            "remaining_time": 6.475817632
           },
           {
            "iteration": 263,
            "learn": [
             0.4370441082
            ],
            "passed_time": 1.381675706,
            "remaining_time": 6.468754443
           },
           {
            "iteration": 264,
            "learn": [
             0.4368395803
            ],
            "passed_time": 1.386669389,
            "remaining_time": 6.462402625
           },
           {
            "iteration": 265,
            "learn": [
             0.4366539883
            ],
            "passed_time": 1.392055563,
            "remaining_time": 6.457881823
           },
           {
            "iteration": 266,
            "learn": [
             0.4363835527
            ],
            "passed_time": 1.397632805,
            "remaining_time": 6.454236887
           },
           {
            "iteration": 267,
            "learn": [
             0.4363403685
            ],
            "passed_time": 1.402640362,
            "remaining_time": 6.44795868
           },
           {
            "iteration": 268,
            "learn": [
             0.4362299555
            ],
            "passed_time": 1.407536092,
            "remaining_time": 6.441178177
           },
           {
            "iteration": 269,
            "learn": [
             0.436077902
            ],
            "passed_time": 1.412331996,
            "remaining_time": 6.433956871
           },
           {
            "iteration": 270,
            "learn": [
             0.4359238973
            ],
            "passed_time": 1.417109666,
            "remaining_time": 6.426670772
           },
           {
            "iteration": 271,
            "learn": [
             0.4358372753
            ],
            "passed_time": 1.421935678,
            "remaining_time": 6.419621371
           },
           {
            "iteration": 272,
            "learn": [
             0.4358027078
            ],
            "passed_time": 1.426621052,
            "remaining_time": 6.411956156
           },
           {
            "iteration": 273,
            "learn": [
             0.4357840612
            ],
            "passed_time": 1.43007899,
            "remaining_time": 6.398820592
           },
           {
            "iteration": 274,
            "learn": [
             0.4356512335
            ],
            "passed_time": 1.434801307,
            "remaining_time": 6.391387641
           },
           {
            "iteration": 275,
            "learn": [
             0.4355430907
            ],
            "passed_time": 1.439458019,
            "remaining_time": 6.38368339
           },
           {
            "iteration": 276,
            "learn": [
             0.4354190944
            ],
            "passed_time": 1.444053684,
            "remaining_time": 6.375731607
           },
           {
            "iteration": 277,
            "learn": [
             0.4353390338
            ],
            "passed_time": 1.448710054,
            "remaining_time": 6.368070813
           },
           {
            "iteration": 278,
            "learn": [
             0.4352415466
            ],
            "passed_time": 1.453486258,
            "remaining_time": 6.36095599
           },
           {
            "iteration": 279,
            "learn": [
             0.4352113793
            ],
            "passed_time": 1.458100977,
            "remaining_time": 6.353154255
           },
           {
            "iteration": 280,
            "learn": [
             0.435139556
            ],
            "passed_time": 1.462736226,
            "remaining_time": 6.345464267
           },
           {
            "iteration": 281,
            "learn": [
             0.4350666857
            ],
            "passed_time": 1.467406795,
            "remaining_time": 6.337948498
           },
           {
            "iteration": 282,
            "learn": [
             0.4349800437
            ],
            "passed_time": 1.471967566,
            "remaining_time": 6.329980664
           },
           {
            "iteration": 283,
            "learn": [
             0.4348938045
            ],
            "passed_time": 1.476595829,
            "remaining_time": 6.322325802
           },
           {
            "iteration": 284,
            "learn": [
             0.4348836537
            ],
            "passed_time": 1.479179541,
            "remaining_time": 6.305975937
           },
           {
            "iteration": 285,
            "learn": [
             0.4347286088
            ],
            "passed_time": 1.483720111,
            "remaining_time": 6.298028723
           },
           {
            "iteration": 286,
            "learn": [
             0.4345676252
            ],
            "passed_time": 1.488427272,
            "remaining_time": 6.29080934
           },
           {
            "iteration": 287,
            "learn": [
             0.4344862166
            ],
            "passed_time": 1.494040576,
            "remaining_time": 6.287420757
           },
           {
            "iteration": 288,
            "learn": [
             0.434428065
            ],
            "passed_time": 1.49868092,
            "remaining_time": 6.279939771
           },
           {
            "iteration": 289,
            "learn": [
             0.4343181192
            ],
            "passed_time": 1.503461268,
            "remaining_time": 6.273062531
           },
           {
            "iteration": 290,
            "learn": [
             0.4342617178
            ],
            "passed_time": 1.508262093,
            "remaining_time": 6.266284776
           },
           {
            "iteration": 291,
            "learn": [
             0.4341508274
            ],
            "passed_time": 1.512899373,
            "remaining_time": 6.25884398
           },
           {
            "iteration": 292,
            "learn": [
             0.434000136
            ],
            "passed_time": 1.517590753,
            "remaining_time": 6.251645183
           },
           {
            "iteration": 293,
            "learn": [
             0.4339377195
            ],
            "passed_time": 1.522193521,
            "remaining_time": 6.244099953
           },
           {
            "iteration": 294,
            "learn": [
             0.4338396102
            ],
            "passed_time": 1.526863066,
            "remaining_time": 6.23684744
           },
           {
            "iteration": 295,
            "learn": [
             0.4337867614
            ],
            "passed_time": 1.531557057,
            "remaining_time": 6.229711814
           },
           {
            "iteration": 296,
            "learn": [
             0.4337233702
            ],
            "passed_time": 1.53631066,
            "remaining_time": 6.222834086
           },
           {
            "iteration": 297,
            "learn": [
             0.433618602
            ],
            "passed_time": 1.540772333,
            "remaining_time": 6.2147931
           },
           {
            "iteration": 298,
            "learn": [
             0.4335971477
            ],
            "passed_time": 1.54480332,
            "remaining_time": 6.205046111
           },
           {
            "iteration": 299,
            "learn": [
             0.4334475406
            ],
            "passed_time": 1.549651633,
            "remaining_time": 6.198606533
           },
           {
            "iteration": 300,
            "learn": [
             0.4333087289
            ],
            "passed_time": 1.554239645,
            "remaining_time": 6.191140645
           },
           {
            "iteration": 301,
            "learn": [
             0.4332884433
            ],
            "passed_time": 1.557461949,
            "remaining_time": 6.178276209
           },
           {
            "iteration": 302,
            "learn": [
             0.4332490636
            ],
            "passed_time": 1.562028092,
            "remaining_time": 6.170784245
           },
           {
            "iteration": 303,
            "learn": [
             0.4331774104
            ],
            "passed_time": 1.566460703,
            "remaining_time": 6.162786186
           },
           {
            "iteration": 304,
            "learn": [
             0.4331189469
            ],
            "passed_time": 1.571317902,
            "remaining_time": 6.156475059
           },
           {
            "iteration": 305,
            "learn": [
             0.4330775631
            ],
            "passed_time": 1.575888622,
            "remaining_time": 6.149055602
           },
           {
            "iteration": 306,
            "learn": [
             0.4330038151
            ],
            "passed_time": 1.580589222,
            "remaining_time": 6.142159418
           },
           {
            "iteration": 307,
            "learn": [
             0.432869496
            ],
            "passed_time": 1.585016013,
            "remaining_time": 6.134217815
           },
           {
            "iteration": 308,
            "learn": [
             0.4328181444
            ],
            "passed_time": 1.589655485,
            "remaining_time": 6.127118712
           },
           {
            "iteration": 309,
            "learn": [
             0.4327238431
            ],
            "passed_time": 1.594238606,
            "remaining_time": 6.119819167
           },
           {
            "iteration": 310,
            "learn": [
             0.4326430122
            ],
            "passed_time": 1.598651461,
            "remaining_time": 6.111886132
           },
           {
            "iteration": 311,
            "learn": [
             0.4325423925
            ],
            "passed_time": 1.603542905,
            "remaining_time": 6.105797984
           },
           {
            "iteration": 312,
            "learn": [
             0.4324964431
            ],
            "passed_time": 1.608320362,
            "remaining_time": 6.099285206
           },
           {
            "iteration": 313,
            "learn": [
             0.4324312013
            ],
            "passed_time": 1.612939419,
            "remaining_time": 6.092185194
           },
           {
            "iteration": 314,
            "learn": [
             0.432350359
            ],
            "passed_time": 1.617686704,
            "remaining_time": 6.085583316
           },
           {
            "iteration": 315,
            "learn": [
             0.4322499676
            ],
            "passed_time": 1.622026128,
            "remaining_time": 6.077464984
           },
           {
            "iteration": 316,
            "learn": [
             0.4321681903
            ],
            "passed_time": 1.626715348,
            "remaining_time": 6.070675889
           },
           {
            "iteration": 317,
            "learn": [
             0.4321218978
            ],
            "passed_time": 1.631368199,
            "remaining_time": 6.063764814
           },
           {
            "iteration": 318,
            "learn": [
             0.4320713765
            ],
            "passed_time": 1.636088956,
            "remaining_time": 6.057119302
           },
           {
            "iteration": 319,
            "learn": [
             0.4319850965
            ],
            "passed_time": 1.640757593,
            "remaining_time": 6.050293624
           },
           {
            "iteration": 320,
            "learn": [
             0.4319841819
            ],
            "passed_time": 1.643205604,
            "remaining_time": 6.035325255
           },
           {
            "iteration": 321,
            "learn": [
             0.4319028674
            ],
            "passed_time": 1.647671837,
            "remaining_time": 6.027818086
           },
           {
            "iteration": 322,
            "learn": [
             0.4318963421
            ],
            "passed_time": 1.65095126,
            "remaining_time": 6.016005057
           },
           {
            "iteration": 323,
            "learn": [
             0.4317324972
            ],
            "passed_time": 1.655516895,
            "remaining_time": 6.008913173
           },
           {
            "iteration": 324,
            "learn": [
             0.4317174608
            ],
            "passed_time": 1.66022485,
            "remaining_time": 6.002351381
           },
           {
            "iteration": 325,
            "learn": [
             0.4316755699
            ],
            "passed_time": 1.665018058,
            "remaining_time": 5.996107977
           },
           {
            "iteration": 326,
            "learn": [
             0.4315119292
            ],
            "passed_time": 1.669655344,
            "remaining_time": 5.989314125
           },
           {
            "iteration": 327,
            "learn": [
             0.4314305464
            ],
            "passed_time": 1.674282661,
            "remaining_time": 5.9824978
           },
           {
            "iteration": 328,
            "learn": [
             0.4313833889
            ],
            "passed_time": 1.680439209,
            "remaining_time": 5.981137733
           },
           {
            "iteration": 329,
            "learn": [
             0.4313815632
            ],
            "passed_time": 1.683628789,
            "remaining_time": 5.969229344
           },
           {
            "iteration": 330,
            "learn": [
             0.4312896782
            ],
            "passed_time": 1.688237844,
            "remaining_time": 5.962386827
           },
           {
            "iteration": 331,
            "learn": [
             0.4312317447
            ],
            "passed_time": 1.692987452,
            "remaining_time": 5.95605224
           },
           {
            "iteration": 332,
            "learn": [
             0.4310142698
            ],
            "passed_time": 1.697473227,
            "remaining_time": 5.948802572
           },
           {
            "iteration": 333,
            "learn": [
             0.4309467355
            ],
            "passed_time": 1.702089966,
            "remaining_time": 5.942026649
           },
           {
            "iteration": 334,
            "learn": [
             0.4307796732
            ],
            "passed_time": 1.70662338,
            "remaining_time": 5.934973843
           },
           {
            "iteration": 335,
            "learn": [
             0.4306975711
            ],
            "passed_time": 1.711344804,
            "remaining_time": 5.928587357
           },
           {
            "iteration": 336,
            "learn": [
             0.430645643
            ],
            "passed_time": 1.715935736,
            "remaining_time": 5.921760417
           },
           {
            "iteration": 337,
            "learn": [
             0.4305233046
            ],
            "passed_time": 1.722142279,
            "remaining_time": 5.92050097
           },
           {
            "iteration": 338,
            "learn": [
             0.4304750666
            ],
            "passed_time": 1.726932594,
            "remaining_time": 5.91436207
           },
           {
            "iteration": 339,
            "learn": [
             0.4303784916
            ],
            "passed_time": 1.731741602,
            "remaining_time": 5.908294876
           },
           {
            "iteration": 340,
            "learn": [
             0.4302752769
            ],
            "passed_time": 1.73631992,
            "remaining_time": 5.901450988
           },
           {
            "iteration": 341,
            "learn": [
             0.4302208817
            ],
            "passed_time": 1.741020332,
            "remaining_time": 5.895033754
           },
           {
            "iteration": 342,
            "learn": [
             0.4302200334
            ],
            "passed_time": 1.744027154,
            "remaining_time": 5.882913754
           },
           {
            "iteration": 343,
            "learn": [
             0.4300805122
            ],
            "passed_time": 1.748747664,
            "remaining_time": 5.876605522
           },
           {
            "iteration": 344,
            "learn": [
             0.4299932901
            ],
            "passed_time": 1.753415283,
            "remaining_time": 5.870129424
           },
           {
            "iteration": 345,
            "learn": [
             0.4299032608
            ],
            "passed_time": 1.757995355,
            "remaining_time": 5.863371792
           },
           {
            "iteration": 346,
            "learn": [
             0.4298999364
            ],
            "passed_time": 1.762305257,
            "remaining_time": 5.855728995
           },
           {
            "iteration": 347,
            "learn": [
             0.4298593703
            ],
            "passed_time": 1.766098241,
            "remaining_time": 5.846394178
           },
           {
            "iteration": 348,
            "learn": [
             0.429780404
            ],
            "passed_time": 1.770859562,
            "remaining_time": 5.840284688
           },
           {
            "iteration": 349,
            "learn": [
             0.4296980623
            ],
            "passed_time": 1.775513141,
            "remaining_time": 5.83382889
           },
           {
            "iteration": 350,
            "learn": [
             0.4296312499
            ],
            "passed_time": 1.780420397,
            "remaining_time": 5.828213778
           },
           {
            "iteration": 351,
            "learn": [
             0.4295882319
            ],
            "passed_time": 1.78494115,
            "remaining_time": 5.82134216
           },
           {
            "iteration": 352,
            "learn": [
             0.4295634198
            ],
            "passed_time": 1.78968536,
            "remaining_time": 5.815209937
           },
           {
            "iteration": 353,
            "learn": [
             0.4294549824
            ],
            "passed_time": 1.794449286,
            "remaining_time": 5.809149383
           },
           {
            "iteration": 354,
            "learn": [
             0.4294038911
            ],
            "passed_time": 1.798974696,
            "remaining_time": 5.802326835
           },
           {
            "iteration": 355,
            "learn": [
             0.4292781977
            ],
            "passed_time": 1.803809369,
            "remaining_time": 5.796511006
           },
           {
            "iteration": 356,
            "learn": [
             0.4291925162
            ],
            "passed_time": 1.808380119,
            "remaining_time": 5.789855677
           },
           {
            "iteration": 357,
            "learn": [
             0.4291473961
            ],
            "passed_time": 1.812989693,
            "remaining_time": 5.783335835
           },
           {
            "iteration": 358,
            "learn": [
             0.4291251017
            ],
            "passed_time": 1.817568355,
            "remaining_time": 5.776728392
           },
           {
            "iteration": 359,
            "learn": [
             0.4290575954
            ],
            "passed_time": 1.822420364,
            "remaining_time": 5.77099782
           },
           {
            "iteration": 360,
            "learn": [
             0.4289690955
            ],
            "passed_time": 1.8271244,
            "remaining_time": 5.76480524
           },
           {
            "iteration": 361,
            "learn": [
             0.4289113447
            ],
            "passed_time": 1.831522926,
            "remaining_time": 5.75766047
           },
           {
            "iteration": 362,
            "learn": [
             0.4288534543
            ],
            "passed_time": 1.836184782,
            "remaining_time": 5.751355639
           },
           {
            "iteration": 363,
            "learn": [
             0.4288349824
            ],
            "passed_time": 1.839886793,
            "remaining_time": 5.742064276
           },
           {
            "iteration": 364,
            "learn": [
             0.4287011189
            ],
            "passed_time": 1.844537761,
            "remaining_time": 5.735754408
           },
           {
            "iteration": 365,
            "learn": [
             0.4286230195
            ],
            "passed_time": 1.849085282,
            "remaining_time": 5.729133086
           },
           {
            "iteration": 366,
            "learn": [
             0.4285347789
            ],
            "passed_time": 1.853574845,
            "remaining_time": 5.722344141
           },
           {
            "iteration": 367,
            "learn": [
             0.4284415596
            ],
            "passed_time": 1.858120805,
            "remaining_time": 5.715741172
           },
           {
            "iteration": 368,
            "learn": [
             0.428329566
            ],
            "passed_time": 1.862776698,
            "remaining_time": 5.709486302
           },
           {
            "iteration": 369,
            "learn": [
             0.4282810866
            ],
            "passed_time": 1.867510005,
            "remaining_time": 5.703476502
           },
           {
            "iteration": 370,
            "learn": [
             0.428159617
            ],
            "passed_time": 1.872133014,
            "remaining_time": 5.697137931
           },
           {
            "iteration": 371,
            "learn": [
             0.4281154849
            ],
            "passed_time": 1.877773041,
            "remaining_time": 5.693892446
           },
           {
            "iteration": 372,
            "learn": [
             0.4280540066
            ],
            "passed_time": 1.882999872,
            "remaining_time": 5.689385672
           },
           {
            "iteration": 373,
            "learn": [
             0.4280012998
            ],
            "passed_time": 1.88783938,
            "remaining_time": 5.683708935
           },
           {
            "iteration": 374,
            "learn": [
             0.4279788485
            ],
            "passed_time": 1.892372512,
            "remaining_time": 5.677117537
           },
           {
            "iteration": 375,
            "learn": [
             0.4279786805
            ],
            "passed_time": 1.895175534,
            "remaining_time": 5.665365161
           },
           {
            "iteration": 376,
            "learn": [
             0.4279187599
            ],
            "passed_time": 1.899873907,
            "remaining_time": 5.659306095
           },
           {
            "iteration": 377,
            "learn": [
             0.4278984286
            ],
            "passed_time": 1.904543635,
            "remaining_time": 5.653169202
           },
           {
            "iteration": 378,
            "learn": [
             0.4277948576
            ],
            "passed_time": 1.909406467,
            "remaining_time": 5.647611214
           },
           {
            "iteration": 379,
            "learn": [
             0.4277816877
            ],
            "passed_time": 1.91383916,
            "remaining_time": 5.640789103
           },
           {
            "iteration": 380,
            "learn": [
             0.4277449588
            ],
            "passed_time": 1.918604923,
            "remaining_time": 5.634957765
           },
           {
            "iteration": 381,
            "learn": [
             0.4277045061
            ],
            "passed_time": 1.922166508,
            "remaining_time": 5.625607737
           },
           {
            "iteration": 382,
            "learn": [
             0.4276283913
            ],
            "passed_time": 1.927031605,
            "remaining_time": 5.620089563
           },
           {
            "iteration": 383,
            "learn": [
             0.4275502874
            ],
            "passed_time": 1.931716638,
            "remaining_time": 5.61405148
           },
           {
            "iteration": 384,
            "learn": [
             0.4274799042
            ],
            "passed_time": 1.93679524,
            "remaining_time": 5.609160241
           },
           {
            "iteration": 385,
            "learn": [
             0.4273843517
            ],
            "passed_time": 1.941268795,
            "remaining_time": 5.602521858
           },
           {
            "iteration": 386,
            "learn": [
             0.427205043
            ],
            "passed_time": 1.945712347,
            "remaining_time": 5.595808379
           },
           {
            "iteration": 387,
            "learn": [
             0.4270753675
            ],
            "passed_time": 1.950558072,
            "remaining_time": 5.590259216
           },
           {
            "iteration": 388,
            "learn": [
             0.4270082948
            ],
            "passed_time": 1.955106609,
            "remaining_time": 5.58386489
           },
           {
            "iteration": 389,
            "learn": [
             0.4269098059
            ],
            "passed_time": 1.959925094,
            "remaining_time": 5.578248345
           },
           {
            "iteration": 390,
            "learn": [
             0.4268605857
            ],
            "passed_time": 1.964527982,
            "remaining_time": 5.572024379
           },
           {
            "iteration": 391,
            "learn": [
             0.4267759709
            ],
            "passed_time": 1.969181776,
            "remaining_time": 5.565952572
           },
           {
            "iteration": 392,
            "learn": [
             0.4267371563
            ],
            "passed_time": 1.973721068,
            "remaining_time": 5.55956545
           },
           {
            "iteration": 393,
            "learn": [
             0.4266425936
            ],
            "passed_time": 1.97847077,
            "remaining_time": 5.553778355
           },
           {
            "iteration": 394,
            "learn": [
             0.4265574086
            ],
            "passed_time": 1.983025112,
            "remaining_time": 5.547449996
           },
           {
            "iteration": 395,
            "learn": [
             0.4264698458
            ],
            "passed_time": 1.987621217,
            "remaining_time": 5.541247028
           },
           {
            "iteration": 396,
            "learn": [
             0.4264083945
            ],
            "passed_time": 2.010464387,
            "remaining_time": 5.585748662
           },
           {
            "iteration": 397,
            "learn": [
             0.4264043657
            ],
            "passed_time": 2.019284063,
            "remaining_time": 5.591083008
           },
           {
            "iteration": 398,
            "learn": [
             0.4263461269
            ],
            "passed_time": 2.025225915,
            "remaining_time": 5.588405345
           },
           {
            "iteration": 399,
            "learn": [
             0.4262773476
            ],
            "passed_time": 2.031673058,
            "remaining_time": 5.587100911
           },
           {
            "iteration": 400,
            "learn": [
             0.4262322404
            ],
            "passed_time": 2.036295614,
            "remaining_time": 5.580770274
           },
           {
            "iteration": 401,
            "learn": [
             0.4261961182
            ],
            "passed_time": 2.040769533,
            "remaining_time": 5.574042158
           },
           {
            "iteration": 402,
            "learn": [
             0.4261320403
            ],
            "passed_time": 2.045417422,
            "remaining_time": 5.567798789
           },
           {
            "iteration": 403,
            "learn": [
             0.4260618288
            ],
            "passed_time": 2.050136921,
            "remaining_time": 5.561757587
           },
           {
            "iteration": 404,
            "learn": [
             0.4259926957
            ],
            "passed_time": 2.057006921,
            "remaining_time": 5.56153723
           },
           {
            "iteration": 405,
            "learn": [
             0.4259383385
            ],
            "passed_time": 2.063720349,
            "remaining_time": 5.560862221
           },
           {
            "iteration": 406,
            "learn": [
             0.4259375415
            ],
            "passed_time": 2.067795602,
            "remaining_time": 5.553072711
           },
           {
            "iteration": 407,
            "learn": [
             0.4259004437
            ],
            "passed_time": 2.073466809,
            "remaining_time": 5.549572929
           },
           {
            "iteration": 408,
            "learn": [
             0.4258261046
            ],
            "passed_time": 2.07986895,
            "remaining_time": 5.548012285
           },
           {
            "iteration": 409,
            "learn": [
             0.4257423118
            ],
            "passed_time": 2.083823993,
            "remaining_time": 5.539922323
           },
           {
            "iteration": 410,
            "learn": [
             0.4257354364
            ],
            "passed_time": 2.087845093,
            "remaining_time": 5.532027508
           },
           {
            "iteration": 411,
            "learn": [
             0.4256894038
            ],
            "passed_time": 2.092429731,
            "remaining_time": 5.525639679
           },
           {
            "iteration": 412,
            "learn": [
             0.4256737322
            ],
            "passed_time": 2.095787145,
            "remaining_time": 5.516030573
           },
           {
            "iteration": 413,
            "learn": [
             0.4256219062
            ],
            "passed_time": 2.100294551,
            "remaining_time": 5.509468316
           },
           {
            "iteration": 414,
            "learn": [
             0.4255282582
            ],
            "passed_time": 2.105464067,
            "remaining_time": 5.504647019
           },
           {
            "iteration": 415,
            "learn": [
             0.4254933408
            ],
            "passed_time": 2.110260099,
            "remaining_time": 5.498850836
           },
           {
            "iteration": 416,
            "learn": [
             0.4254414688
            ],
            "passed_time": 2.11480445,
            "remaining_time": 5.492405802
           },
           {
            "iteration": 417,
            "learn": [
             0.4254044706
            ],
            "passed_time": 2.119601871,
            "remaining_time": 5.486624939
           },
           {
            "iteration": 418,
            "learn": [
             0.4253226081
            ],
            "passed_time": 2.124366085,
            "remaining_time": 5.480763099
           },
           {
            "iteration": 419,
            "learn": [
             0.4253224358
            ],
            "passed_time": 2.127707842,
            "remaining_time": 5.471248736
           },
           {
            "iteration": 420,
            "learn": [
             0.4252848584
            ],
            "passed_time": 2.132238256,
            "remaining_time": 5.464810163
           },
           {
            "iteration": 421,
            "learn": [
             0.4252848565
            ],
            "passed_time": 2.134473206,
            "remaining_time": 5.452516863
           },
           {
            "iteration": 422,
            "learn": [
             0.4250616214
            ],
            "passed_time": 2.139198088,
            "remaining_time": 5.446610734
           },
           {
            "iteration": 423,
            "learn": [
             0.4250182903
            ],
            "passed_time": 2.144178358,
            "remaining_time": 5.441358285
           },
           {
            "iteration": 424,
            "learn": [
             0.424860624
            ],
            "passed_time": 2.148748001,
            "remaining_time": 5.435068474
           },
           {
            "iteration": 425,
            "learn": [
             0.4247941364
            ],
            "passed_time": 2.158162245,
            "remaining_time": 5.441000589
           },
           {
            "iteration": 426,
            "learn": [
             0.4247477268
            ],
            "passed_time": 2.16281424,
            "remaining_time": 5.434893863
           },
           {
            "iteration": 427,
            "learn": [
             0.4246988565
            ],
            "passed_time": 2.167415603,
            "remaining_time": 5.428667117
           },
           {
            "iteration": 428,
            "learn": [
             0.4246633661
            ],
            "passed_time": 2.171880434,
            "remaining_time": 5.422107097
           },
           {
            "iteration": 429,
            "learn": [
             0.4245551178
            ],
            "passed_time": 2.176653323,
            "remaining_time": 5.416323386
           },
           {
            "iteration": 430,
            "learn": [
             0.4245195927
            ],
            "passed_time": 2.181210411,
            "remaining_time": 5.410009116
           },
           {
            "iteration": 431,
            "learn": [
             0.4243743158
            ],
            "passed_time": 2.186771724,
            "remaining_time": 5.406185651
           },
           {
            "iteration": 432,
            "learn": [
             0.4242831864
            ],
            "passed_time": 2.192158736,
            "remaining_time": 5.401924644
           },
           {
            "iteration": 433,
            "learn": [
             0.4242831759
            ],
            "passed_time": 2.195287827,
            "remaining_time": 5.392112496
           },
           {
            "iteration": 434,
            "learn": [
             0.4242518407
            ],
            "passed_time": 2.200352827,
            "remaining_time": 5.387070715
           },
           {
            "iteration": 435,
            "learn": [
             0.4242322234
            ],
            "passed_time": 2.205077508,
            "remaining_time": 5.381198323
           },
           {
            "iteration": 436,
            "learn": [
             0.424185864
            ],
            "passed_time": 2.209835243,
            "remaining_time": 5.375411585
           },
           {
            "iteration": 437,
            "learn": [
             0.4241185424
            ],
            "passed_time": 2.214534293,
            "remaining_time": 5.369487257
           },
           {
            "iteration": 438,
            "learn": [
             0.4240211796
            ],
            "passed_time": 2.218927112,
            "remaining_time": 5.362828397
           },
           {
            "iteration": 439,
            "learn": [
             0.4238958949
            ],
            "passed_time": 2.223548818,
            "remaining_time": 5.356731244
           },
           {
            "iteration": 440,
            "learn": [
             0.4238958744
            ],
            "passed_time": 2.226141027,
            "remaining_time": 5.345767228
           },
           {
            "iteration": 441,
            "learn": [
             0.4238582558
            ],
            "passed_time": 2.230603433,
            "remaining_time": 5.33931772
           },
           {
            "iteration": 442,
            "learn": [
             0.4238093645
            ],
            "passed_time": 2.235199665,
            "remaining_time": 5.333196491
           },
           {
            "iteration": 443,
            "learn": [
             0.4237799979
            ],
            "passed_time": 2.24015716,
            "remaining_time": 5.327941354
           },
           {
            "iteration": 444,
            "learn": [
             0.4237258045
            ],
            "passed_time": 2.24477524,
            "remaining_time": 5.321882873
           },
           {
            "iteration": 445,
            "learn": [
             0.4236900024
            ],
            "passed_time": 2.249497823,
            "remaining_time": 5.316077816
           },
           {
            "iteration": 446,
            "learn": [
             0.4235213842
            ],
            "passed_time": 2.25412886,
            "remaining_time": 5.310061947
           },
           {
            "iteration": 447,
            "learn": [
             0.4234224989
            ],
            "passed_time": 2.258606234,
            "remaining_time": 5.303691424
           },
           {
            "iteration": 448,
            "learn": [
             0.4233771564
            ],
            "passed_time": 2.263260766,
            "remaining_time": 5.297744021
           },
           {
            "iteration": 449,
            "learn": [
             0.4233500571
            ],
            "passed_time": 2.267950062,
            "remaining_time": 5.291883477
           },
           {
            "iteration": 450,
            "learn": [
             0.4233484004
            ],
            "passed_time": 2.271391558,
            "remaining_time": 5.28312582
           },
           {
            "iteration": 451,
            "learn": [
             0.423272919
            ],
            "passed_time": 2.276720564,
            "remaining_time": 5.278768033
           },
           {
            "iteration": 452,
            "learn": [
             0.423233387
            ],
            "passed_time": 2.281330458,
            "remaining_time": 5.272743907
           },
           {
            "iteration": 453,
            "learn": [
             0.4231770413
            ],
            "passed_time": 2.286160503,
            "remaining_time": 5.267233229
           },
           {
            "iteration": 454,
            "learn": [
             0.4231233746
            ],
            "passed_time": 2.290766861,
            "remaining_time": 5.261211801
           },
           {
            "iteration": 455,
            "learn": [
             0.4230139982
            ],
            "passed_time": 2.296043553,
            "remaining_time": 5.256731293
           },
           {
            "iteration": 456,
            "learn": [
             0.422978596
            ],
            "passed_time": 2.302830846,
            "remaining_time": 5.255694908
           },
           {
            "iteration": 457,
            "learn": [
             0.4229235286
            ],
            "passed_time": 2.307362065,
            "remaining_time": 5.249500594
           },
           {
            "iteration": 458,
            "learn": [
             0.4228878084
            ],
            "passed_time": 2.311880631,
            "remaining_time": 5.243284829
           },
           {
            "iteration": 459,
            "learn": [
             0.4228458637
            ],
            "passed_time": 2.316584995,
            "remaining_time": 5.237496511
           },
           {
            "iteration": 460,
            "learn": [
             0.4227436187
            ],
            "passed_time": 2.321309611,
            "remaining_time": 5.231758538
           },
           {
            "iteration": 461,
            "learn": [
             0.4226721721
            ],
            "passed_time": 2.326233044,
            "remaining_time": 5.226471643
           },
           {
            "iteration": 462,
            "learn": [
             0.4226374714
            ],
            "passed_time": 2.331102601,
            "remaining_time": 5.221065653
           },
           {
            "iteration": 463,
            "learn": [
             0.422544116
            ],
            "passed_time": 2.335816125,
            "remaining_time": 5.215313591
           },
           {
            "iteration": 464,
            "learn": [
             0.4224520023
            ],
            "passed_time": 2.340459629,
            "remaining_time": 5.209410142
           },
           {
            "iteration": 465,
            "learn": [
             0.4224351661
            ],
            "passed_time": 2.345017955,
            "remaining_time": 5.203323102
           },
           {
            "iteration": 466,
            "learn": [
             0.4223571304
            ],
            "passed_time": 2.349530434,
            "remaining_time": 5.197141195
           },
           {
            "iteration": 467,
            "learn": [
             0.4222966322
            ],
            "passed_time": 2.35417938,
            "remaining_time": 5.191267351
           },
           {
            "iteration": 468,
            "learn": [
             0.4222452643
            ],
            "passed_time": 2.358719222,
            "remaining_time": 5.185158888
           },
           {
            "iteration": 469,
            "learn": [
             0.4222451409
            ],
            "passed_time": 2.361572446,
            "remaining_time": 5.175360892
           },
           {
            "iteration": 470,
            "learn": [
             0.4221855248
            ],
            "passed_time": 2.366056696,
            "remaining_time": 5.169155712
           },
           {
            "iteration": 471,
            "learn": [
             0.4221261719
            ],
            "passed_time": 2.370767692,
            "remaining_time": 5.163451668
           },
           {
            "iteration": 472,
            "learn": [
             0.4220215113
            ],
            "passed_time": 2.375407075,
            "remaining_time": 5.157596334
           },
           {
            "iteration": 473,
            "learn": [
             0.4220098099
            ],
            "passed_time": 2.379997475,
            "remaining_time": 5.151640105
           },
           {
            "iteration": 474,
            "learn": [
             0.4219864508
            ],
            "passed_time": 2.384590678,
            "remaining_time": 5.145695673
           },
           {
            "iteration": 475,
            "learn": [
             0.4218989821
            ],
            "passed_time": 2.38918658,
            "remaining_time": 5.139762727
           },
           {
            "iteration": 476,
            "learn": [
             0.4217657635
            ],
            "passed_time": 2.393953202,
            "remaining_time": 5.134201522
           },
           {
            "iteration": 477,
            "learn": [
             0.42168516
            ],
            "passed_time": 2.398255587,
            "remaining_time": 5.127651066
           },
           {
            "iteration": 478,
            "learn": [
             0.4216569333
            ],
            "passed_time": 2.402807255,
            "remaining_time": 5.121641352
           },
           {
            "iteration": 479,
            "learn": [
             0.4216005503
            ],
            "passed_time": 2.407456757,
            "remaining_time": 5.115845609
           },
           {
            "iteration": 480,
            "learn": [
             0.421510145
            ],
            "passed_time": 2.412059587,
            "remaining_time": 5.109955758
           },
           {
            "iteration": 481,
            "learn": [
             0.4213605502
            ],
            "passed_time": 2.416828796,
            "remaining_time": 5.104422645
           },
           {
            "iteration": 482,
            "learn": [
             0.4212881145
            ],
            "passed_time": 2.421451187,
            "remaining_time": 5.098583556
           },
           {
            "iteration": 483,
            "learn": [
             0.4212084406
            ],
            "passed_time": 2.426127478,
            "remaining_time": 5.092862641
           },
           {
            "iteration": 484,
            "learn": [
             0.4211259451
            ],
            "passed_time": 2.430736599,
            "remaining_time": 5.08700546
           },
           {
            "iteration": 485,
            "learn": [
             0.4210799491
            ],
            "passed_time": 2.44426417,
            "remaining_time": 5.099761046
           },
           {
            "iteration": 486,
            "learn": [
             0.4210259311
            ],
            "passed_time": 2.449211229,
            "remaining_time": 5.094560524
           },
           {
            "iteration": 487,
            "learn": [
             0.4209259349
            ],
            "passed_time": 2.453918129,
            "remaining_time": 5.088863005
           },
           {
            "iteration": 488,
            "learn": [
             0.42089373
            ],
            "passed_time": 2.458432641,
            "remaining_time": 5.082771779
           },
           {
            "iteration": 489,
            "learn": [
             0.4208536542
            ],
            "passed_time": 2.463009632,
            "remaining_time": 5.076815772
           },
           {
            "iteration": 490,
            "learn": [
             0.420772154
            ],
            "passed_time": 2.467774752,
            "remaining_time": 5.071251985
           },
           {
            "iteration": 491,
            "learn": [
             0.4207229962
            ],
            "passed_time": 2.472344823,
            "remaining_time": 5.065291833
           },
           {
            "iteration": 492,
            "learn": [
             0.4206983418
            ],
            "passed_time": 2.477588318,
            "remaining_time": 5.060712852
           },
           {
            "iteration": 493,
            "learn": [
             0.4205964303
            ],
            "passed_time": 2.482229996,
            "remaining_time": 5.054905619
           },
           {
            "iteration": 494,
            "learn": [
             0.4204922263
            ],
            "passed_time": 2.486976042,
            "remaining_time": 5.049314994
           },
           {
            "iteration": 495,
            "learn": [
             0.4204677023
            ],
            "passed_time": 2.491427728,
            "remaining_time": 5.043131932
           },
           {
            "iteration": 496,
            "learn": [
             0.420306958
            ],
            "passed_time": 2.495929617,
            "remaining_time": 5.037057154
           },
           {
            "iteration": 497,
            "learn": [
             0.4202441352
            ],
            "passed_time": 2.50045843,
            "remaining_time": 5.031042866
           },
           {
            "iteration": 498,
            "learn": [
             0.4201050716
            ],
            "passed_time": 2.505184159,
            "remaining_time": 5.025429545
           },
           {
            "iteration": 499,
            "learn": [
             0.4199657855
            ],
            "passed_time": 2.51022523,
            "remaining_time": 5.020450461
           },
           {
            "iteration": 500,
            "learn": [
             0.4199292842
            ],
            "passed_time": 2.514661677,
            "remaining_time": 5.014265499
           },
           {
            "iteration": 501,
            "learn": [
             0.4198332935
            ],
            "passed_time": 2.51937853,
            "remaining_time": 5.008644966
           },
           {
            "iteration": 502,
            "learn": [
             0.4197728207
            ],
            "passed_time": 2.524050309,
            "remaining_time": 5.002938683
           },
           {
            "iteration": 503,
            "learn": [
             0.4197473538
            ],
            "passed_time": 2.528740459,
            "remaining_time": 4.997272811
           },
           {
            "iteration": 504,
            "learn": [
             0.4197096139
            ],
            "passed_time": 2.533276686,
            "remaining_time": 4.991307529
           },
           {
            "iteration": 505,
            "learn": [
             0.4197095625
            ],
            "passed_time": 2.535590645,
            "remaining_time": 4.980982413
           },
           {
            "iteration": 506,
            "learn": [
             0.4196662045
            ],
            "passed_time": 2.54015626,
            "remaining_time": 4.975098946
           },
           {
            "iteration": 507,
            "learn": [
             0.4196532652
            ],
            "passed_time": 2.544726349,
            "remaining_time": 4.969229406
           },
           {
            "iteration": 508,
            "learn": [
             0.4196327682
            ],
            "passed_time": 2.549297391,
            "remaining_time": 4.963366827
           },
           {
            "iteration": 509,
            "learn": [
             0.4196118282
            ],
            "passed_time": 2.553664825,
            "remaining_time": 4.957114073
           },
           {
            "iteration": 510,
            "learn": [
             0.4195721767
            ],
            "passed_time": 2.558097144,
            "remaining_time": 4.950994276
           },
           {
            "iteration": 511,
            "learn": [
             0.4195283007
            ],
            "passed_time": 2.563529923,
            "remaining_time": 4.946811649
           },
           {
            "iteration": 512,
            "learn": [
             0.4194344273
            ],
            "passed_time": 2.571018874,
            "remaining_time": 4.946580173
           },
           {
            "iteration": 513,
            "learn": [
             0.4194018868
            ],
            "passed_time": 2.575514988,
            "remaining_time": 4.940579335
           },
           {
            "iteration": 514,
            "learn": [
             0.41935898
            ],
            "passed_time": 2.580371634,
            "remaining_time": 4.935273902
           },
           {
            "iteration": 515,
            "learn": [
             0.4192382463
            ],
            "passed_time": 2.585073129,
            "remaining_time": 4.929674339
           },
           {
            "iteration": 516,
            "learn": [
             0.4192257829
            ],
            "passed_time": 2.588378651,
            "remaining_time": 4.921424012
           },
           {
            "iteration": 517,
            "learn": [
             0.4191734904
            ],
            "passed_time": 2.592976508,
            "remaining_time": 4.915642724
           },
           {
            "iteration": 518,
            "learn": [
             0.4191733758
            ],
            "passed_time": 2.595740922,
            "remaining_time": 4.906400471
           },
           {
            "iteration": 519,
            "learn": [
             0.4191592703
            ],
            "passed_time": 2.6003102,
            "remaining_time": 4.900584608
           },
           {
            "iteration": 520,
            "learn": [
             0.4191094515
            ],
            "passed_time": 2.604836923,
            "remaining_time": 4.894693565
           },
           {
            "iteration": 521,
            "learn": [
             0.4191030564
            ],
            "passed_time": 2.609135459,
            "remaining_time": 4.888380227
           },
           {
            "iteration": 522,
            "learn": [
             0.4190625718
            ],
            "passed_time": 2.613781135,
            "remaining_time": 4.882723077
           },
           {
            "iteration": 523,
            "learn": [
             0.4189788463
            ],
            "passed_time": 2.618511217,
            "remaining_time": 4.877226999
           },
           {
            "iteration": 524,
            "learn": [
             0.4189673263
            ],
            "passed_time": 2.62306491,
            "remaining_time": 4.871406261
           },
           {
            "iteration": 525,
            "learn": [
             0.4189672351
            ],
            "passed_time": 2.626097648,
            "remaining_time": 4.862773972
           },
           {
            "iteration": 526,
            "learn": [
             0.4189631392
            ],
            "passed_time": 2.628643839,
            "remaining_time": 4.853264622
           },
           {
            "iteration": 527,
            "learn": [
             0.4189454444
            ],
            "passed_time": 2.633011224,
            "remaining_time": 4.8471343
           },
           {
            "iteration": 528,
            "learn": [
             0.418873003
            ],
            "passed_time": 2.637647543,
            "remaining_time": 4.84150428
           },
           {
            "iteration": 529,
            "learn": [
             0.4187642414
            ],
            "passed_time": 2.64251986,
            "remaining_time": 4.836309933
           },
           {
            "iteration": 530,
            "learn": [
             0.4187145685
            ],
            "passed_time": 2.64724462,
            "remaining_time": 4.830847526
           },
           {
            "iteration": 531,
            "learn": [
             0.418657083
            ],
            "passed_time": 2.651822834,
            "remaining_time": 4.825121246
           },
           {
            "iteration": 532,
            "learn": [
             0.418619567
            ],
            "passed_time": 2.65705953,
            "remaining_time": 4.820593932
           },
           {
            "iteration": 533,
            "learn": [
             0.4185814078
            ],
            "passed_time": 2.6618283,
            "remaining_time": 4.815217487
           },
           {
            "iteration": 534,
            "learn": [
             0.4185335355
            ],
            "passed_time": 2.66674284,
            "remaining_time": 4.810106245
           },
           {
            "iteration": 535,
            "learn": [
             0.4184999972
            ],
            "passed_time": 2.671487322,
            "remaining_time": 4.804689885
           },
           {
            "iteration": 536,
            "learn": [
             0.418435863
            ],
            "passed_time": 2.676260008,
            "remaining_time": 4.799326607
           },
           {
            "iteration": 537,
            "learn": [
             0.4182810979
            ],
            "passed_time": 2.680773341,
            "remaining_time": 4.793501773
           },
           {
            "iteration": 538,
            "learn": [
             0.4182227191
            ],
            "passed_time": 2.685525009,
            "remaining_time": 4.788106742
           },
           {
            "iteration": 539,
            "learn": [
             0.4181871845
            ],
            "passed_time": 2.690200652,
            "remaining_time": 4.782578937
           },
           {
            "iteration": 540,
            "learn": [
             0.4181509858
            ],
            "passed_time": 2.694651142,
            "remaining_time": 4.776655166
           },
           {
            "iteration": 541,
            "learn": [
             0.4181282121
            ],
            "passed_time": 2.699309413,
            "remaining_time": 4.771104092
           },
           {
            "iteration": 542,
            "learn": [
             0.4180888458
            ],
            "passed_time": 2.703915102,
            "remaining_time": 4.765463632
           },
           {
            "iteration": 543,
            "learn": [
             0.4180448892
            ],
            "passed_time": 2.708661298,
            "remaining_time": 4.760073899
           },
           {
            "iteration": 544,
            "learn": [
             0.4179960477
            ],
            "passed_time": 2.713233927,
            "remaining_time": 4.754382387
           },
           {
            "iteration": 545,
            "learn": [
             0.417925528
            ],
            "passed_time": 2.718161714,
            "remaining_time": 4.749315523
           },
           {
            "iteration": 546,
            "learn": [
             0.4178469523
            ],
            "passed_time": 2.723413462,
            "remaining_time": 4.744813582
           },
           {
            "iteration": 547,
            "learn": [
             0.4178051083
            ],
            "passed_time": 2.728089561,
            "remaining_time": 4.739308873
           },
           {
            "iteration": 548,
            "learn": [
             0.4177611817
            ],
            "passed_time": 2.732931292,
            "remaining_time": 4.734094096
           },
           {
            "iteration": 549,
            "learn": [
             0.4177246254
            ],
            "passed_time": 2.737784006,
            "remaining_time": 4.728899647
           },
           {
            "iteration": 550,
            "learn": [
             0.4177245701
            ],
            "passed_time": 2.74002903,
            "remaining_time": 4.719215154
           },
           {
            "iteration": 551,
            "learn": [
             0.4176819964
            ],
            "passed_time": 2.744663037,
            "remaining_time": 4.713660432
           },
           {
            "iteration": 552,
            "learn": [
             0.4176751316
            ],
            "passed_time": 2.748178481,
            "remaining_time": 4.706193529
           },
           {
            "iteration": 553,
            "learn": [
             0.4176714763
            ],
            "passed_time": 2.751502535,
            "remaining_time": 4.698414077
           },
           {
            "iteration": 554,
            "learn": [
             0.4175682016
            ],
            "passed_time": 2.756017838,
            "remaining_time": 4.692679021
           },
           {
            "iteration": 555,
            "learn": [
             0.4175420986
            ],
            "passed_time": 2.760420475,
            "remaining_time": 4.686757065
           },
           {
            "iteration": 556,
            "learn": [
             0.4175250227
            ],
            "passed_time": 2.765112699,
            "remaining_time": 4.681330836
           },
           {
            "iteration": 557,
            "learn": [
             0.4175249705
            ],
            "passed_time": 2.767309445,
            "remaining_time": 4.67169444
           },
           {
            "iteration": 558,
            "learn": [
             0.4174119575
            ],
            "passed_time": 2.771670747,
            "remaining_time": 4.665728396
           },
           {
            "iteration": 559,
            "learn": [
             0.4173269095
            ],
            "passed_time": 2.776083117,
            "remaining_time": 4.659853803
           },
           {
            "iteration": 560,
            "learn": [
             0.4172816692
            ],
            "passed_time": 2.780661708,
            "remaining_time": 4.654262645
           },
           {
            "iteration": 561,
            "learn": [
             0.4172340415
            ],
            "passed_time": 2.78541452,
            "remaining_time": 4.648965871
           },
           {
            "iteration": 562,
            "learn": [
             0.4172098606
            ],
            "passed_time": 2.789984285,
            "remaining_time": 4.643366386
           },
           {
            "iteration": 563,
            "learn": [
             0.4171518518
            ],
            "passed_time": 2.794584949,
            "remaining_time": 4.63782183
           },
           {
            "iteration": 564,
            "learn": [
             0.4170276689
            ],
            "passed_time": 2.799433467,
            "remaining_time": 4.632690782
           },
           {
            "iteration": 565,
            "learn": [
             0.4169651294
            ],
            "passed_time": 2.80405179,
            "remaining_time": 4.62718087
           },
           {
            "iteration": 566,
            "learn": [
             0.4169331943
            ],
            "passed_time": 2.808567558,
            "remaining_time": 4.621505346
           },
           {
            "iteration": 567,
            "learn": [
             0.4169174511
            ],
            "passed_time": 2.813129315,
            "remaining_time": 4.615909368
           },
           {
            "iteration": 568,
            "learn": [
             0.4168952253
            ],
            "passed_time": 2.81776482,
            "remaining_time": 4.610437694
           },
           {
            "iteration": 569,
            "learn": [
             0.4168337188
            ],
            "passed_time": 2.822575119,
            "remaining_time": 4.605254141
           },
           {
            "iteration": 570,
            "learn": [
             0.4167262945
            ],
            "passed_time": 2.827705351,
            "remaining_time": 4.600592418
           },
           {
            "iteration": 571,
            "learn": [
             0.4167146029
            ],
            "passed_time": 2.83132246,
            "remaining_time": 4.5934742
           },
           {
            "iteration": 572,
            "learn": [
             0.4166683068
            ],
            "passed_time": 2.835852109,
            "remaining_time": 4.587844512
           },
           {
            "iteration": 573,
            "learn": [
             0.4165209672
            ],
            "passed_time": 2.840557425,
            "remaining_time": 4.582502048
           },
           {
            "iteration": 574,
            "learn": [
             0.416510411
            ],
            "passed_time": 2.844067173,
            "remaining_time": 4.575238495
           },
           {
            "iteration": 575,
            "learn": [
             0.4164729047
            ],
            "passed_time": 2.848459495,
            "remaining_time": 4.569403774
           },
           {
            "iteration": 576,
            "learn": [
             0.4164161048
            ],
            "passed_time": 2.852870006,
            "remaining_time": 4.563603147
           },
           {
            "iteration": 577,
            "learn": [
             0.4163603148
            ],
            "passed_time": 2.857876194,
            "remaining_time": 4.558757527
           },
           {
            "iteration": 578,
            "learn": [
             0.4163334293
            ],
            "passed_time": 2.862900314,
            "remaining_time": 4.553939878
           },
           {
            "iteration": 579,
            "learn": [
             0.4162946102
            ],
            "passed_time": 2.867571709,
            "remaining_time": 4.548562021
           },
           {
            "iteration": 580,
            "learn": [
             0.4162260229
            ],
            "passed_time": 2.872092111,
            "remaining_time": 4.542947763
           },
           {
            "iteration": 581,
            "learn": [
             0.4161156751
            ],
            "passed_time": 2.876618061,
            "remaining_time": 4.537346014
           },
           {
            "iteration": 582,
            "learn": [
             0.4160827302
            ],
            "passed_time": 2.881303476,
            "remaining_time": 4.531998778
           },
           {
            "iteration": 583,
            "learn": [
             0.4160826722
            ],
            "passed_time": 2.883435084,
            "remaining_time": 4.52264818
           },
           {
            "iteration": 584,
            "learn": [
             0.4160826155
            ],
            "passed_time": 2.8856783,
            "remaining_time": 4.513496827
           },
           {
            "iteration": 585,
            "learn": [
             0.4160399251
            ],
            "passed_time": 2.890333969,
            "remaining_time": 4.508131822
           },
           {
            "iteration": 586,
            "learn": [
             0.4159476539
            ],
            "passed_time": 2.895080881,
            "remaining_time": 4.50291115
           },
           {
            "iteration": 587,
            "learn": [
             0.4159418212
            ],
            "passed_time": 2.898997914,
            "remaining_time": 4.496404927
           },
           {
            "iteration": 588,
            "learn": [
             0.4158280989
            ],
            "passed_time": 2.903812226,
            "remaining_time": 4.49129531
           },
           {
            "iteration": 589,
            "learn": [
             0.4157938365
            ],
            "passed_time": 2.908583699,
            "remaining_time": 4.486120621
           },
           {
            "iteration": 590,
            "learn": [
             0.4157442333
            ],
            "passed_time": 2.913152307,
            "remaining_time": 4.480635274
           },
           {
            "iteration": 591,
            "learn": [
             0.4157098972
            ],
            "passed_time": 2.917808861,
            "remaining_time": 4.475287914
           },
           {
            "iteration": 592,
            "learn": [
             0.4156792922
            ],
            "passed_time": 2.922417045,
            "remaining_time": 4.469868904
           },
           {
            "iteration": 593,
            "learn": [
             0.4155766023
            ],
            "passed_time": 2.926937947,
            "remaining_time": 4.464319495
           },
           {
            "iteration": 594,
            "learn": [
             0.4155556829
            ],
            "passed_time": 2.931549721,
            "remaining_time": 4.458911761
           },
           {
            "iteration": 595,
            "learn": [
             0.4155276366
            ],
            "passed_time": 2.936003195,
            "remaining_time": 4.453266591
           },
           {
            "iteration": 596,
            "learn": [
             0.415415089
            ],
            "passed_time": 2.940634918,
            "remaining_time": 4.447895027
           },
           {
            "iteration": 597,
            "learn": [
             0.4154052505
            ],
            "passed_time": 2.945148598,
            "remaining_time": 4.442347886
           },
           {
            "iteration": 598,
            "learn": [
             0.4152542762
            ],
            "passed_time": 2.949984054,
            "remaining_time": 4.437288202
           },
           {
            "iteration": 599,
            "learn": [
             0.4152192816
            ],
            "passed_time": 2.954692726,
            "remaining_time": 4.432039089
           },
           {
            "iteration": 600,
            "learn": [
             0.4151561787
            ],
            "passed_time": 2.95933507,
            "remaining_time": 4.42669256
           },
           {
            "iteration": 601,
            "learn": [
             0.4151436858
            ],
            "passed_time": 2.964210411,
            "remaining_time": 4.421695928
           },
           {
            "iteration": 602,
            "learn": [
             0.4150280968
            ],
            "passed_time": 2.968980792,
            "remaining_time": 4.416543567
           },
           {
            "iteration": 603,
            "learn": [
             0.4149614003
            ],
            "passed_time": 2.973697382,
            "remaining_time": 4.411312673
           },
           {
            "iteration": 604,
            "learn": [
             0.4149531751
            ],
            "passed_time": 2.977298166,
            "remaining_time": 4.404432825
           },
           {
            "iteration": 605,
            "learn": [
             0.4149371715
            ],
            "passed_time": 2.981437778,
            "remaining_time": 4.398358702
           },
           {
            "iteration": 606,
            "learn": [
             0.414898087
            ],
            "passed_time": 2.985908077,
            "remaining_time": 4.39277745
           },
           {
            "iteration": 607,
            "learn": [
             0.414817459
            ],
            "passed_time": 2.990579129,
            "remaining_time": 4.38749438
           },
           {
            "iteration": 608,
            "learn": [
             0.4148075851
            ],
            "passed_time": 3.005154628,
            "remaining_time": 4.396704061
           },
           {
            "iteration": 609,
            "learn": [
             0.4147928443
            ],
            "passed_time": 3.023889034,
            "remaining_time": 4.411903672
           },
           {
            "iteration": 610,
            "learn": [
             0.4147851821
            ],
            "passed_time": 3.032480822,
            "remaining_time": 4.41223478
           },
           {
            "iteration": 611,
            "learn": [
             0.414783222
            ],
            "passed_time": 3.039014107,
            "remaining_time": 4.409549881
           },
           {
            "iteration": 612,
            "learn": [
             0.4147645202
            ],
            "passed_time": 3.049015559,
            "remaining_time": 4.411870801
           },
           {
            "iteration": 613,
            "learn": [
             0.4147447581
            ],
            "passed_time": 3.053123849,
            "remaining_time": 4.405647769
           },
           {
            "iteration": 614,
            "learn": [
             0.4147287554
            ],
            "passed_time": 3.057902832,
            "remaining_time": 4.400396759
           },
           {
            "iteration": 615,
            "learn": [
             0.4146327238
            ],
            "passed_time": 3.06446546,
            "remaining_time": 4.397706926
           },
           {
            "iteration": 616,
            "learn": [
             0.4145089609
            ],
            "passed_time": 3.071808993,
            "remaining_time": 4.396122109
           },
           {
            "iteration": 617,
            "learn": [
             0.4144678974
            ],
            "passed_time": 3.083681624,
            "remaining_time": 4.400982511
           },
           {
            "iteration": 618,
            "learn": [
             0.4144215462
            ],
            "passed_time": 3.0884072,
            "remaining_time": 4.39561671
           },
           {
            "iteration": 619,
            "learn": [
             0.4143696162
            ],
            "passed_time": 3.092876186,
            "remaining_time": 4.38988878
           },
           {
            "iteration": 620,
            "learn": [
             0.4142554378
            ],
            "passed_time": 3.097617998,
            "remaining_time": 4.384551079
           },
           {
            "iteration": 621,
            "learn": [
             0.4142488761
            ],
            "passed_time": 3.102251607,
            "remaining_time": 4.379062558
           },
           {
            "iteration": 622,
            "learn": [
             0.4141081536
            ],
            "passed_time": 3.10711775,
            "remaining_time": 4.37390412
           },
           {
            "iteration": 623,
            "learn": [
             0.4140254298
            ],
            "passed_time": 3.111909546,
            "remaining_time": 4.368642247
           },
           {
            "iteration": 624,
            "learn": [
             0.4139909267
            ],
            "passed_time": 3.116518228,
            "remaining_time": 4.363125519
           },
           {
            "iteration": 625,
            "learn": [
             0.4139544359
            ],
            "passed_time": 3.120579749,
            "remaining_time": 4.356847765
           },
           {
            "iteration": 626,
            "learn": [
             0.4138346384
            ],
            "passed_time": 3.125202827,
            "remaining_time": 4.35135896
           },
           {
            "iteration": 627,
            "learn": [
             0.413776189
            ],
            "passed_time": 3.129990222,
            "remaining_time": 4.346101073
           },
           {
            "iteration": 628,
            "learn": [
             0.4137303298
            ],
            "passed_time": 3.134343304,
            "remaining_time": 4.340243271
           },
           {
            "iteration": 629,
            "learn": [
             0.4137042175
            ],
            "passed_time": 3.139510382,
            "remaining_time": 4.335514337
           },
           {
            "iteration": 630,
            "learn": [
             0.4136643842
            ],
            "passed_time": 3.144300673,
            "remaining_time": 4.33026511
           },
           {
            "iteration": 631,
            "learn": [
             0.4135782395
            ],
            "passed_time": 3.149217512,
            "remaining_time": 4.32519114
           },
           {
            "iteration": 632,
            "learn": [
             0.4135594225
            ],
            "passed_time": 3.153254833,
            "remaining_time": 4.318913018
           },
           {
            "iteration": 633,
            "learn": [
             0.4134227956
            ],
            "passed_time": 3.159169123,
            "remaining_time": 4.315205774
           },
           {
            "iteration": 634,
            "learn": [
             0.4133731401
            ],
            "passed_time": 3.163849571,
            "remaining_time": 4.309810833
           },
           {
            "iteration": 635,
            "learn": [
             0.4133225459
            ],
            "passed_time": 3.168441921,
            "remaining_time": 4.304298459
           },
           {
            "iteration": 636,
            "learn": [
             0.4133223126
            ],
            "passed_time": 3.171368594,
            "remaining_time": 4.296532334
           },
           {
            "iteration": 637,
            "learn": [
             0.413235268
            ],
            "passed_time": 3.175987563,
            "remaining_time": 4.291067836
           },
           {
            "iteration": 638,
            "learn": [
             0.4132325841
            ],
            "passed_time": 3.178705252,
            "remaining_time": 4.283044166
           },
           {
            "iteration": 639,
            "learn": [
             0.4131996972
            ],
            "passed_time": 3.183386804,
            "remaining_time": 4.277676017
           },
           {
            "iteration": 640,
            "learn": [
             0.4131014201
            ],
            "passed_time": 3.188050052,
            "remaining_time": 4.272285484
           },
           {
            "iteration": 641,
            "learn": [
             0.4130931805
            ],
            "passed_time": 3.192622017,
            "remaining_time": 4.266775218
           },
           {
            "iteration": 642,
            "learn": [
             0.4130925009
            ],
            "passed_time": 3.195325381,
            "remaining_time": 4.258777373
           },
           {
            "iteration": 643,
            "learn": [
             0.4130919709
            ],
            "passed_time": 3.199855516,
            "remaining_time": 4.253224103
           },
           {
            "iteration": 644,
            "learn": [
             0.413043907
            ],
            "passed_time": 3.20508679,
            "remaining_time": 4.24860342
           },
           {
            "iteration": 645,
            "learn": [
             0.4130327517
            ],
            "passed_time": 3.209716549,
            "remaining_time": 4.243185655
           },
           {
            "iteration": 646,
            "learn": [
             0.4129734299
            ],
            "passed_time": 3.214180058,
            "remaining_time": 4.237551143
           },
           {
            "iteration": 647,
            "learn": [
             0.4129448088
            ],
            "passed_time": 3.218895796,
            "remaining_time": 4.23225188
           },
           {
            "iteration": 648,
            "learn": [
             0.4129368523
            ],
            "passed_time": 3.223245381,
            "remaining_time": 4.226474298
           },
           {
            "iteration": 649,
            "learn": [
             0.4128941993
            ],
            "passed_time": 3.227838799,
            "remaining_time": 4.221019967
           },
           {
            "iteration": 650,
            "learn": [
             0.4128848562
            ],
            "passed_time": 3.231991698,
            "remaining_time": 4.214993781
           },
           {
            "iteration": 651,
            "learn": [
             0.4128439229
            ],
            "passed_time": 3.236632955,
            "remaining_time": 4.209608506
           },
           {
            "iteration": 652,
            "learn": [
             0.4127889055
            ],
            "passed_time": 3.24138293,
            "remaining_time": 4.204366527
           },
           {
            "iteration": 653,
            "learn": [
             0.412733944
            ],
            "passed_time": 3.246018487,
            "remaining_time": 4.198978043
           },
           {
            "iteration": 654,
            "learn": [
             0.4127132837
            ],
            "passed_time": 3.250615351,
            "remaining_time": 4.193541942
           },
           {
            "iteration": 655,
            "learn": [
             0.4126663966
            ],
            "passed_time": 3.255879682,
            "remaining_time": 4.188967152
           },
           {
            "iteration": 656,
            "learn": [
             0.4125899308
            ],
            "passed_time": 3.260401435,
            "remaining_time": 4.183437458
           },
           {
            "iteration": 657,
            "learn": [
             0.4125352464
            ],
            "passed_time": 3.264995821,
            "remaining_time": 4.17800377
           },
           {
            "iteration": 658,
            "learn": [
             0.4124193835
            ],
            "passed_time": 3.269725676,
            "remaining_time": 4.172745513
           },
           {
            "iteration": 659,
            "learn": [
             0.4123442131
            ],
            "passed_time": 3.274254257,
            "remaining_time": 4.16723269
           },
           {
            "iteration": 660,
            "learn": [
             0.41226216
            ],
            "passed_time": 3.278846829,
            "remaining_time": 4.161804068
           },
           {
            "iteration": 661,
            "learn": [
             0.4121665247
            ],
            "passed_time": 3.283563816,
            "remaining_time": 4.156535465
           },
           {
            "iteration": 662,
            "learn": [
             0.412110003
            ],
            "passed_time": 3.288339466,
            "remaining_time": 4.151342583
           },
           {
            "iteration": 663,
            "learn": [
             0.4120673529
            ],
            "passed_time": 3.292960199,
            "remaining_time": 4.145955913
           },
           {
            "iteration": 664,
            "learn": [
             0.4120182358
            ],
            "passed_time": 3.2974626,
            "remaining_time": 4.140422963
           },
           {
            "iteration": 665,
            "learn": [
             0.4119843282
            ],
            "passed_time": 3.302184509,
            "remaining_time": 4.135167989
           },
           {
            "iteration": 666,
            "learn": [
             0.4119674623
            ],
            "passed_time": 3.307124149,
            "remaining_time": 4.130186531
           },
           {
            "iteration": 667,
            "learn": [
             0.4119662183
            ],
            "passed_time": 3.30967611,
            "remaining_time": 4.122231322
           },
           {
            "iteration": 668,
            "learn": [
             0.4119401569
            ],
            "passed_time": 3.314295147,
            "remaining_time": 4.116859891
           },
           {
            "iteration": 669,
            "learn": [
             0.4118770031
            ],
            "passed_time": 3.318966532,
            "remaining_time": 4.111555555
           },
           {
            "iteration": 670,
            "learn": [
             0.4117903145
            ],
            "passed_time": 3.323716409,
            "remaining_time": 4.106350079
           },
           {
            "iteration": 671,
            "learn": [
             0.4117704599
            ],
            "passed_time": 3.328109046,
            "remaining_time": 4.100705788
           },
           {
            "iteration": 672,
            "learn": [
             0.4117398115
            ],
            "passed_time": 3.332710742,
            "remaining_time": 4.095322115
           },
           {
            "iteration": 673,
            "learn": [
             0.4116980181
            ],
            "passed_time": 3.337465617,
            "remaining_time": 4.090128486
           },
           {
            "iteration": 674,
            "learn": [
             0.4115997392
            ],
            "passed_time": 3.341901557,
            "remaining_time": 4.084546348
           },
           {
            "iteration": 675,
            "learn": [
             0.4115519603
            ],
            "passed_time": 3.346712635,
            "remaining_time": 4.079424868
           },
           {
            "iteration": 676,
            "learn": [
             0.4114730768
            ],
            "passed_time": 3.351077123,
            "remaining_time": 4.073761407
           },
           {
            "iteration": 677,
            "learn": [
             0.4114230346
            ],
            "passed_time": 3.355627195,
            "remaining_time": 4.068326776
           },
           {
            "iteration": 678,
            "learn": [
             0.411406292
            ],
            "passed_time": 3.360321062,
            "remaining_time": 4.063068618
           },
           {
            "iteration": 679,
            "learn": [
             0.4113570646
            ],
            "passed_time": 3.365020884,
            "remaining_time": 4.057819301
           },
           {
            "iteration": 680,
            "learn": [
             0.4113407634
            ],
            "passed_time": 3.369349614,
            "remaining_time": 4.052125306
           },
           {
            "iteration": 681,
            "learn": [
             0.4113365138
            ],
            "passed_time": 3.372873571,
            "remaining_time": 4.045470061
           },
           {
            "iteration": 682,
            "learn": [
             0.4113101462
            ],
            "passed_time": 3.377817384,
            "remaining_time": 4.040522405
           },
           {
            "iteration": 683,
            "learn": [
             0.4113100806
            ],
            "passed_time": 3.381554763,
            "remaining_time": 4.034135507
           },
           {
            "iteration": 684,
            "learn": [
             0.4111165487
            ],
            "passed_time": 3.387674169,
            "remaining_time": 4.030590434
           },
           {
            "iteration": 685,
            "learn": [
             0.4111159415
            ],
            "passed_time": 3.390590148,
            "remaining_time": 4.023236706
           },
           {
            "iteration": 686,
            "learn": [
             0.4111095985
            ],
            "passed_time": 3.395249131,
            "remaining_time": 4.017958578
           },
           {
            "iteration": 687,
            "learn": [
             0.4110736835
            ],
            "passed_time": 3.399869999,
            "remaining_time": 4.012637266
           },
           {
            "iteration": 688,
            "learn": [
             0.4109684521
            ],
            "passed_time": 3.404472337,
            "remaining_time": 4.007296176
           },
           {
            "iteration": 689,
            "learn": [
             0.4108944039
            ],
            "passed_time": 3.409201504,
            "remaining_time": 4.002106114
           },
           {
            "iteration": 690,
            "learn": [
             0.4108090912
            ],
            "passed_time": 3.413813865,
            "remaining_time": 3.996780633
           },
           {
            "iteration": 691,
            "learn": [
             0.4107829291
            ],
            "passed_time": 3.418478624,
            "remaining_time": 3.991518394
           },
           {
            "iteration": 692,
            "learn": [
             0.4107497302
            ],
            "passed_time": 3.423076924,
            "remaining_time": 3.986180488
           },
           {
            "iteration": 693,
            "learn": [
             0.4107233425
            ],
            "passed_time": 3.427679743,
            "remaining_time": 3.980849961
           },
           {
            "iteration": 694,
            "learn": [
             0.4106682248
            ],
            "passed_time": 3.432516027,
            "remaining_time": 3.975791945
           },
           {
            "iteration": 695,
            "learn": [
             0.4105470994
            ],
            "passed_time": 3.436992615,
            "remaining_time": 3.970319055
           },
           {
            "iteration": 696,
            "learn": [
             0.410541597
            ],
            "passed_time": 3.441563215,
            "remaining_time": 3.964957334
           },
           {
            "iteration": 697,
            "learn": [
             0.4105286706
            ],
            "passed_time": 3.445513154,
            "remaining_time": 3.958884742
           },
           {
            "iteration": 698,
            "learn": [
             0.4105137953
            ],
            "passed_time": 3.449789167,
            "remaining_time": 3.953191879
           },
           {
            "iteration": 699,
            "learn": [
             0.4104978448
            ],
            "passed_time": 3.454468069,
            "remaining_time": 3.947963508
           },
           {
            "iteration": 700,
            "learn": [
             0.4104876252
            ],
            "passed_time": 3.45984141,
            "remaining_time": 3.943528227
           },
           {
            "iteration": 701,
            "learn": [
             0.4104745208
            ],
            "passed_time": 3.464645846,
            "remaining_time": 3.938443568
           },
           {
            "iteration": 702,
            "learn": [
             0.4104528609
            ],
            "passed_time": 3.469389261,
            "remaining_time": 3.933290528
           },
           {
            "iteration": 703,
            "learn": [
             0.4104330999
            ],
            "passed_time": 3.472722947,
            "remaining_time": 3.926544696
           },
           {
            "iteration": 704,
            "learn": [
             0.4103325511
            ],
            "passed_time": 3.477260969,
            "remaining_time": 3.921166625
           },
           {
            "iteration": 705,
            "learn": [
             0.4103278805
            ],
            "passed_time": 3.481402948,
            "remaining_time": 3.915345525
           },
           {
            "iteration": 706,
            "learn": [
             0.4102837886
            ],
            "passed_time": 3.486037996,
            "remaining_time": 3.910082222
           },
           {
            "iteration": 707,
            "learn": [
             0.4102659566
            ],
            "passed_time": 3.490730284,
            "remaining_time": 3.904884725
           },
           {
            "iteration": 708,
            "learn": [
             0.4102358472
            ],
            "passed_time": 3.495599038,
            "remaining_time": 3.899885528
           },
           {
            "iteration": 709,
            "learn": [
             0.4101810438
            ],
            "passed_time": 3.500297062,
            "remaining_time": 3.894696731
           },
           {
            "iteration": 710,
            "learn": [
             0.4101174396
            ],
            "passed_time": 3.505002503,
            "remaining_time": 3.889517545
           },
           {
            "iteration": 711,
            "learn": [
             0.4100501438
            ],
            "passed_time": 3.509719698,
            "remaining_time": 3.884352699
           },
           {
            "iteration": 712,
            "learn": [
             0.4100324377
            ],
            "passed_time": 3.514445146,
            "remaining_time": 3.879198219
           },
           {
            "iteration": 713,
            "learn": [
             0.4100291343
            ],
            "passed_time": 3.517882371,
            "remaining_time": 3.872626812
           },
           {
            "iteration": 714,
            "learn": [
             0.4100002218
            ],
            "passed_time": 3.522708995,
            "remaining_time": 3.867589596
           },
           {
            "iteration": 715,
            "learn": [
             0.4098773989
            ],
            "passed_time": 3.526978297,
            "remaining_time": 3.861942716
           },
           {
            "iteration": 716,
            "learn": [
             0.409801994
            ],
            "passed_time": 3.531534131,
            "remaining_time": 3.856612587
           },
           {
            "iteration": 717,
            "learn": [
             0.4097225127
            ],
            "passed_time": 3.536049814,
            "remaining_time": 3.851240883
           },
           {
            "iteration": 718,
            "learn": [
             0.4096974688
            ],
            "passed_time": 3.540790885,
            "remaining_time": 3.846116385
           },
           {
            "iteration": 719,
            "learn": [
             0.4096566565
            ],
            "passed_time": 3.545548792,
            "remaining_time": 3.841011192
           },
           {
            "iteration": 720,
            "learn": [
             0.4096425094
            ],
            "passed_time": 3.548949206,
            "remaining_time": 3.834440265
           },
           {
            "iteration": 721,
            "learn": [
             0.4096121546
            ],
            "passed_time": 3.553816537,
            "remaining_time": 3.829458817
           },
           {
            "iteration": 722,
            "learn": [
             0.4095684716
            ],
            "passed_time": 3.558296958,
            "remaining_time": 3.824061876
           },
           {
            "iteration": 723,
            "learn": [
             0.4095549481
            ],
            "passed_time": 3.562869464,
            "remaining_time": 3.818766165
           },
           {
            "iteration": 724,
            "learn": [
             0.4094922341
            ],
            "passed_time": 3.567611919,
            "remaining_time": 3.813654121
           },
           {
            "iteration": 725,
            "learn": [
             0.4094610339
            ],
            "passed_time": 3.572195776,
            "remaining_time": 3.808374009
           },
           {
            "iteration": 726,
            "learn": [
             0.4094371685
            ],
            "passed_time": 3.576863973,
            "remaining_time": 3.80318549
           },
           {
            "iteration": 727,
            "learn": [
             0.4093852097
            ],
            "passed_time": 3.581400893,
            "remaining_time": 3.797859188
           },
           {
            "iteration": 728,
            "learn": [
             0.40932159
            ],
            "passed_time": 3.585894777,
            "remaining_time": 3.792489538
           },
           {
            "iteration": 729,
            "learn": [
             0.4092714675
            ],
            "passed_time": 3.590381207,
            "remaining_time": 3.787114424
           },
           {
            "iteration": 730,
            "learn": [
             0.4092181269
            ],
            "passed_time": 3.594960178,
            "remaining_time": 3.781839093
           },
           {
            "iteration": 731,
            "learn": [
             0.409193478
            ],
            "passed_time": 3.599715592,
            "remaining_time": 3.776750785
           },
           {
            "iteration": 732,
            "learn": [
             0.4091642568
            ],
            "passed_time": 3.604363917,
            "remaining_time": 3.771551329
           },
           {
            "iteration": 733,
            "learn": [
             0.4091636854
            ],
            "passed_time": 3.608005324,
            "remaining_time": 3.765302559
           },
           {
            "iteration": 734,
            "learn": [
             0.4090785674
            ],
            "passed_time": 3.612390654,
            "remaining_time": 3.759835171
           },
           {
            "iteration": 735,
            "learn": [
             0.4090341981
            ],
            "passed_time": 3.617070651,
            "remaining_time": 3.7546766
           },
           {
            "iteration": 736,
            "learn": [
             0.4089599481
            ],
            "passed_time": 3.621737131,
            "remaining_time": 3.749505334
           },
           {
            "iteration": 737,
            "learn": [
             0.4088894386
            ],
            "passed_time": 3.626406332,
            "remaining_time": 3.744338245
           },
           {
            "iteration": 738,
            "learn": [
             0.4088628535
            ],
            "passed_time": 3.630958166,
            "remaining_time": 3.739051643
           },
           {
            "iteration": 739,
            "learn": [
             0.4088327877
            ],
            "passed_time": 3.635641961,
            "remaining_time": 3.733902555
           },
           {
            "iteration": 740,
            "learn": [
             0.4088005739
            ],
            "passed_time": 3.639934125,
            "remaining_time": 3.728353578
           },
           {
            "iteration": 741,
            "learn": [
             0.4087604773
            ],
            "passed_time": 3.644380701,
            "remaining_time": 3.72296573
           },
           {
            "iteration": 742,
            "learn": [
             0.4087336171
            ],
            "passed_time": 3.648822408,
            "remaining_time": 3.717575454
           },
           {
            "iteration": 743,
            "learn": [
             0.4086888068
            ],
            "passed_time": 3.653602174,
            "remaining_time": 3.712531242
           },
           {
            "iteration": 744,
            "learn": [
             0.4086623495
            ],
            "passed_time": 3.658374385,
            "remaining_time": 3.707480081
           },
           {
            "iteration": 745,
            "learn": [
             0.4086268187
            ],
            "passed_time": 3.663058316,
            "remaining_time": 3.702340442
           },
           {
            "iteration": 746,
            "learn": [
             0.4085488525
            ],
            "passed_time": 3.667891671,
            "remaining_time": 3.697352648
           },
           {
            "iteration": 747,
            "learn": [
             0.4084782883
            ],
            "passed_time": 3.672461688,
            "remaining_time": 3.692100521
           },
           {
            "iteration": 748,
            "learn": [
             0.4084768151
            ],
            "passed_time": 3.675734523,
            "remaining_time": 3.685549568
           },
           {
            "iteration": 749,
            "learn": [
             0.4084537192
            ],
            "passed_time": 3.680027508,
            "remaining_time": 3.680027508
           },
           {
            "iteration": 750,
            "learn": [
             0.4084192071
            ],
            "passed_time": 3.684818046,
            "remaining_time": 3.675004949
           },
           {
            "iteration": 751,
            "learn": [
             0.408341142
            ],
            "passed_time": 3.689480949,
            "remaining_time": 3.66985605
           },
           {
            "iteration": 752,
            "learn": [
             0.4083364075
            ],
            "passed_time": 3.694259257,
            "remaining_time": 3.664822929
           },
           {
            "iteration": 753,
            "learn": [
             0.4082653233
            ],
            "passed_time": 3.698949345,
            "remaining_time": 3.659703198
           },
           {
            "iteration": 754,
            "learn": [
             0.4081585704
            ],
            "passed_time": 3.703639795,
            "remaining_time": 3.654584963
           },
           {
            "iteration": 755,
            "learn": [
             0.4081113574
            ],
            "passed_time": 3.708265207,
            "remaining_time": 3.649403854
           },
           {
            "iteration": 756,
            "learn": [
             0.4080961323
            ],
            "passed_time": 3.712974483,
            "remaining_time": 3.644306527
           },
           {
            "iteration": 757,
            "learn": [
             0.4080504467
            ],
            "passed_time": 3.717587875,
            "remaining_time": 3.639116363
           },
           {
            "iteration": 758,
            "learn": [
             0.4080129583
            ],
            "passed_time": 3.722168068,
            "remaining_time": 3.633895308
           },
           {
            "iteration": 759,
            "learn": [
             0.4079406467
            ],
            "passed_time": 3.726973578,
            "remaining_time": 3.628895326
           },
           {
            "iteration": 760,
            "learn": [
             0.4079109835
            ],
            "passed_time": 3.731457145,
            "remaining_time": 3.623583219
           },
           {
            "iteration": 761,
            "learn": [
             0.4078345138
            ],
            "passed_time": 3.735944428,
            "remaining_time": 3.618276887
           },
           {
            "iteration": 762,
            "learn": [
             0.4078078526
            ],
            "passed_time": 3.740702466,
            "remaining_time": 3.61323423
           },
           {
            "iteration": 763,
            "learn": [
             0.4077804026
            ],
            "passed_time": 3.746068186,
            "remaining_time": 3.608777729
           },
           {
            "iteration": 764,
            "learn": [
             0.4077465942
            ],
            "passed_time": 3.751777012,
            "remaining_time": 3.604648502
           },
           {
            "iteration": 765,
            "learn": [
             0.4077226334
            ],
            "passed_time": 3.758368508,
            "remaining_time": 3.601360947
           },
           {
            "iteration": 766,
            "learn": [
             0.4075955597
            ],
            "passed_time": 3.76538039,
            "remaining_time": 3.598466526
           },
           {
            "iteration": 767,
            "learn": [
             0.4075222618
            ],
            "passed_time": 3.769882122,
            "remaining_time": 3.593168897
           },
           {
            "iteration": 768,
            "learn": [
             0.4074908327
            ],
            "passed_time": 3.774376191,
            "remaining_time": 3.587866054
           },
           {
            "iteration": 769,
            "learn": [
             0.4073560751
            ],
            "passed_time": 3.779040569,
            "remaining_time": 3.582726773
           },
           {
            "iteration": 770,
            "learn": [
             0.4072732429
            ],
            "passed_time": 3.783764488,
            "remaining_time": 3.577645021
           },
           {
            "iteration": 771,
            "learn": [
             0.4072595502
            ],
            "passed_time": 3.788170434,
            "remaining_time": 3.572264347
           },
           {
            "iteration": 772,
            "learn": [
             0.4071807495
            ],
            "passed_time": 3.792935703,
            "remaining_time": 3.567224135
           },
           {
            "iteration": 773,
            "learn": [
             0.4071773502
            ],
            "passed_time": 3.796561085,
            "remaining_time": 3.561115436
           },
           {
            "iteration": 774,
            "learn": [
             0.4071605219
            ],
            "passed_time": 3.801086869,
            "remaining_time": 3.555855458
           },
           {
            "iteration": 775,
            "learn": [
             0.4071335955
            ],
            "passed_time": 3.805538018,
            "remaining_time": 3.550527738
           },
           {
            "iteration": 776,
            "learn": [
             0.4070824298
            ],
            "passed_time": 3.809870792,
            "remaining_time": 3.545092127
           },
           {
            "iteration": 777,
            "learn": [
             0.4070554764
            ],
            "passed_time": 3.81420558,
            "remaining_time": 3.539661219
           },
           {
            "iteration": 778,
            "learn": [
             0.4070146002
            ],
            "passed_time": 3.818688556,
            "remaining_time": 3.534370281
           },
           {
            "iteration": 779,
            "learn": [
             0.4069476672
            ],
            "passed_time": 3.823328725,
            "remaining_time": 3.529226516
           },
           {
            "iteration": 780,
            "learn": [
             0.4068666039
            ],
            "passed_time": 3.828064475,
            "remaining_time": 3.524172033
           },
           {
            "iteration": 781,
            "learn": [
             0.4068018389
            ],
            "passed_time": 3.832484625,
            "remaining_time": 3.518828595
           },
           {
            "iteration": 782,
            "learn": [
             0.4067363082
            ],
            "passed_time": 3.837127386,
            "remaining_time": 3.513691361
           },
           {
            "iteration": 783,
            "learn": [
             0.4066896645
            ],
            "passed_time": 3.84353575,
            "remaining_time": 3.510167853
           },
           {
            "iteration": 784,
            "learn": [
             0.4066806224
            ],
            "passed_time": 3.848166797,
            "remaining_time": 3.505018166
           },
           {
            "iteration": 785,
            "learn": [
             0.4066433215
            ],
            "passed_time": 3.852750583,
            "remaining_time": 3.499826866
           },
           {
            "iteration": 786,
            "learn": [
             0.406627265
            ],
            "passed_time": 3.857334941,
            "remaining_time": 3.494637628
           },
           {
            "iteration": 787,
            "learn": [
             0.4065448747
            ],
            "passed_time": 3.861930765,
            "remaining_time": 3.489460285
           },
           {
            "iteration": 788,
            "learn": [
             0.4065341491
            ],
            "passed_time": 3.866446523,
            "remaining_time": 3.484212266
           },
           {
            "iteration": 789,
            "learn": [
             0.4065112096
            ],
            "passed_time": 3.871009614,
            "remaining_time": 3.47900864
           },
           {
            "iteration": 790,
            "learn": [
             0.4064971454
            ],
            "passed_time": 3.875515295,
            "remaining_time": 3.473755176
           },
           {
            "iteration": 791,
            "learn": [
             0.4064726795
            ],
            "passed_time": 3.880194527,
            "remaining_time": 3.468658744
           },
           {
            "iteration": 792,
            "learn": [
             0.4064176233
            ],
            "passed_time": 3.884995661,
            "remaining_time": 3.463672046
           },
           {
            "iteration": 793,
            "learn": [
             0.406352152
            ],
            "passed_time": 3.889709706,
            "remaining_time": 3.458608379
           },
           {
            "iteration": 794,
            "learn": [
             0.4063079909
            ],
            "passed_time": 3.894226834,
            "remaining_time": 3.453370966
           },
           {
            "iteration": 795,
            "learn": [
             0.4062504057
            ],
            "passed_time": 3.8989094,
            "remaining_time": 3.448281681
           },
           {
            "iteration": 796,
            "learn": [
             0.4061687047
            ],
            "passed_time": 3.903316111,
            "remaining_time": 3.442950095
           },
           {
            "iteration": 797,
            "learn": [
             0.4061314514
            ],
            "passed_time": 3.907849619,
            "remaining_time": 3.437732371
           },
           {
            "iteration": 798,
            "learn": [
             0.4060952542
            ],
            "passed_time": 3.912552233,
            "remaining_time": 3.432664725
           },
           {
            "iteration": 799,
            "learn": [
             0.4060458704
            ],
            "passed_time": 3.917336189,
            "remaining_time": 3.427669166
           },
           {
            "iteration": 800,
            "learn": [
             0.4060002543
            ],
            "passed_time": 3.921944189,
            "remaining_time": 3.422520584
           },
           {
            "iteration": 801,
            "learn": [
             0.4059007671
            ],
            "passed_time": 3.926497544,
            "remaining_time": 3.417325793
           },
           {
            "iteration": 802,
            "learn": [
             0.4057816375
            ],
            "passed_time": 3.931110273,
            "remaining_time": 3.412184135
           },
           {
            "iteration": 803,
            "learn": [
             0.4057267353
            ],
            "passed_time": 3.935799728,
            "remaining_time": 3.407110213
           },
           {
            "iteration": 804,
            "learn": [
             0.4056873178
            ],
            "passed_time": 3.940473087,
            "remaining_time": 3.402023348
           },
           {
            "iteration": 805,
            "learn": [
             0.4055114105
            ],
            "passed_time": 3.944953794,
            "remaining_time": 3.396771629
           },
           {
            "iteration": 806,
            "learn": [
             0.4054942174
            ],
            "passed_time": 3.949504084,
            "remaining_time": 3.391581574
           },
           {
            "iteration": 807,
            "learn": [
             0.4054778845
            ],
            "passed_time": 3.954163989,
            "remaining_time": 3.38648698
           },
           {
            "iteration": 808,
            "learn": [
             0.4054628419
            ],
            "passed_time": 3.958656801,
            "remaining_time": 3.381250741
           },
           {
            "iteration": 809,
            "learn": [
             0.4054495688
            ],
            "passed_time": 3.963280793,
            "remaining_time": 3.376128083
           },
           {
            "iteration": 810,
            "learn": [
             0.4053737981
            ],
            "passed_time": 3.967833986,
            "remaining_time": 3.370946506
           },
           {
            "iteration": 811,
            "learn": [
             0.4053248736
            ],
            "passed_time": 3.972418111,
            "remaining_time": 3.365792685
           },
           {
            "iteration": 812,
            "learn": [
             0.4052397494
            ],
            "passed_time": 3.977103112,
            "remaining_time": 3.360725508
           },
           {
            "iteration": 813,
            "learn": [
             0.405194965
            ],
            "passed_time": 3.981774438,
            "remaining_time": 3.355647745
           },
           {
            "iteration": 814,
            "learn": [
             0.4051527269
            ],
            "passed_time": 3.986408729,
            "remaining_time": 3.350539852
           },
           {
            "iteration": 815,
            "learn": [
             0.4051477808
            ],
            "passed_time": 3.990937027,
            "remaining_time": 3.345344273
           },
           {
            "iteration": 816,
            "learn": [
             0.4050404359
            ],
            "passed_time": 3.995312124,
            "remaining_time": 3.340022253
           },
           {
            "iteration": 817,
            "learn": [
             0.4049738746
            ],
            "passed_time": 4.027215708,
            "remaining_time": 3.357654172
           },
           {
            "iteration": 818,
            "learn": [
             0.4048255148
            ],
            "passed_time": 4.034210556,
            "remaining_time": 3.354453466
           },
           {
            "iteration": 819,
            "learn": [
             0.404717182
            ],
            "passed_time": 4.04236515,
            "remaining_time": 3.352205246
           },
           {
            "iteration": 820,
            "learn": [
             0.4046859788
            ],
            "passed_time": 4.053796355,
            "remaining_time": 3.352652527
           },
           {
            "iteration": 821,
            "learn": [
             0.4046815136
            ],
            "passed_time": 4.058972058,
            "remaining_time": 3.34791126
           },
           {
            "iteration": 822,
            "learn": [
             0.4046062662
            ],
            "passed_time": 4.06399586,
            "remaining_time": 3.343043982
           },
           {
            "iteration": 823,
            "learn": [
             0.4045532769
            ],
            "passed_time": 4.070434058,
            "remaining_time": 3.339336678
           },
           {
            "iteration": 824,
            "learn": [
             0.4045256404
            ],
            "passed_time": 4.076248216,
            "remaining_time": 3.335112176
           },
           {
            "iteration": 825,
            "learn": [
             0.4044879878
            ],
            "passed_time": 4.081911328,
            "remaining_time": 3.330760575
           },
           {
            "iteration": 826,
            "learn": [
             0.4044527623
            ],
            "passed_time": 4.087984128,
            "remaining_time": 3.3267392
           },
           {
            "iteration": 827,
            "learn": [
             0.4043811198
            ],
            "passed_time": 4.093484308,
            "remaining_time": 3.322248134
           },
           {
            "iteration": 828,
            "learn": [
             0.4043431928
            ],
            "passed_time": 4.09793803,
            "remaining_time": 3.316907621
           },
           {
            "iteration": 829,
            "learn": [
             0.4043014408
            ],
            "passed_time": 4.102627449,
            "remaining_time": 3.311759507
           },
           {
            "iteration": 830,
            "learn": [
             0.4042488468
            ],
            "passed_time": 4.107332361,
            "remaining_time": 3.306624969
           },
           {
            "iteration": 831,
            "learn": [
             0.404238108
            ],
            "passed_time": 4.111949754,
            "remaining_time": 3.301421197
           },
           {
            "iteration": 832,
            "learn": [
             0.4042150781
            ],
            "passed_time": 4.116493446,
            "remaining_time": 3.296159818
           },
           {
            "iteration": 833,
            "learn": [
             0.4041587884
            ],
            "passed_time": 4.121165715,
            "remaining_time": 3.291002837
           },
           {
            "iteration": 834,
            "learn": [
             0.4041190509
            ],
            "passed_time": 4.125756928,
            "remaining_time": 3.285782464
           },
           {
            "iteration": 835,
            "learn": [
             0.4040823229
            ],
            "passed_time": 4.130487886,
            "remaining_time": 3.280674589
           },
           {
            "iteration": 836,
            "learn": [
             0.403938967
            ],
            "passed_time": 4.134984394,
            "remaining_time": 3.275381903
           },
           {
            "iteration": 837,
            "learn": [
             0.4038812488
            ],
            "passed_time": 4.139344678,
            "remaining_time": 3.269983504
           },
           {
            "iteration": 838,
            "learn": [
             0.4037722943
            ],
            "passed_time": 4.143837598,
            "remaining_time": 3.264692077
           },
           {
            "iteration": 839,
            "learn": [
             0.4037301404
            ],
            "passed_time": 4.148375631,
            "remaining_time": 3.259437996
           },
           {
            "iteration": 840,
            "learn": [
             0.4036774885
            ],
            "passed_time": 4.152809064,
            "remaining_time": 3.254103654
           },
           {
            "iteration": 841,
            "learn": [
             0.4035570553
            ],
            "passed_time": 4.157518961,
            "remaining_time": 3.248987501
           },
           {
            "iteration": 842,
            "learn": [
             0.4035161731
            ],
            "passed_time": 4.162126855,
            "remaining_time": 3.243792816
           },
           {
            "iteration": 843,
            "learn": [
             0.4034677437
            ],
            "passed_time": 4.166664118,
            "remaining_time": 3.238544623
           },
           {
            "iteration": 844,
            "learn": [
             0.4033696261
            ],
            "passed_time": 4.171342847,
            "remaining_time": 3.233407769
           },
           {
            "iteration": 845,
            "learn": [
             0.4033624623
            ],
            "passed_time": 4.175745752,
            "remaining_time": 3.228058772
           },
           {
            "iteration": 846,
            "learn": [
             0.4033400323
            ],
            "passed_time": 4.180252491,
            "remaining_time": 3.222792062
           },
           {
            "iteration": 847,
            "learn": [
             0.4032855571
            ],
            "passed_time": 4.184721606,
            "remaining_time": 3.217498216
           },
           {
            "iteration": 848,
            "learn": [
             0.4032160009
            ],
            "passed_time": 4.189107025,
            "remaining_time": 3.212142136
           },
           {
            "iteration": 849,
            "learn": [
             0.4031009678
            ],
            "passed_time": 4.193581052,
            "remaining_time": 3.206856099
           },
           {
            "iteration": 850,
            "learn": [
             0.4030561226
            ],
            "passed_time": 4.198081303,
            "remaining_time": 3.201591969
           },
           {
            "iteration": 851,
            "learn": [
             0.403017201
            ],
            "passed_time": 4.202784678,
            "remaining_time": 3.196484122
           },
           {
            "iteration": 852,
            "learn": [
             0.4030016592
            ],
            "passed_time": 4.207347397,
            "remaining_time": 3.191270535
           },
           {
            "iteration": 853,
            "learn": [
             0.4029888239
            ],
            "passed_time": 4.211842508,
            "remaining_time": 3.18600733
           },
           {
            "iteration": 854,
            "learn": [
             0.4028801603
            ],
            "passed_time": 4.216740281,
            "remaining_time": 3.181049685
           },
           {
            "iteration": 855,
            "learn": [
             0.4028408421
            ],
            "passed_time": 4.22143381,
            "remaining_time": 3.175938521
           },
           {
            "iteration": 856,
            "learn": [
             0.4027598125
            ],
            "passed_time": 4.226070073,
            "remaining_time": 3.170785364
           },
           {
            "iteration": 857,
            "learn": [
             0.4026630971
            ],
            "passed_time": 4.230553392,
            "remaining_time": 3.165518972
           },
           {
            "iteration": 858,
            "learn": [
             0.402639555
            ],
            "passed_time": 4.235211706,
            "remaining_time": 3.160384987
           },
           {
            "iteration": 859,
            "learn": [
             0.4024942253
            ],
            "passed_time": 4.239894848,
            "remaining_time": 3.155270584
           },
           {
            "iteration": 860,
            "learn": [
             0.4024202483
            ],
            "passed_time": 4.244533854,
            "remaining_time": 3.150124428
           },
           {
            "iteration": 861,
            "learn": [
             0.402387825
            ],
            "passed_time": 4.249095879,
            "remaining_time": 3.144922472
           },
           {
            "iteration": 862,
            "learn": [
             0.4023509091
            ],
            "passed_time": 4.253642954,
            "remaining_time": 3.139710964
           },
           {
            "iteration": 863,
            "learn": [
             0.4022986027
            ],
            "passed_time": 4.258152867,
            "remaining_time": 3.134473638
           },
           {
            "iteration": 864,
            "learn": [
             0.4021720567
            ],
            "passed_time": 4.262775746,
            "remaining_time": 3.129320923
           },
           {
            "iteration": 865,
            "learn": [
             0.402103536
            ],
            "passed_time": 4.267717829,
            "remaining_time": 3.124403122
           },
           {
            "iteration": 866,
            "learn": [
             0.4020001754
            ],
            "passed_time": 4.272251024,
            "remaining_time": 3.119186733
           },
           {
            "iteration": 867,
            "learn": [
             0.4019836573
            ],
            "passed_time": 4.276891446,
            "remaining_time": 3.114049993
           },
           {
            "iteration": 868,
            "learn": [
             0.401964624
            ],
            "passed_time": 4.28159742,
            "remaining_time": 3.108961993
           },
           {
            "iteration": 869,
            "learn": [
             0.401893554
            ],
            "passed_time": 4.286208999,
            "remaining_time": 3.103806517
           },
           {
            "iteration": 870,
            "learn": [
             0.4018350942
            ],
            "passed_time": 4.291136099,
            "remaining_time": 3.098880145
           },
           {
            "iteration": 871,
            "learn": [
             0.4018249999
            ],
            "passed_time": 4.295713361,
            "remaining_time": 3.093701824
           },
           {
            "iteration": 872,
            "learn": [
             0.4017508701
            ],
            "passed_time": 4.3004273,
            "remaining_time": 3.088623043
           },
           {
            "iteration": 873,
            "learn": [
             0.4017198997
            ],
            "passed_time": 4.304748021,
            "remaining_time": 3.083263457
           },
           {
            "iteration": 874,
            "learn": [
             0.4016846368
            ],
            "passed_time": 4.30926017,
            "remaining_time": 3.078042979
           },
           {
            "iteration": 875,
            "learn": [
             0.401607153
            ],
            "passed_time": 4.313915221,
            "remaining_time": 3.072925911
           },
           {
            "iteration": 876,
            "learn": [
             0.4015646975
            ],
            "passed_time": 4.318486669,
            "remaining_time": 3.067750507
           },
           {
            "iteration": 877,
            "learn": [
             0.4015500425
            ],
            "passed_time": 4.323299859,
            "remaining_time": 3.062747736
           },
           {
            "iteration": 878,
            "learn": [
             0.4014867137
            ],
            "passed_time": 4.328020015,
            "remaining_time": 3.05767967
           },
           {
            "iteration": 879,
            "learn": [
             0.4014563488
            ],
            "passed_time": 4.332603559,
            "remaining_time": 3.052516144
           },
           {
            "iteration": 880,
            "learn": [
             0.4014103126
            ],
            "passed_time": 4.338851152,
            "remaining_time": 3.048523114
           },
           {
            "iteration": 881,
            "learn": [
             0.4013544644
            ],
            "passed_time": 4.347688746,
            "remaining_time": 3.046339733
           },
           {
            "iteration": 882,
            "learn": [
             0.4013490079
            ],
            "passed_time": 4.352553459,
            "remaining_time": 3.041365214
           },
           {
            "iteration": 883,
            "learn": [
             0.4012210905
            ],
            "passed_time": 4.357077393,
            "remaining_time": 3.036153478
           },
           {
            "iteration": 884,
            "learn": [
             0.4011211424
            ],
            "passed_time": 4.361680115,
            "remaining_time": 3.030998046
           },
           {
            "iteration": 885,
            "learn": [
             0.4010709149
            ],
            "passed_time": 4.366246426,
            "remaining_time": 3.025818629
           },
           {
            "iteration": 886,
            "learn": [
             0.4009966081
            ],
            "passed_time": 4.371071586,
            "remaining_time": 3.020819484
           },
           {
            "iteration": 887,
            "learn": [
             0.4009365988
            ],
            "passed_time": 4.375749464,
            "remaining_time": 3.015719225
           },
           {
            "iteration": 888,
            "learn": [
             0.4008787476
            ],
            "passed_time": 4.380452977,
            "remaining_time": 3.010637535
           },
           {
            "iteration": 889,
            "learn": [
             0.4008401679
            ],
            "passed_time": 4.38518489,
            "remaining_time": 3.005576161
           },
           {
            "iteration": 890,
            "learn": [
             0.4008366332
            ],
            "passed_time": 4.389689661,
            "remaining_time": 3.000360273
           },
           {
            "iteration": 891,
            "learn": [
             0.4008136361
            ],
            "passed_time": 4.39437459,
            "remaining_time": 2.995268779
           },
           {
            "iteration": 892,
            "learn": [
             0.4007200394
            ],
            "passed_time": 4.399124477,
            "remaining_time": 2.990222349
           },
           {
            "iteration": 893,
            "learn": [
             0.4006717616
            ],
            "passed_time": 4.403814764,
            "remaining_time": 2.985136182
           },
           {
            "iteration": 894,
            "learn": [
             0.4006290354
            ],
            "passed_time": 4.408242741,
            "remaining_time": 2.979873584
           },
           {
            "iteration": 895,
            "learn": [
             0.400580341
            ],
            "passed_time": 4.412979338,
            "remaining_time": 2.974820893
           },
           {
            "iteration": 896,
            "learn": [
             0.4005512767
            ],
            "passed_time": 4.417427369,
            "remaining_time": 2.96957492
           },
           {
            "iteration": 897,
            "learn": [
             0.4005370177
            ],
            "passed_time": 4.422055399,
            "remaining_time": 2.964451392
           },
           {
            "iteration": 898,
            "learn": [
             0.4004906223
            ],
            "passed_time": 4.426657332,
            "remaining_time": 2.95931152
           },
           {
            "iteration": 899,
            "learn": [
             0.4004160932
            ],
            "passed_time": 4.431338272,
            "remaining_time": 2.954225515
           },
           {
            "iteration": 900,
            "learn": [
             0.4003183948
            ],
            "passed_time": 4.435956723,
            "remaining_time": 2.949098865
           },
           {
            "iteration": 901,
            "learn": [
             0.4003004594
            ],
            "passed_time": 4.440752998,
            "remaining_time": 2.944091234
           },
           {
            "iteration": 902,
            "learn": [
             0.4002137656
            ],
            "passed_time": 4.445949574,
            "remaining_time": 2.939348722
           },
           {
            "iteration": 903,
            "learn": [
             0.4001868597
            ],
            "passed_time": 4.450588603,
            "remaining_time": 2.934237619
           },
           {
            "iteration": 904,
            "learn": [
             0.400156753
            ],
            "passed_time": 4.455182553,
            "remaining_time": 2.929097921
           },
           {
            "iteration": 905,
            "learn": [
             0.4000575123
            ],
            "passed_time": 4.459646967,
            "remaining_time": 2.923874502
           },
           {
            "iteration": 906,
            "learn": [
             0.3999938279
            ],
            "passed_time": 4.468475852,
            "remaining_time": 2.921506263
           },
           {
            "iteration": 907,
            "learn": [
             0.3999748061
            ],
            "passed_time": 4.472916661,
            "remaining_time": 2.916262845
           },
           {
            "iteration": 908,
            "learn": [
             0.3999435715
            ],
            "passed_time": 4.477382527,
            "remaining_time": 2.911037485
           },
           {
            "iteration": 909,
            "learn": [
             0.3997818103
            ],
            "passed_time": 4.481639397,
            "remaining_time": 2.90567829
           },
           {
            "iteration": 910,
            "learn": [
             0.399761662
            ],
            "passed_time": 4.486312054,
            "remaining_time": 2.90059034
           },
           {
            "iteration": 911,
            "learn": [
             0.3997418912
            ],
            "passed_time": 4.490998557,
            "remaining_time": 2.895512227
           },
           {
            "iteration": 912,
            "learn": [
             0.3996980925
            ],
            "passed_time": 4.495347696,
            "remaining_time": 2.890218069
           },
           {
            "iteration": 913,
            "learn": [
             0.3996847043
            ],
            "passed_time": 4.500094543,
            "remaining_time": 2.885180965
           },
           {
            "iteration": 914,
            "learn": [
             0.3996776311
            ],
            "passed_time": 4.504819109,
            "remaining_time": 2.88013025
           },
           {
            "iteration": 915,
            "learn": [
             0.3996497942
            ],
            "passed_time": 4.509395337,
            "remaining_time": 2.874985673
           },
           {
            "iteration": 916,
            "learn": [
             0.3996018208
            ],
            "passed_time": 4.513836138,
            "remaining_time": 2.869756236
           },
           {
            "iteration": 917,
            "learn": [
             0.3995600336
            ],
            "passed_time": 4.518256575,
            "remaining_time": 2.864515606
           },
           {
            "iteration": 918,
            "learn": [
             0.3994927057
            ],
            "passed_time": 4.52262058,
            "remaining_time": 2.859241085
           },
           {
            "iteration": 919,
            "learn": [
             0.3994255008
            ],
            "passed_time": 4.527140768,
            "remaining_time": 2.854067006
           },
           {
            "iteration": 920,
            "learn": [
             0.3994112475
            ],
            "passed_time": 4.531625495,
            "remaining_time": 2.848872054
           },
           {
            "iteration": 921,
            "learn": [
             0.3993689764
            ],
            "passed_time": 4.536302023,
            "remaining_time": 2.843798882
           },
           {
            "iteration": 922,
            "learn": [
             0.3993655128
            ],
            "passed_time": 4.540882719,
            "remaining_time": 2.838666662
           },
           {
            "iteration": 923,
            "learn": [
             0.3992593108
            ],
            "passed_time": 4.545411305,
            "remaining_time": 2.833503151
           },
           {
            "iteration": 924,
            "learn": [
             0.3991840534
            ],
            "passed_time": 4.550066471,
            "remaining_time": 2.828419698
           },
           {
            "iteration": 925,
            "learn": [
             0.3990991117
            ],
            "passed_time": 4.554664786,
            "remaining_time": 2.82330193
           },
           {
            "iteration": 926,
            "learn": [
             0.3990347468
            ],
            "passed_time": 4.559269325,
            "remaining_time": 2.81818913
           },
           {
            "iteration": 927,
            "learn": [
             0.3989542323
            ],
            "passed_time": 4.563986071,
            "remaining_time": 2.813146587
           },
           {
            "iteration": 928,
            "learn": [
             0.3989448961
            ],
            "passed_time": 4.568601546,
            "remaining_time": 2.8080425
           },
           {
            "iteration": 929,
            "learn": [
             0.3989124479
            ],
            "passed_time": 4.57317976,
            "remaining_time": 2.802916627
           },
           {
            "iteration": 930,
            "learn": [
             0.3988942504
            ],
            "passed_time": 4.577795811,
            "remaining_time": 2.797815055
           },
           {
            "iteration": 931,
            "learn": [
             0.3988213428
            ],
            "passed_time": 4.582457253,
            "remaining_time": 2.792742189
           },
           {
            "iteration": 932,
            "learn": [
             0.3987485094
            ],
            "passed_time": 4.587057252,
            "remaining_time": 2.787632864
           },
           {
            "iteration": 933,
            "learn": [
             0.3987391866
            ],
            "passed_time": 4.591616032,
            "remaining_time": 2.782499651
           },
           {
            "iteration": 934,
            "learn": [
             0.3986872546
            ],
            "passed_time": 4.596157677,
            "remaining_time": 2.777357313
           },
           {
            "iteration": 935,
            "learn": [
             0.3986772807
            ],
            "passed_time": 4.600511635,
            "remaining_time": 2.772103165
           },
           {
            "iteration": 936,
            "learn": [
             0.3986601269
            ],
            "passed_time": 4.60498568,
            "remaining_time": 2.766923093
           },
           {
            "iteration": 937,
            "learn": [
             0.3985878716
            ],
            "passed_time": 4.60945901,
            "remaining_time": 2.761744097
           },
           {
            "iteration": 938,
            "learn": [
             0.3985842231
            ],
            "passed_time": 4.613841662,
            "remaining_time": 2.75651243
           },
           {
            "iteration": 939,
            "learn": [
             0.398490669
            ],
            "passed_time": 4.618349926,
            "remaining_time": 2.751357403
           },
           {
            "iteration": 940,
            "learn": [
             0.3983481463
            ],
            "passed_time": 4.622765887,
            "remaining_time": 2.746148917
           },
           {
            "iteration": 941,
            "learn": [
             0.3982672764
            ],
            "passed_time": 4.627297954,
            "remaining_time": 2.74101089
           },
           {
            "iteration": 942,
            "learn": [
             0.3981699221
            ],
            "passed_time": 4.631941772,
            "remaining_time": 2.735940156
           },
           {
            "iteration": 943,
            "learn": [
             0.3980925681
            ],
            "passed_time": 4.636586261,
            "remaining_time": 2.730870721
           },
           {
            "iteration": 944,
            "learn": [
             0.3980871605
            ],
            "passed_time": 4.64092456,
            "remaining_time": 2.725622361
           },
           {
            "iteration": 945,
            "learn": [
             0.3980382399
            ],
            "passed_time": 4.645314328,
            "remaining_time": 2.720406065
           },
           {
            "iteration": 946,
            "learn": [
             0.3979271051
            ],
            "passed_time": 4.649831746,
            "remaining_time": 2.715266057
           },
           {
            "iteration": 947,
            "learn": [
             0.3978480411
            ],
            "passed_time": 4.654336523,
            "remaining_time": 2.710120001
           },
           {
            "iteration": 948,
            "learn": [
             0.3977863435
            ],
            "passed_time": 4.658855595,
            "remaining_time": 2.704983596
           },
           {
            "iteration": 949,
            "learn": [
             0.3977365047
            ],
            "passed_time": 4.663286967,
            "remaining_time": 2.699797718
           },
           {
            "iteration": 950,
            "learn": [
             0.3976596978
            ],
            "passed_time": 4.667797157,
            "remaining_time": 2.694658927
           },
           {
            "iteration": 951,
            "learn": [
             0.3976422319
            ],
            "passed_time": 4.672559663,
            "remaining_time": 2.689666697
           },
           {
            "iteration": 952,
            "learn": [
             0.3976085354
            ],
            "passed_time": 4.67712751,
            "remaining_time": 2.684563219
           },
           {
            "iteration": 953,
            "learn": [
             0.3975482388
            ],
            "passed_time": 4.681777841,
            "remaining_time": 2.679508073
           },
           {
            "iteration": 954,
            "learn": [
             0.3975281827
            ],
            "passed_time": 4.686518536,
            "remaining_time": 2.674505343
           },
           {
            "iteration": 955,
            "learn": [
             0.397408025
            ],
            "passed_time": 4.691077438,
            "remaining_time": 2.669399714
           },
           {
            "iteration": 956,
            "learn": [
             0.3973937505
            ],
            "passed_time": 4.695585183,
            "remaining_time": 2.664266201
           },
           {
            "iteration": 957,
            "learn": [
             0.3972920006
            ],
            "passed_time": 4.700175809,
            "remaining_time": 2.659180886
           },
           {
            "iteration": 958,
            "learn": [
             0.3972242013
            ],
            "passed_time": 4.704820551,
            "remaining_time": 2.654127131
           },
           {
            "iteration": 959,
            "learn": [
             0.3971544691
            ],
            "passed_time": 4.70940931,
            "remaining_time": 2.649042737
           },
           {
            "iteration": 960,
            "learn": [
             0.3971088779
            ],
            "passed_time": 4.713949479,
            "remaining_time": 2.643932122
           },
           {
            "iteration": 961,
            "learn": [
             0.3970674877
            ],
            "passed_time": 4.718524801,
            "remaining_time": 2.638842352
           },
           {
            "iteration": 962,
            "learn": [
             0.3970142303
            ],
            "passed_time": 4.723189966,
            "remaining_time": 2.633803751
           },
           {
            "iteration": 963,
            "learn": [
             0.3970107698
            ],
            "passed_time": 4.72769312,
            "remaining_time": 2.628675843
           },
           {
            "iteration": 964,
            "learn": [
             0.3969812302
            ],
            "passed_time": 4.732340308,
            "remaining_time": 2.623629083
           },
           {
            "iteration": 965,
            "learn": [
             0.396949643
            ],
            "passed_time": 4.736934864,
            "remaining_time": 2.618554055
           },
           {
            "iteration": 966,
            "learn": [
             0.3969282608
            ],
            "passed_time": 4.741427518,
            "remaining_time": 2.613423854
           },
           {
            "iteration": 967,
            "learn": [
             0.3968289828
            ],
            "passed_time": 4.746037995,
            "remaining_time": 2.608359725
           },
           {
            "iteration": 968,
            "learn": [
             0.3968025469
            ],
            "passed_time": 4.750553217,
            "remaining_time": 2.603244332
           },
           {
            "iteration": 969,
            "learn": [
             0.3967501952
            ],
            "passed_time": 4.755269456,
            "remaining_time": 2.598240012
           },
           {
            "iteration": 970,
            "learn": [
             0.3966116959
            ],
            "passed_time": 4.760169941,
            "remaining_time": 2.593336662
           },
           {
            "iteration": 971,
            "learn": [
             0.3965391351
            ],
            "passed_time": 4.764723099,
            "remaining_time": 2.588244646
           },
           {
            "iteration": 972,
            "learn": [
             0.3964329535
            ],
            "passed_time": 4.769157462,
            "remaining_time": 2.583089396
           },
           {
            "iteration": 973,
            "learn": [
             0.3963965446
            ],
            "passed_time": 4.773557308,
            "remaining_time": 2.577916985
           },
           {
            "iteration": 974,
            "learn": [
             0.3963039092
            ],
            "passed_time": 4.778348905,
            "remaining_time": 2.572957103
           },
           {
            "iteration": 975,
            "learn": [
             0.3962412591
            ],
            "passed_time": 4.782707532,
            "remaining_time": 2.567765109
           },
           {
            "iteration": 976,
            "learn": [
             0.3961016826
            ],
            "passed_time": 4.787338143,
            "remaining_time": 2.562720418
           },
           {
            "iteration": 977,
            "learn": [
             0.3960402098
            ],
            "passed_time": 4.791698011,
            "remaining_time": 2.557532067
           },
           {
            "iteration": 978,
            "learn": [
             0.3960081021
            ],
            "passed_time": 4.796345635,
            "remaining_time": 2.552498545
           },
           {
            "iteration": 979,
            "learn": [
             0.3959462386
            ],
            "passed_time": 4.800974528,
            "remaining_time": 2.547455872
           },
           {
            "iteration": 980,
            "learn": [
             0.395914304
            ],
            "passed_time": 4.805531852,
            "remaining_time": 2.542376178
           },
           {
            "iteration": 981,
            "learn": [
             0.3958942644
            ],
            "passed_time": 4.810036667,
            "remaining_time": 2.537269851
           },
           {
            "iteration": 982,
            "learn": [
             0.3958466485
            ],
            "passed_time": 4.814551397,
            "remaining_time": 2.532169962
           },
           {
            "iteration": 983,
            "learn": [
             0.3957690995
            ],
            "passed_time": 4.81923246,
            "remaining_time": 2.527158485
           },
           {
            "iteration": 984,
            "learn": [
             0.3956585654
            ],
            "passed_time": 4.824846185,
            "remaining_time": 2.522635315
           },
           {
            "iteration": 985,
            "learn": [
             0.3956055315
            ],
            "passed_time": 4.829398153,
            "remaining_time": 2.517556441
           },
           {
            "iteration": 986,
            "learn": [
             0.3955160683
            ],
            "passed_time": 4.834089136,
            "remaining_time": 2.512550888
           },
           {
            "iteration": 987,
            "learn": [
             0.3954718994
            ],
            "passed_time": 4.838748642,
            "remaining_time": 2.50752966
           },
           {
            "iteration": 988,
            "learn": [
             0.3954236638
            ],
            "passed_time": 4.843241188,
            "remaining_time": 2.502422899
           },
           {
            "iteration": 989,
            "learn": [
             0.3953826961
            ],
            "passed_time": 4.847929606,
            "remaining_time": 2.497418282
           },
           {
            "iteration": 990,
            "learn": [
             0.3953341206
            ],
            "passed_time": 4.852432121,
            "remaining_time": 2.492318819
           },
           {
            "iteration": 991,
            "learn": [
             0.395305903
            ],
            "passed_time": 4.856841678,
            "remaining_time": 2.487172956
           },
           {
            "iteration": 992,
            "learn": [
             0.3952549326
            ],
            "passed_time": 4.861431507,
            "remaining_time": 2.482120618
           },
           {
            "iteration": 993,
            "learn": [
             0.3951991863
            ],
            "passed_time": 4.865791251,
            "remaining_time": 2.476952085
           },
           {
            "iteration": 994,
            "learn": [
             0.3951516661
            ],
            "passed_time": 4.870423439,
            "remaining_time": 2.471923454
           },
           {
            "iteration": 995,
            "learn": [
             0.3950882983
            ],
            "passed_time": 4.875123547,
            "remaining_time": 2.466929987
           },
           {
            "iteration": 996,
            "learn": [
             0.3950532098
            ],
            "passed_time": 4.879773991,
            "remaining_time": 2.461912054
           },
           {
            "iteration": 997,
            "learn": [
             0.3950051492
            ],
            "passed_time": 4.884363783,
            "remaining_time": 2.456864348
           },
           {
            "iteration": 998,
            "learn": [
             0.3949642183
            ],
            "passed_time": 4.889014162,
            "remaining_time": 2.451847943
           },
           {
            "iteration": 999,
            "learn": [
             0.3948288915
            ],
            "passed_time": 4.893640826,
            "remaining_time": 2.446820413
           },
           {
            "iteration": 1000,
            "learn": [
             0.3947748281
            ],
            "passed_time": 4.898129356,
            "remaining_time": 2.441724824
           },
           {
            "iteration": 1001,
            "learn": [
             0.3947199377
            ],
            "passed_time": 4.902918809,
            "remaining_time": 2.436780007
           },
           {
            "iteration": 1002,
            "learn": [
             0.394667959
            ],
            "passed_time": 4.907499461,
            "remaining_time": 2.431732036
           },
           {
            "iteration": 1003,
            "learn": [
             0.3946037453
            ],
            "passed_time": 4.912227256,
            "remaining_time": 2.426757688
           },
           {
            "iteration": 1004,
            "learn": [
             0.3945160487
            ],
            "passed_time": 4.917004139,
            "remaining_time": 2.421808009
           },
           {
            "iteration": 1005,
            "learn": [
             0.394486178
            ],
            "passed_time": 4.921627135,
            "remaining_time": 2.416783106
           },
           {
            "iteration": 1006,
            "learn": [
             0.3944614016
            ],
            "passed_time": 4.926172172,
            "remaining_time": 2.411720835
           },
           {
            "iteration": 1007,
            "learn": [
             0.394437626
            ],
            "passed_time": 4.930898376,
            "remaining_time": 2.406748017
           },
           {
            "iteration": 1008,
            "learn": [
             0.3943911906
            ],
            "passed_time": 4.935383264,
            "remaining_time": 2.401658259
           },
           {
            "iteration": 1009,
            "learn": [
             0.3943345843
            ],
            "passed_time": 4.93988057,
            "remaining_time": 2.396575722
           },
           {
            "iteration": 1010,
            "learn": [
             0.3942433747
            ],
            "passed_time": 4.944907428,
            "remaining_time": 2.391750477
           },
           {
            "iteration": 1011,
            "learn": [
             0.3942141217
            ],
            "passed_time": 4.949698721,
            "remaining_time": 2.386811241
           },
           {
            "iteration": 1012,
            "learn": [
             0.3941937973
            ],
            "passed_time": 4.954311315,
            "remaining_time": 2.381786388
           },
           {
            "iteration": 1013,
            "learn": [
             0.394151121
            ],
            "passed_time": 4.958897892,
            "remaining_time": 2.376749877
           },
           {
            "iteration": 1014,
            "learn": [
             0.3941464755
            ],
            "passed_time": 4.963412447,
            "remaining_time": 2.371679839
           },
           {
            "iteration": 1015,
            "learn": [
             0.3940460136
            ],
            "passed_time": 4.968333603,
            "remaining_time": 2.36680459
           },
           {
            "iteration": 1016,
            "learn": [
             0.3940028826
            ],
            "passed_time": 4.972974539,
            "remaining_time": 2.361796168
           },
           {
            "iteration": 1017,
            "learn": [
             0.393956951
            ],
            "passed_time": 4.977315323,
            "remaining_time": 2.356646351
           },
           {
            "iteration": 1018,
            "learn": [
             0.3939288145
            ],
            "passed_time": 4.98170834,
            "remaining_time": 2.351522779
           },
           {
            "iteration": 1019,
            "learn": [
             0.3939165558
            ],
            "passed_time": 4.986126713,
            "remaining_time": 2.346412571
           },
           {
            "iteration": 1020,
            "learn": [
             0.3938546117
            ],
            "passed_time": 4.990829795,
            "remaining_time": 2.341437289
           },
           {
            "iteration": 1021,
            "learn": [
             0.3937262344
            ],
            "passed_time": 4.995347696,
            "remaining_time": 2.336375928
           },
           {
            "iteration": 1022,
            "learn": [
             0.3936273674
            ],
            "passed_time": 5.000027043,
            "remaining_time": 2.331390908
           },
           {
            "iteration": 1023,
            "learn": [
             0.3935989403
            ],
            "passed_time": 5.004380294,
            "remaining_time": 2.326254902
           },
           {
            "iteration": 1024,
            "learn": [
             0.3935453148
            ],
            "passed_time": 5.009063284,
            "remaining_time": 2.321273229
           },
           {
            "iteration": 1025,
            "learn": [
             0.3935305598
            ],
            "passed_time": 5.013646096,
            "remaining_time": 2.316245857
           },
           {
            "iteration": 1026,
            "learn": [
             0.3934865695
            ],
            "passed_time": 5.050204435,
            "remaining_time": 2.325946152
           },
           {
            "iteration": 1027,
            "learn": [
             0.3933631558
            ],
            "passed_time": 5.060148614,
            "remaining_time": 2.323336718
           },
           {
            "iteration": 1028,
            "learn": [
             0.3933170773
            ],
            "passed_time": 5.073501006,
            "remaining_time": 2.322273055
           },
           {
            "iteration": 1029,
            "learn": [
             0.393300861
            ],
            "passed_time": 5.084811018,
            "remaining_time": 2.320253571
           },
           {
            "iteration": 1030,
            "learn": [
             0.3932373156
            ],
            "passed_time": 5.101557008,
            "remaining_time": 2.320688881
           },
           {
            "iteration": 1031,
            "learn": [
             0.3932086933
            ],
            "passed_time": 5.113261924,
            "remaining_time": 2.318804826
           },
           {
            "iteration": 1032,
            "learn": [
             0.3931258904
            ],
            "passed_time": 5.119230025,
            "remaining_time": 2.31430825
           },
           {
            "iteration": 1033,
            "learn": [
             0.3930554999
            ],
            "passed_time": 5.123852772,
            "remaining_time": 2.309202507
           },
           {
            "iteration": 1034,
            "learn": [
             0.3930327234
            ],
            "passed_time": 5.12855037,
            "remaining_time": 2.304131326
           },
           {
            "iteration": 1035,
            "learn": [
             0.3929801906
            ],
            "passed_time": 5.133213294,
            "remaining_time": 2.299045336
           },
           {
            "iteration": 1036,
            "learn": [
             0.392925787
            ],
            "passed_time": 5.138008304,
            "remaining_time": 2.294019137
           },
           {
            "iteration": 1037,
            "learn": [
             0.3928865239
            ],
            "passed_time": 5.14266933,
            "remaining_time": 2.288933748
           },
           {
            "iteration": 1038,
            "learn": [
             0.3928227783
            ],
            "passed_time": 5.147835989,
            "remaining_time": 2.284073524
           },
           {
            "iteration": 1039,
            "learn": [
             0.3928188505
            ],
            "passed_time": 5.152463595,
            "remaining_time": 2.278974282
           },
           {
            "iteration": 1040,
            "learn": [
             0.3927743092
            ],
            "passed_time": 5.157049193,
            "remaining_time": 2.273857425
           },
           {
            "iteration": 1041,
            "learn": [
             0.39275208
            ],
            "passed_time": 5.16206079,
            "remaining_time": 2.268928831
           },
           {
            "iteration": 1042,
            "learn": [
             0.3926985971
            ],
            "passed_time": 5.166787099,
            "remaining_time": 2.263875076
           },
           {
            "iteration": 1043,
            "learn": [
             0.3926084615
            ],
            "passed_time": 5.171438279,
            "remaining_time": 2.258789134
           },
           {
            "iteration": 1044,
            "learn": [
             0.3925671523
            ],
            "passed_time": 5.175909531,
            "remaining_time": 2.253625681
           },
           {
            "iteration": 1045,
            "learn": [
             0.3924572298
            ],
            "passed_time": 5.180455768,
            "remaining_time": 2.248496098
           },
           {
            "iteration": 1046,
            "learn": [
             0.3924104407
            ],
            "passed_time": 5.185101445,
            "remaining_time": 2.243410654
           },
           {
            "iteration": 1047,
            "learn": [
             0.3924066796
            ],
            "passed_time": 5.189604065,
            "remaining_time": 2.238264349
           },
           {
            "iteration": 1048,
            "learn": [
             0.392339097
            ],
            "passed_time": 5.19433823,
            "remaining_time": 2.233218819
           },
           {
            "iteration": 1049,
            "learn": [
             0.3923063232
            ],
            "passed_time": 5.199088179,
            "remaining_time": 2.228180648
           },
           {
            "iteration": 1050,
            "learn": [
             0.3922790243
            ],
            "passed_time": 5.203670617,
            "remaining_time": 2.223071462
           },
           {
            "iteration": 1051,
            "learn": [
             0.3921981606
            ],
            "passed_time": 5.208315631,
            "remaining_time": 2.217989926
           },
           {
            "iteration": 1052,
            "learn": [
             0.3921497654
            ],
            "passed_time": 5.212760593,
            "remaining_time": 2.212824297
           },
           {
            "iteration": 1053,
            "learn": [
             0.3921306911
            ],
            "passed_time": 5.218302414,
            "remaining_time": 2.208124172
           },
           {
            "iteration": 1054,
            "learn": [
             0.3920855053
            ],
            "passed_time": 5.223065567,
            "remaining_time": 2.203094007
           },
           {
            "iteration": 1055,
            "learn": [
             0.3920321392
            ],
            "passed_time": 5.227777182,
            "remaining_time": 2.198042679
           },
           {
            "iteration": 1056,
            "learn": [
             0.3919649347
            ],
            "passed_time": 5.23255447,
            "remaining_time": 2.193019518
           },
           {
            "iteration": 1057,
            "learn": [
             0.3919451941
            ],
            "passed_time": 5.237129912,
            "remaining_time": 2.187912496
           },
           {
            "iteration": 1058,
            "learn": [
             0.3918739269
            ],
            "passed_time": 5.241767101,
            "remaining_time": 2.182832192
           },
           {
            "iteration": 1059,
            "learn": [
             0.3918639543
            ],
            "passed_time": 5.246500307,
            "remaining_time": 2.17779258
           },
           {
            "iteration": 1060,
            "learn": [
             0.391773472
            ],
            "passed_time": 5.251067663,
            "remaining_time": 2.172684924
           },
           {
            "iteration": 1061,
            "learn": [
             0.3916874578
            ],
            "passed_time": 5.255644739,
            "remaining_time": 2.167582294
           },
           {
            "iteration": 1062,
            "learn": [
             0.3916584353
            ],
            "passed_time": 5.260569018,
            "remaining_time": 2.162623387
           },
           {
            "iteration": 1063,
            "learn": [
             0.3916406543
            ],
            "passed_time": 5.265115021,
            "remaining_time": 2.157509539
           },
           {
            "iteration": 1064,
            "learn": [
             0.3915550442
            ],
            "passed_time": 5.269885787,
            "remaining_time": 2.152488561
           },
           {
            "iteration": 1065,
            "learn": [
             0.3914612525
            ],
            "passed_time": 5.274513877,
            "remaining_time": 2.147409965
           },
           {
            "iteration": 1066,
            "learn": [
             0.3913623233
            ],
            "passed_time": 5.27896712,
            "remaining_time": 2.142261259
           },
           {
            "iteration": 1067,
            "learn": [
             0.391277435
            ],
            "passed_time": 5.283525709,
            "remaining_time": 2.137156467
           },
           {
            "iteration": 1068,
            "learn": [
             0.3911937724
            ],
            "passed_time": 5.288223577,
            "remaining_time": 2.132108851
           },
           {
            "iteration": 1069,
            "learn": [
             0.3911465757
            ],
            "passed_time": 5.292786466,
            "remaining_time": 2.127007645
           },
           {
            "iteration": 1070,
            "learn": [
             0.3911209331
            ],
            "passed_time": 5.297291365,
            "remaining_time": 2.121884216
           },
           {
            "iteration": 1071,
            "learn": [
             0.3910667565
            ],
            "passed_time": 5.301829526,
            "remaining_time": 2.116775221
           },
           {
            "iteration": 1072,
            "learn": [
             0.3910397029
            ],
            "passed_time": 5.306282995,
            "remaining_time": 2.111633587
           },
           {
            "iteration": 1073,
            "learn": [
             0.3910375091
            ],
            "passed_time": 5.310926165,
            "remaining_time": 2.106568479
           },
           {
            "iteration": 1074,
            "learn": [
             0.3909943178
            ],
            "passed_time": 5.315831378,
            "remaining_time": 2.101607754
           },
           {
            "iteration": 1075,
            "learn": [
             0.3909359689
            ],
            "passed_time": 5.320850091,
            "remaining_time": 2.096691857
           },
           {
            "iteration": 1076,
            "learn": [
             0.3908989366
            ],
            "passed_time": 5.325655678,
            "remaining_time": 2.091692063
           },
           {
            "iteration": 1077,
            "learn": [
             0.3908810497
            ],
            "passed_time": 5.33027334,
            "remaining_time": 2.086619063
           },
           {
            "iteration": 1078,
            "learn": [
             0.3908582527
            ],
            "passed_time": 5.334910272,
            "remaining_time": 2.081554425
           },
           {
            "iteration": 1079,
            "learn": [
             0.3908041448
            ],
            "passed_time": 5.339473399,
            "remaining_time": 2.076461877
           },
           {
            "iteration": 1080,
            "learn": [
             0.3907663624
            ],
            "passed_time": 5.344027325,
            "remaining_time": 2.071366743
           },
           {
            "iteration": 1081,
            "learn": [
             0.3907238342
            ],
            "passed_time": 5.348671665,
            "remaining_time": 2.066307538
           },
           {
            "iteration": 1082,
            "learn": [
             0.3906561748
            ],
            "passed_time": 5.353333723,
            "remaining_time": 2.061255921
           },
           {
            "iteration": 1083,
            "learn": [
             0.3906291844
            ],
            "passed_time": 5.357929927,
            "remaining_time": 2.05617975
           },
           {
            "iteration": 1084,
            "learn": [
             0.3906139467
            ],
            "passed_time": 5.362434159,
            "remaining_time": 2.051069287
           },
           {
            "iteration": 1085,
            "learn": [
             0.3906121689
            ],
            "passed_time": 5.367063953,
            "remaining_time": 2.046007805
           },
           {
            "iteration": 1086,
            "learn": [
             0.3905860359
            ],
            "passed_time": 5.371562893,
            "remaining_time": 2.040897401
           },
           {
            "iteration": 1087,
            "learn": [
             0.3905431375
            ],
            "passed_time": 5.376061805,
            "remaining_time": 2.03578811
           },
           {
            "iteration": 1088,
            "learn": [
             0.3904714956
            ],
            "passed_time": 5.380622962,
            "remaining_time": 2.030703432
           },
           {
            "iteration": 1089,
            "learn": [
             0.3904024304
            ],
            "passed_time": 5.385268353,
            "remaining_time": 2.025651399
           },
           {
            "iteration": 1090,
            "learn": [
             0.3903807449
            ],
            "passed_time": 5.389801961,
            "remaining_time": 2.020558205
           },
           {
            "iteration": 1091,
            "learn": [
             0.3903024144
            ],
            "passed_time": 5.394376771,
            "remaining_time": 2.015481431
           },
           {
            "iteration": 1092,
            "learn": [
             0.3902667036
            ],
            "passed_time": 5.39887444,
            "remaining_time": 2.01037685
           },
           {
            "iteration": 1093,
            "learn": [
             0.3902282262
            ],
            "passed_time": 5.403362953,
            "remaining_time": 2.005269981
           },
           {
            "iteration": 1094,
            "learn": [
             0.3902228751
            ],
            "passed_time": 5.406865616,
            "remaining_time": 1.999799611
           },
           {
            "iteration": 1095,
            "learn": [
             0.3901632412
            ],
            "passed_time": 5.411321995,
            "remaining_time": 1.994684385
           },
           {
            "iteration": 1096,
            "learn": [
             0.3901318305
            ],
            "passed_time": 5.415814126,
            "remaining_time": 1.989583494
           },
           {
            "iteration": 1097,
            "learn": [
             0.3900664948
            ],
            "passed_time": 5.420387094,
            "remaining_time": 1.984513308
           },
           {
            "iteration": 1098,
            "learn": [
             0.3900089648
            ],
            "passed_time": 5.426067884,
            "remaining_time": 1.979848245
           },
           {
            "iteration": 1099,
            "learn": [
             0.3899654438
            ],
            "passed_time": 5.430732994,
            "remaining_time": 1.974811998
           },
           {
            "iteration": 1100,
            "learn": [
             0.3899282356
            ],
            "passed_time": 5.435238859,
            "remaining_time": 1.969718715
           },
           {
            "iteration": 1101,
            "learn": [
             0.3898794773
            ],
            "passed_time": 5.43989097,
            "remaining_time": 1.964679316
           },
           {
            "iteration": 1102,
            "learn": [
             0.3898527349
            ],
            "passed_time": 5.444252231,
            "remaining_time": 1.959535934
           },
           {
            "iteration": 1103,
            "learn": [
             0.389849781
            ],
            "passed_time": 5.448737416,
            "remaining_time": 1.954438421
           },
           {
            "iteration": 1104,
            "learn": [
             0.3897544069
            ],
            "passed_time": 5.453317635,
            "remaining_time": 1.949375987
           },
           {
            "iteration": 1105,
            "learn": [
             0.3896757278
            ],
            "passed_time": 5.458004156,
            "remaining_time": 1.944352294
           },
           {
            "iteration": 1106,
            "learn": [
             0.3896500437
            ],
            "passed_time": 5.462407346,
            "remaining_time": 1.939228624
           },
           {
            "iteration": 1107,
            "learn": [
             0.3895782917
            ],
            "passed_time": 5.467117287,
            "remaining_time": 1.93421478
           },
           {
            "iteration": 1108,
            "learn": [
             0.3895006418
            ],
            "passed_time": 5.471645812,
            "remaining_time": 1.929137522
           },
           {
            "iteration": 1109,
            "learn": [
             0.3894551308
            ],
            "passed_time": 5.476426168,
            "remaining_time": 1.924149735
           },
           {
            "iteration": 1110,
            "learn": [
             0.3893913792
            ],
            "passed_time": 5.481110135,
            "remaining_time": 1.919128571
           },
           {
            "iteration": 1111,
            "learn": [
             0.3893492314
            ],
            "passed_time": 5.485639391,
            "remaining_time": 1.914054032
           },
           {
            "iteration": 1112,
            "learn": [
             0.3893431105
            ],
            "passed_time": 5.491150005,
            "remaining_time": 1.9093217
           },
           {
            "iteration": 1113,
            "learn": [
             0.389300669
            ],
            "passed_time": 5.497475542,
            "remaining_time": 1.90487034
           },
           {
            "iteration": 1114,
            "learn": [
             0.3891887739
            ],
            "passed_time": 5.501812844,
            "remaining_time": 1.899729099
           },
           {
            "iteration": 1115,
            "learn": [
             0.3891456457
            ],
            "passed_time": 5.506535394,
            "remaining_time": 1.894721856
           },
           {
            "iteration": 1116,
            "learn": [
             0.3890805041
            ],
            "passed_time": 5.510941266,
            "remaining_time": 1.88960654
           },
           {
            "iteration": 1117,
            "learn": [
             0.3889707537
            ],
            "passed_time": 5.519443762,
            "remaining_time": 1.885892234
           },
           {
            "iteration": 1118,
            "learn": [
             0.3889435652
            ],
            "passed_time": 5.524082651,
            "remaining_time": 1.880853879
           },
           {
            "iteration": 1119,
            "learn": [
             0.3888192597
            ],
            "passed_time": 5.52853391,
            "remaining_time": 1.875752577
           },
           {
            "iteration": 1120,
            "learn": [
             0.3888097209
            ],
            "passed_time": 5.532989886,
            "remaining_time": 1.870654029
           },
           {
            "iteration": 1121,
            "learn": [
             0.3887708663
            ],
            "passed_time": 5.537508515,
            "remaining_time": 1.865577735
           },
           {
            "iteration": 1122,
            "learn": [
             0.3887522683
            ],
            "passed_time": 5.542046565,
            "remaining_time": 1.860508954
           },
           {
            "iteration": 1123,
            "learn": [
             0.3887405434
            ],
            "passed_time": 5.546391071,
            "remaining_time": 1.855376373
           },
           {
            "iteration": 1124,
            "learn": [
             0.388705713
            ],
            "passed_time": 5.550658648,
            "remaining_time": 1.850219549
           },
           {
            "iteration": 1125,
            "learn": [
             0.3885694736
            ],
            "passed_time": 5.555109575,
            "remaining_time": 1.845125205
           },
           {
            "iteration": 1126,
            "learn": [
             0.3885497867
            ],
            "passed_time": 5.559492146,
            "remaining_time": 1.840009379
           },
           {
            "iteration": 1127,
            "learn": [
             0.3885140466
            ],
            "passed_time": 5.56408935,
            "remaining_time": 1.834965637
           },
           {
            "iteration": 1128,
            "learn": [
             0.38844107
            ],
            "passed_time": 5.568778632,
            "remaining_time": 1.829952943
           },
           {
            "iteration": 1129,
            "learn": [
             0.3883957187
            ],
            "passed_time": 5.573420922,
            "remaining_time": 1.824925435
           },
           {
            "iteration": 1130,
            "learn": [
             0.3883308467
            ],
            "passed_time": 5.577954958,
            "remaining_time": 1.819863289
           },
           {
            "iteration": 1131,
            "learn": [
             0.3882948958
            ],
            "passed_time": 5.582264865,
            "remaining_time": 1.814729214
           },
           {
            "iteration": 1132,
            "learn": [
             0.3882551507
            ],
            "passed_time": 5.586681392,
            "remaining_time": 1.80963113
           },
           {
            "iteration": 1133,
            "learn": [
             0.3882033117
            ],
            "passed_time": 5.591166269,
            "remaining_time": 1.804556309
           },
           {
            "iteration": 1134,
            "learn": [
             0.3881673072
            ],
            "passed_time": 5.595436087,
            "remaining_time": 1.799413367
           },
           {
            "iteration": 1135,
            "learn": [
             0.3880665597
            ],
            "passed_time": 5.599861223,
            "remaining_time": 1.79432173
           },
           {
            "iteration": 1136,
            "learn": [
             0.3880330787
            ],
            "passed_time": 5.604449559,
            "remaining_time": 1.789283369
           },
           {
            "iteration": 1137,
            "learn": [
             0.3879958546
            ],
            "passed_time": 5.609064311,
            "remaining_time": 1.784254201
           },
           {
            "iteration": 1138,
            "learn": [
             0.3879613201
            ],
            "passed_time": 5.61364872,
            "remaining_time": 1.779216144
           },
           {
            "iteration": 1139,
            "learn": [
             0.3879277533
            ],
            "passed_time": 5.618422641,
            "remaining_time": 1.774238729
           },
           {
            "iteration": 1140,
            "learn": [
             0.3878635293
            ],
            "passed_time": 5.623052988,
            "remaining_time": 1.769216497
           },
           {
            "iteration": 1141,
            "learn": [
             0.3877895965
            ],
            "passed_time": 5.627609991,
            "remaining_time": 1.764171959
           },
           {
            "iteration": 1142,
            "learn": [
             0.3877750372
            ],
            "passed_time": 5.631948022,
            "remaining_time": 1.759059881
           },
           {
            "iteration": 1143,
            "learn": [
             0.3877637159
            ],
            "passed_time": 5.636346874,
            "remaining_time": 1.753968083
           },
           {
            "iteration": 1144,
            "learn": [
             0.387729337
            ],
            "passed_time": 5.640936543,
            "remaining_time": 1.748936657
           },
           {
            "iteration": 1145,
            "learn": [
             0.387658813
            ],
            "passed_time": 5.645549045,
            "remaining_time": 1.743913056
           },
           {
            "iteration": 1146,
            "learn": [
             0.3876002094
            ],
            "passed_time": 5.650278461,
            "remaining_time": 1.738926152
           },
           {
            "iteration": 1147,
            "learn": [
             0.3875156806
            ],
            "passed_time": 5.654863352,
            "remaining_time": 1.733895383
           },
           {
            "iteration": 1148,
            "learn": [
             0.3874824826
            ],
            "passed_time": 5.659211437,
            "remaining_time": 1.72879305
           },
           {
            "iteration": 1149,
            "learn": [
             0.3873638838
            ],
            "passed_time": 5.663766359,
            "remaining_time": 1.723754979
           },
           {
            "iteration": 1150,
            "learn": [
             0.3873132166
            ],
            "passed_time": 5.668348964,
            "remaining_time": 1.718726141
           },
           {
            "iteration": 1151,
            "learn": [
             0.3872703126
            ],
            "passed_time": 5.672816547,
            "remaining_time": 1.713663332
           },
           {
            "iteration": 1152,
            "learn": [
             0.3872370747
            ],
            "passed_time": 5.677397764,
            "remaining_time": 1.708635754
           },
           {
            "iteration": 1153,
            "learn": [
             0.3871850579
            ],
            "passed_time": 5.681930257,
            "remaining_time": 1.70359434
           },
           {
            "iteration": 1154,
            "learn": [
             0.3871483202
            ],
            "passed_time": 5.68651595,
            "remaining_time": 1.698569699
           },
           {
            "iteration": 1155,
            "learn": [
             0.3870871192
            ],
            "passed_time": 5.691114828,
            "remaining_time": 1.693549741
           },
           {
            "iteration": 1156,
            "learn": [
             0.3870817391
            ],
            "passed_time": 5.695497887,
            "remaining_time": 1.68846653
           },
           {
            "iteration": 1157,
            "learn": [
             0.3870177842
            ],
            "passed_time": 5.700225819,
            "remaining_time": 1.683486382
           },
           {
            "iteration": 1158,
            "learn": [
             0.3869747117
            ],
            "passed_time": 5.704751439,
            "remaining_time": 1.678447145
           },
           {
            "iteration": 1159,
            "learn": [
             0.3869603853
            ],
            "passed_time": 5.709185786,
            "remaining_time": 1.673382041
           },
           {
            "iteration": 1160,
            "learn": [
             0.3869463831
            ],
            "passed_time": 5.713413739,
            "remaining_time": 1.668257758
           },
           {
            "iteration": 1161,
            "learn": [
             0.3869111841
            ],
            "passed_time": 5.718088415,
            "remaining_time": 1.663264961
           },
           {
            "iteration": 1162,
            "learn": [
             0.3868820318
            ],
            "passed_time": 5.722709338,
            "remaining_time": 1.658257134
           },
           {
            "iteration": 1163,
            "learn": [
             0.3868698271
            ],
            "passed_time": 5.727281081,
            "remaining_time": 1.653235776
           },
           {
            "iteration": 1164,
            "learn": [
             0.3868273206
            ],
            "passed_time": 5.731713994,
            "remaining_time": 1.648175269
           },
           {
            "iteration": 1165,
            "learn": [
             0.3868186572
            ],
            "passed_time": 5.736374591,
            "remaining_time": 1.643181058
           },
           {
            "iteration": 1166,
            "learn": [
             0.3867524576
            ],
            "passed_time": 5.741062121,
            "remaining_time": 1.638195104
           },
           {
            "iteration": 1167,
            "learn": [
             0.3866790773
            ],
            "passed_time": 5.745827751,
            "remaining_time": 1.633231861
           },
           {
            "iteration": 1168,
            "learn": [
             0.3866004695
            ],
            "passed_time": 5.750146623,
            "remaining_time": 1.628142457
           },
           {
            "iteration": 1169,
            "learn": [
             0.3864830642
            ],
            "passed_time": 5.754830058,
            "remaining_time": 1.623157196
           },
           {
            "iteration": 1170,
            "learn": [
             0.3864384225
            ],
            "passed_time": 5.759405352,
            "remaining_time": 1.618142067
           },
           {
            "iteration": 1171,
            "learn": [
             0.3863886776
            ],
            "passed_time": 5.763817442,
            "remaining_time": 1.613082014
           },
           {
            "iteration": 1172,
            "learn": [
             0.386369421
            ],
            "passed_time": 5.768302344,
            "remaining_time": 1.608043364
           },
           {
            "iteration": 1173,
            "learn": [
             0.3862934149
            ],
            "passed_time": 5.772713311,
            "remaining_time": 1.602985127
           },
           {
            "iteration": 1174,
            "learn": [
             0.3862794125
            ],
            "passed_time": 5.777183971,
            "remaining_time": 1.597944503
           },
           {
            "iteration": 1175,
            "learn": [
             0.3861851613
            ],
            "passed_time": 5.781538938,
            "remaining_time": 1.592872973
           },
           {
            "iteration": 1176,
            "learn": [
             0.3861615718
            ],
            "passed_time": 5.785964789,
            "remaining_time": 1.587822113
           },
           {
            "iteration": 1177,
            "learn": [
             0.3861038507
            ],
            "passed_time": 5.790569885,
            "remaining_time": 1.58282131
           },
           {
            "iteration": 1178,
            "learn": [
             0.3860796094
            ],
            "passed_time": 5.794923741,
            "remaining_time": 1.577752774
           },
           {
            "iteration": 1179,
            "learn": [
             0.3860558104
            ],
            "passed_time": 5.7992029,
            "remaining_time": 1.572665193
           },
           {
            "iteration": 1180,
            "learn": [
             0.3859990815
            ],
            "passed_time": 5.805765245,
            "remaining_time": 1.568195693
           },
           {
            "iteration": 1181,
            "learn": [
             0.3859569197
            ],
            "passed_time": 5.810362799,
            "remaining_time": 1.563194052
           },
           {
            "iteration": 1182,
            "learn": [
             0.3858797183
            ],
            "passed_time": 5.815312481,
            "remaining_time": 1.558287453
           },
           {
            "iteration": 1183,
            "learn": [
             0.38582635
            ],
            "passed_time": 5.820036647,
            "remaining_time": 1.553320592
           },
           {
            "iteration": 1184,
            "learn": [
             0.3857876816
            ],
            "passed_time": 5.8246526,
            "remaining_time": 1.548325375
           },
           {
            "iteration": 1185,
            "learn": [
             0.3857465282
            ],
            "passed_time": 5.828987282,
            "remaining_time": 1.543256329
           },
           {
            "iteration": 1186,
            "learn": [
             0.3856679604
            ],
            "passed_time": 5.833683267,
            "remaining_time": 1.538283793
           },
           {
            "iteration": 1187,
            "learn": [
             0.3856377364
            ],
            "passed_time": 5.838027202,
            "remaining_time": 1.533219265
           },
           {
            "iteration": 1188,
            "learn": [
             0.3855838345
            ],
            "passed_time": 5.842580271,
            "remaining_time": 1.528210651
           },
           {
            "iteration": 1189,
            "learn": [
             0.3855540844
            ],
            "passed_time": 5.847059413,
            "remaining_time": 1.523183545
           },
           {
            "iteration": 1190,
            "learn": [
             0.3854955049
            ],
            "passed_time": 5.851569189,
            "remaining_time": 1.518165306
           },
           {
            "iteration": 1191,
            "learn": [
             0.3854313248
            ],
            "passed_time": 5.856311451,
            "remaining_time": 1.513207992
           },
           {
            "iteration": 1192,
            "learn": [
             0.3854284834
            ],
            "passed_time": 5.860802,
            "remaining_time": 1.508186265
           },
           {
            "iteration": 1193,
            "learn": [
             0.3853965937
            ],
            "passed_time": 5.865476995,
            "remaining_time": 1.503212697
           },
           {
            "iteration": 1194,
            "learn": [
             0.3853186539
            ],
            "passed_time": 5.870110775,
            "remaining_time": 1.49822911
           },
           {
            "iteration": 1195,
            "learn": [
             0.3852809573
            ],
            "passed_time": 5.874677249,
            "remaining_time": 1.493229
           },
           {
            "iteration": 1196,
            "learn": [
             0.3852726578
            ],
            "passed_time": 5.879320732,
            "remaining_time": 1.488249108
           },
           {
            "iteration": 1197,
            "learn": [
             0.3852649167
            ],
            "passed_time": 5.88386992,
            "remaining_time": 1.483246006
           },
           {
            "iteration": 1198,
            "learn": [
             0.3852529907
            ],
            "passed_time": 5.888294534,
            "remaining_time": 1.478212389
           },
           {
            "iteration": 1199,
            "learn": [
             0.3852198271
            ],
            "passed_time": 5.892911833,
            "remaining_time": 1.473227958
           },
           {
            "iteration": 1200,
            "learn": [
             0.3851409954
            ],
            "passed_time": 5.897739621,
            "remaining_time": 1.468296542
           },
           {
            "iteration": 1201,
            "learn": [
             0.385087111
            ],
            "passed_time": 5.902685812,
            "remaining_time": 1.463394652
           },
           {
            "iteration": 1202,
            "learn": [
             0.3850601778
            ],
            "passed_time": 5.907261108,
            "remaining_time": 1.458401121
           },
           {
            "iteration": 1203,
            "learn": [
             0.3849643709
            ],
            "passed_time": 5.911950031,
            "remaining_time": 1.45343622
           },
           {
            "iteration": 1204,
            "learn": [
             0.3849414965
            ],
            "passed_time": 5.916519495,
            "remaining_time": 1.448442532
           },
           {
            "iteration": 1205,
            "learn": [
             0.3849239336
            ],
            "passed_time": 5.920954078,
            "remaining_time": 1.443416666
           },
           {
            "iteration": 1206,
            "learn": [
             0.3848868654
            ],
            "passed_time": 5.925345013,
            "remaining_time": 1.438381184
           },
           {
            "iteration": 1207,
            "learn": [
             0.3848706409
            ],
            "passed_time": 5.93007206,
            "remaining_time": 1.433428015
           },
           {
            "iteration": 1208,
            "learn": [
             0.3847732919
            ],
            "passed_time": 5.934743526,
            "remaining_time": 1.428461841
           },
           {
            "iteration": 1209,
            "learn": [
             0.3847245011
            ],
            "passed_time": 5.939443828,
            "remaining_time": 1.423503066
           },
           {
            "iteration": 1210,
            "learn": [
             0.3846730256
            ],
            "passed_time": 5.94400153,
            "remaining_time": 1.418510687
           },
           {
            "iteration": 1211,
            "learn": [
             0.3846200691
            ],
            "passed_time": 5.948603568,
            "remaining_time": 1.413529561
           },
           {
            "iteration": 1212,
            "learn": [
             0.384546387
            ],
            "passed_time": 5.953201975,
            "remaining_time": 1.4085482
           },
           {
            "iteration": 1213,
            "learn": [
             0.3845339589
            ],
            "passed_time": 5.957727532,
            "remaining_time": 1.403550308
           },
           {
            "iteration": 1214,
            "learn": [
             0.3844510564
            ],
            "passed_time": 5.962174914,
            "remaining_time": 1.398534856
           },
           {
            "iteration": 1215,
            "learn": [
             0.3843807379
            ],
            "passed_time": 5.966731266,
            "remaining_time": 1.393545789
           },
           {
            "iteration": 1216,
            "learn": [
             0.3843287494
            ],
            "passed_time": 5.971239458,
            "remaining_time": 1.388546234
           },
           {
            "iteration": 1217,
            "learn": [
             0.3843176637
            ],
            "passed_time": 5.975844329,
            "remaining_time": 1.383569869
           },
           {
            "iteration": 1218,
            "learn": [
             0.3842948171
            ],
            "passed_time": 5.980235522,
            "remaining_time": 1.378544858
           },
           {
            "iteration": 1219,
            "learn": [
             0.3842425316
            ],
            "passed_time": 5.984930712,
            "remaining_time": 1.373590655
           },
           {
            "iteration": 1220,
            "learn": [
             0.3842087741
            ],
            "passed_time": 5.989464426,
            "remaining_time": 1.368599979
           },
           {
            "iteration": 1221,
            "learn": [
             0.3842054645
            ],
            "passed_time": 5.994014184,
            "remaining_time": 1.363613701
           },
           {
            "iteration": 1222,
            "learn": [
             0.3841948539
            ],
            "passed_time": 5.998706976,
            "remaining_time": 1.358660533
           },
           {
            "iteration": 1223,
            "learn": [
             0.3841233534
            ],
            "passed_time": 6.003418877,
            "remaining_time": 1.3537121
           },
           {
            "iteration": 1224,
            "learn": [
             0.3840601307
            ],
            "passed_time": 6.007993904,
            "remaining_time": 1.348733325
           },
           {
            "iteration": 1225,
            "learn": [
             0.3840498114
            ],
            "passed_time": 6.012414214,
            "remaining_time": 1.343720632
           },
           {
            "iteration": 1226,
            "learn": [
             0.3840355258
            ],
            "passed_time": 6.016831473,
            "remaining_time": 1.338708225
           },
           {
            "iteration": 1227,
            "learn": [
             0.384024732
            ],
            "passed_time": 6.02138969,
            "remaining_time": 1.33372801
           },
           {
            "iteration": 1228,
            "learn": [
             0.3839364871
            ],
            "passed_time": 6.026030454,
            "remaining_time": 1.328766683
           },
           {
            "iteration": 1229,
            "learn": [
             0.3838639764
            ],
            "passed_time": 6.030679668,
            "remaining_time": 1.323807732
           },
           {
            "iteration": 1230,
            "learn": [
             0.3838192412
            ],
            "passed_time": 6.042409057,
            "remaining_time": 1.320396455
           },
           {
            "iteration": 1231,
            "learn": [
             0.3837972282
            ],
            "passed_time": 6.082981025,
            "remaining_time": 1.323245872
           },
           {
            "iteration": 1232,
            "learn": [
             0.3837582807
            ],
            "passed_time": 6.09122605,
            "remaining_time": 1.319024619
           },
           {
            "iteration": 1233,
            "learn": [
             0.3837500592
            ],
            "passed_time": 6.098479779,
            "remaining_time": 1.314583162
           },
           {
            "iteration": 1234,
            "learn": [
             0.3837051767
            ],
            "passed_time": 6.103634662,
            "remaining_time": 1.30968679
           },
           {
            "iteration": 1235,
            "learn": [
             0.3836649676
            ],
            "passed_time": 6.114912478,
            "remaining_time": 1.306097811
           },
           {
            "iteration": 1236,
            "learn": [
             0.3836389395
            ],
            "passed_time": 6.124877015,
            "remaining_time": 1.302217183
           },
           {
            "iteration": 1237,
            "learn": [
             0.383603497
            ],
            "passed_time": 6.132394055,
            "remaining_time": 1.297808758
           },
           {
            "iteration": 1238,
            "learn": [
             0.3835338251
            ],
            "passed_time": 6.144807714,
            "remaining_time": 1.294426807
           },
           {
            "iteration": 1239,
            "learn": [
             0.3835070393
            ],
            "passed_time": 6.149518438,
            "remaining_time": 1.289415156
           },
           {
            "iteration": 1240,
            "learn": [
             0.3834801946
            ],
            "passed_time": 6.154075808,
            "remaining_time": 1.284371986
           },
           {
            "iteration": 1241,
            "learn": [
             0.3834587609
            ],
            "passed_time": 6.158717695,
            "remaining_time": 1.279347154
           },
           {
            "iteration": 1242,
            "learn": [
             0.3834112951
            ],
            "passed_time": 6.163108934,
            "remaining_time": 1.274271115
           },
           {
            "iteration": 1243,
            "learn": [
             0.3833677594
            ],
            "passed_time": 6.167596778,
            "remaining_time": 1.269216057
           },
           {
            "iteration": 1244,
            "learn": [
             0.3833198115
            ],
            "passed_time": 6.172176465,
            "remaining_time": 1.264180722
           },
           {
            "iteration": 1245,
            "learn": [
             0.383298614
            ],
            "passed_time": 6.176527693,
            "remaining_time": 1.259099546
           },
           {
            "iteration": 1246,
            "learn": [
             0.3832897304
            ],
            "passed_time": 6.181504465,
            "remaining_time": 1.254146455
           },
           {
            "iteration": 1247,
            "learn": [
             0.3832285829
            ],
            "passed_time": 6.185840149,
            "remaining_time": 1.249063876
           },
           {
            "iteration": 1248,
            "learn": [
             0.3832251194
            ],
            "passed_time": 6.190313208,
            "remaining_time": 1.2440101
           },
           {
            "iteration": 1249,
            "learn": [
             0.3832033825
            ],
            "passed_time": 6.194892693,
            "remaining_time": 1.238978539
           },
           {
            "iteration": 1250,
            "learn": [
             0.3831298147
            ],
            "passed_time": 6.200061463,
            "remaining_time": 1.234064991
           },
           {
            "iteration": 1251,
            "learn": [
             0.3830586862
            ],
            "passed_time": 6.204671732,
            "remaining_time": 1.229040407
           },
           {
            "iteration": 1252,
            "learn": [
             0.3829576666
            ],
            "passed_time": 6.209139681,
            "remaining_time": 1.223988429
           },
           {
            "iteration": 1253,
            "learn": [
             0.3828916315
            ],
            "passed_time": 6.213621293,
            "remaining_time": 1.218940062
           },
           {
            "iteration": 1254,
            "learn": [
             0.3828160358
            ],
            "passed_time": 6.218304097,
            "remaining_time": 1.213931876
           },
           {
            "iteration": 1255,
            "learn": [
             0.3827613212
            ],
            "passed_time": 6.223084772,
            "remaining_time": 1.20894322
           },
           {
            "iteration": 1256,
            "learn": [
             0.3826273072
            ],
            "passed_time": 6.227657054,
            "remaining_time": 1.203914609
           },
           {
            "iteration": 1257,
            "learn": [
             0.3825656578
            ],
            "passed_time": 6.232099546,
            "remaining_time": 1.198861757
           },
           {
            "iteration": 1258,
            "learn": [
             0.3825210574
            ],
            "passed_time": 6.236810639,
            "remaining_time": 1.19386129
           },
           {
            "iteration": 1259,
            "learn": [
             0.3824918212
            ],
            "passed_time": 6.241077526,
            "remaining_time": 1.188776672
           },
           {
            "iteration": 1260,
            "learn": [
             0.3824818134
            ],
            "passed_time": 6.245447089,
            "remaining_time": 1.183712811
           },
           {
            "iteration": 1261,
            "learn": [
             0.3824070937
            ],
            "passed_time": 6.25007793,
            "remaining_time": 1.178699324
           },
           {
            "iteration": 1262,
            "learn": [
             0.3823753988
            ],
            "passed_time": 6.254771435,
            "remaining_time": 1.173698203
           },
           {
            "iteration": 1263,
            "learn": [
             0.3823077647
            ],
            "passed_time": 6.259394792,
            "remaining_time": 1.168684471
           },
           {
            "iteration": 1264,
            "learn": [
             0.3821856414
            ],
            "passed_time": 6.263942658,
            "remaining_time": 1.163657332
           },
           {
            "iteration": 1265,
            "learn": [
             0.3821638755
            ],
            "passed_time": 6.268331065,
            "remaining_time": 1.158601476
           },
           {
            "iteration": 1266,
            "learn": [
             0.3821301255
            ],
            "passed_time": 6.272717485,
            "remaining_time": 1.153546309
           },
           {
            "iteration": 1267,
            "learn": [
             0.3820947877
            ],
            "passed_time": 6.277113947,
            "remaining_time": 1.148494035
           },
           {
            "iteration": 1268,
            "learn": [
             0.3820648825
            ],
            "passed_time": 6.281433472,
            "remaining_time": 1.143428788
           },
           {
            "iteration": 1269,
            "learn": [
             0.3820143228
            ],
            "passed_time": 6.285996277,
            "remaining_time": 1.138408775
           },
           {
            "iteration": 1270,
            "learn": [
             0.3819868001
            ],
            "passed_time": 6.290424204,
            "remaining_time": 1.133365179
           },
           {
            "iteration": 1271,
            "learn": [
             0.3819129685
            ],
            "passed_time": 6.295163836,
            "remaining_time": 1.128378423
           },
           {
            "iteration": 1272,
            "learn": [
             0.3819072664
            ],
            "passed_time": 6.299862511,
            "remaining_time": 1.123384753
           },
           {
            "iteration": 1273,
            "learn": [
             0.3819018659
            ],
            "passed_time": 6.304247774,
            "remaining_time": 1.118335947
           },
           {
            "iteration": 1274,
            "learn": [
             0.3818471665
            ],
            "passed_time": 6.308578108,
            "remaining_time": 1.11327849
           },
           {
            "iteration": 1275,
            "learn": [
             0.3818174846
            ],
            "passed_time": 6.313077519,
            "remaining_time": 1.108251853
           },
           {
            "iteration": 1276,
            "learn": [
             0.3817805336
            ],
            "passed_time": 6.318012898,
            "remaining_time": 1.103302174
           },
           {
            "iteration": 1277,
            "learn": [
             0.38174733
            ],
            "passed_time": 6.322676293,
            "remaining_time": 1.098305272
           },
           {
            "iteration": 1278,
            "learn": [
             0.3817450774
            ],
            "passed_time": 6.327073053,
            "remaining_time": 1.093262818
           },
           {
            "iteration": 1279,
            "learn": [
             0.3817129706
            ],
            "passed_time": 6.331874916,
            "remaining_time": 1.088291001
           },
           {
            "iteration": 1280,
            "learn": [
             0.381684268
            ],
            "passed_time": 6.336671736,
            "remaining_time": 1.083318587
           },
           {
            "iteration": 1281,
            "learn": [
             0.3816260348
            ],
            "passed_time": 6.341190019,
            "remaining_time": 1.078299083
           },
           {
            "iteration": 1282,
            "learn": [
             0.3815902658
            ],
            "passed_time": 6.345982607,
            "remaining_time": 1.073326754
           },
           {
            "iteration": 1283,
            "learn": [
             0.3815240862
            ],
            "passed_time": 6.350605491,
            "remaining_time": 1.068326157
           },
           {
            "iteration": 1284,
            "learn": [
             0.3815128551
            ],
            "passed_time": 6.355088533,
            "remaining_time": 1.063302751
           },
           {
            "iteration": 1285,
            "learn": [
             0.3814574301
            ],
            "passed_time": 6.359808808,
            "remaining_time": 1.058319662
           },
           {
            "iteration": 1286,
            "learn": [
             0.3814028728
            ],
            "passed_time": 6.364309289,
            "remaining_time": 1.053300605
           },
           {
            "iteration": 1287,
            "learn": [
             0.3813667798
            ],
            "passed_time": 6.369059149,
            "remaining_time": 1.0483234
           },
           {
            "iteration": 1288,
            "learn": [
             0.3813034058
            ],
            "passed_time": 6.373625965,
            "remaining_time": 1.043316585
           },
           {
            "iteration": 1289,
            "learn": [
             0.3812821064
            ],
            "passed_time": 6.378239522,
            "remaining_time": 1.038318062
           },
           {
            "iteration": 1290,
            "learn": [
             0.3812456237
            ],
            "passed_time": 6.382738142,
            "remaining_time": 1.033301527
           },
           {
            "iteration": 1291,
            "learn": [
             0.3811924718
            ],
            "passed_time": 6.387267788,
            "remaining_time": 1.028290789
           },
           {
            "iteration": 1292,
            "learn": [
             0.3811647901
            ],
            "passed_time": 6.391650306,
            "remaining_time": 1.023257241
           },
           {
            "iteration": 1293,
            "learn": [
             0.3811555967
            ],
            "passed_time": 6.396162582,
            "remaining_time": 1.018245357
           },
           {
            "iteration": 1294,
            "learn": [
             0.3810918434
            ],
            "passed_time": 6.400799256,
            "remaining_time": 1.013253936
           },
           {
            "iteration": 1295,
            "learn": [
             0.3810116262
            ],
            "passed_time": 6.405246895,
            "remaining_time": 1.008233308
           },
           {
            "iteration": 1296,
            "learn": [
             0.3809944248
            ],
            "passed_time": 6.41329998,
            "remaining_time": 1.003777869
           },
           {
            "iteration": 1297,
            "learn": [
             0.3808781763
            ],
            "passed_time": 6.417808583,
            "remaining_time": 0.9987652802
           },
           {
            "iteration": 1298,
            "learn": [
             0.3808431834
            ],
            "passed_time": 6.422252311,
            "remaining_time": 0.9937434292
           },
           {
            "iteration": 1299,
            "learn": [
             0.3807431804
            ],
            "passed_time": 6.426804366,
            "remaining_time": 0.9887391332
           },
           {
            "iteration": 1300,
            "learn": [
             0.3806469624
            ],
            "passed_time": 6.431165543,
            "remaining_time": 0.9837063359
           },
           {
            "iteration": 1301,
            "learn": [
             0.3805982118
            ],
            "passed_time": 6.43567818,
            "remaining_time": 0.9786976034
           },
           {
            "iteration": 1302,
            "learn": [
             0.3805671471
            ],
            "passed_time": 6.440144033,
            "remaining_time": 0.9736825591
           },
           {
            "iteration": 1303,
            "learn": [
             0.3805640199
            ],
            "passed_time": 6.444714383,
            "remaining_time": 0.9686840638
           },
           {
            "iteration": 1304,
            "learn": [
             0.3805148232
            ],
            "passed_time": 6.449282168,
            "remaining_time": 0.9636858412
           },
           {
            "iteration": 1305,
            "learn": [
             0.3804940034
            ],
            "passed_time": 6.45386311,
            "remaining_time": 0.9586902322
           },
           {
            "iteration": 1306,
            "learn": [
             0.3804709364
            ],
            "passed_time": 6.458265859,
            "remaining_time": 0.9536689447
           },
           {
            "iteration": 1307,
            "learn": [
             0.380408313
            ],
            "passed_time": 6.462670082,
            "remaining_time": 0.9486488193
           },
           {
            "iteration": 1308,
            "learn": [
             0.3803485246
            ],
            "passed_time": 6.467179482,
            "remaining_time": 0.9436449818
           },
           {
            "iteration": 1309,
            "learn": [
             0.3803044208
            ],
            "passed_time": 6.4716569,
            "remaining_time": 0.9386372602
           },
           {
            "iteration": 1310,
            "learn": [
             0.3802652867
            ],
            "passed_time": 6.476047659,
            "remaining_time": 0.9336178548
           },
           {
            "iteration": 1311,
            "learn": [
             0.3802034095
            ],
            "passed_time": 6.480669345,
            "remaining_time": 0.9286324976
           },
           {
            "iteration": 1312,
            "learn": [
             0.3801920296
            ],
            "passed_time": 6.484632757,
            "remaining_time": 0.9235539417
           },
           {
            "iteration": 1313,
            "learn": [
             0.3801624532
            ],
            "passed_time": 6.489233806,
            "remaining_time": 0.9185673423
           },
           {
            "iteration": 1314,
            "learn": [
             0.3801057932
            ],
            "passed_time": 6.493846822,
            "remaining_time": 0.913583013
           },
           {
            "iteration": 1315,
            "learn": [
             0.3800162074
            ],
            "passed_time": 6.498661071,
            "remaining_time": 0.9086273838
           },
           {
            "iteration": 1316,
            "learn": [
             0.3800131385
            ],
            "passed_time": 6.503282517,
            "remaining_time": 0.9036451789
           },
           {
            "iteration": 1317,
            "learn": [
             0.3799875126
            ],
            "passed_time": 6.507691959,
            "remaining_time": 0.8986342462
           },
           {
            "iteration": 1318,
            "learn": [
             0.3799670107
            ],
            "passed_time": 6.512238516,
            "remaining_time": 0.8936430412
           },
           {
            "iteration": 1319,
            "learn": [
             0.3799444517
            ],
            "passed_time": 6.516605477,
            "remaining_time": 0.8886280196
           },
           {
            "iteration": 1320,
            "learn": [
             0.3799084052
            ],
            "passed_time": 6.520889061,
            "remaining_time": 0.8836026812
           },
           {
            "iteration": 1321,
            "learn": [
             0.3798898438
            ],
            "passed_time": 6.525353858,
            "remaining_time": 0.8786028644
           },
           {
            "iteration": 1322,
            "learn": [
             0.3798526767
            ],
            "passed_time": 6.529818145,
            "remaining_time": 0.8736037882
           },
           {
            "iteration": 1323,
            "learn": [
             0.3798091418
            ],
            "passed_time": 6.534385085,
            "remaining_time": 0.8686191654
           },
           {
            "iteration": 1324,
            "learn": [
             0.3797635881
            ],
            "passed_time": 6.538761196,
            "remaining_time": 0.8636099693
           },
           {
            "iteration": 1325,
            "learn": [
             0.3797123164
            ],
            "passed_time": 6.543328647,
            "remaining_time": 0.8586268361
           },
           {
            "iteration": 1326,
            "learn": [
             0.3796790628
            ],
            "passed_time": 6.547846817,
            "remaining_time": 0.8536379046
           },
           {
            "iteration": 1327,
            "learn": [
             0.3796589288
            ],
            "passed_time": 6.552331497,
            "remaining_time": 0.8486453445
           },
           {
            "iteration": 1328,
            "learn": [
             0.37954579
            ],
            "passed_time": 6.556946677,
            "remaining_time": 0.8436703399
           },
           {
            "iteration": 1329,
            "learn": [
             0.3795265601
            ],
            "passed_time": 6.561533711,
            "remaining_time": 0.8386922788
           },
           {
            "iteration": 1330,
            "learn": [
             0.3794722881
            ],
            "passed_time": 6.566420636,
            "remaining_time": 0.8337528832
           },
           {
            "iteration": 1331,
            "learn": [
             0.3794561172
            ],
            "passed_time": 6.570774356,
            "remaining_time": 0.8287463152
           },
           {
            "iteration": 1332,
            "learn": [
             0.3794127001
            ],
            "passed_time": 6.575385533,
            "remaining_time": 0.8237729813
           },
           {
            "iteration": 1333,
            "learn": [
             0.3793624921
            ],
            "passed_time": 6.58001544,
            "remaining_time": 0.818802521
           },
           {
            "iteration": 1334,
            "learn": [
             0.3793530777
            ],
            "passed_time": 6.584547947,
            "remaining_time": 0.8138205328
           },
           {
            "iteration": 1335,
            "learn": [
             0.3792638259
            ],
            "passed_time": 6.589051148,
            "remaining_time": 0.80883562
           },
           {
            "iteration": 1336,
            "learn": [
             0.3791790316
            ],
            "passed_time": 6.593338254,
            "remaining_time": 0.8038250826
           },
           {
            "iteration": 1337,
            "learn": [
             0.3790643305
            ],
            "passed_time": 6.598036838,
            "remaining_time": 0.7988654468
           },
           {
            "iteration": 1338,
            "learn": [
             0.3790099065
            ],
            "passed_time": 6.602762055,
            "remaining_time": 0.7939094032
           },
           {
            "iteration": 1339,
            "learn": [
             0.3789274939
            ],
            "passed_time": 6.607240556,
            "remaining_time": 0.7889242454
           },
           {
            "iteration": 1340,
            "learn": [
             0.3788939917
            ],
            "passed_time": 6.611529651,
            "remaining_time": 0.7839173859
           },
           {
            "iteration": 1341,
            "learn": [
             0.3788526862
            ],
            "passed_time": 6.616176048,
            "remaining_time": 0.7789536628
           },
           {
            "iteration": 1342,
            "learn": [
             0.3788050351
            ],
            "passed_time": 6.620731701,
            "remaining_time": 0.7739798042
           },
           {
            "iteration": 1343,
            "learn": [
             0.3787842554
            ],
            "passed_time": 6.625169229,
            "remaining_time": 0.768992857
           },
           {
            "iteration": 1344,
            "learn": [
             0.3787235192
            ],
            "passed_time": 6.629799776,
            "remaining_time": 0.7640289705
           },
           {
            "iteration": 1345,
            "learn": [
             0.3786947997
            ],
            "passed_time": 6.636003656,
            "remaining_time": 0.7592455892
           },
           {
            "iteration": 1346,
            "learn": [
             0.3786460018
            ],
            "passed_time": 6.64328468,
            "remaining_time": 0.754582447
           },
           {
            "iteration": 1347,
            "learn": [
             0.3786083875
            ],
            "passed_time": 6.647713957,
            "remaining_time": 0.7495938587
           },
           {
            "iteration": 1348,
            "learn": [
             0.3785691444
            ],
            "passed_time": 6.652164938,
            "remaining_time": 0.744608529
           },
           {
            "iteration": 1349,
            "learn": [
             0.3784732484
            ],
            "passed_time": 6.656827705,
            "remaining_time": 0.7396475228
           },
           {
            "iteration": 1350,
            "learn": [
             0.3784651798
            ],
            "passed_time": 6.661622701,
            "remaining_time": 0.7347015414
           },
           {
            "iteration": 1351,
            "learn": [
             0.3784370166
            ],
            "passed_time": 6.666251318,
            "remaining_time": 0.7297375704
           },
           {
            "iteration": 1352,
            "learn": [
             0.3784127222
            ],
            "passed_time": 6.670918224,
            "remaining_time": 0.7247782549
           },
           {
            "iteration": 1353,
            "learn": [
             0.3783957206
            ],
            "passed_time": 6.675621089,
            "remaining_time": 0.7198232489
           },
           {
            "iteration": 1354,
            "learn": [
             0.3783474792
            ],
            "passed_time": 6.680086449,
            "remaining_time": 0.7148431994
           },
           {
            "iteration": 1355,
            "learn": [
             0.3783264157
            ],
            "passed_time": 6.684522159,
            "remaining_time": 0.7098607602
           },
           {
            "iteration": 1356,
            "learn": [
             0.3782143023
            ],
            "passed_time": 6.6890861,
            "remaining_time": 0.7048926399
           },
           {
            "iteration": 1357,
            "learn": [
             0.3781241691
            ],
            "passed_time": 6.693656598,
            "remaining_time": 0.6999258004
           },
           {
            "iteration": 1358,
            "learn": [
             0.3781028017
            ],
            "passed_time": 6.697979318,
            "remaining_time": 0.6949338365
           },
           {
            "iteration": 1359,
            "learn": [
             0.3780220948
            ],
            "passed_time": 6.702742174,
            "remaining_time": 0.689988165
           },
           {
            "iteration": 1360,
            "learn": [
             0.3779362499
            ],
            "passed_time": 6.707365041,
            "remaining_time": 0.6850284649
           },
           {
            "iteration": 1361,
            "learn": [
             0.377917086
            ],
            "passed_time": 6.711801447,
            "remaining_time": 0.6800503669
           },
           {
            "iteration": 1362,
            "learn": [
             0.37788465
            ],
            "passed_time": 6.716295607,
            "remaining_time": 0.6750788688
           },
           {
            "iteration": 1363,
            "learn": [
             0.3778233766
            ],
            "passed_time": 6.720954428,
            "remaining_time": 0.6701244885
           },
           {
            "iteration": 1364,
            "learn": [
             0.3778098674
            ],
            "passed_time": 6.725573547,
            "remaining_time": 0.6651666146
           },
           {
            "iteration": 1365,
            "learn": [
             0.3778011896
            ],
            "passed_time": 6.730059337,
            "remaining_time": 0.6601961575
           },
           {
            "iteration": 1366,
            "learn": [
             0.3776930499
            ],
            "passed_time": 6.734617505,
            "remaining_time": 0.6552334515
           },
           {
            "iteration": 1367,
            "learn": [
             0.3776486821
            ],
            "passed_time": 6.739193095,
            "remaining_time": 0.6502730179
           },
           {
            "iteration": 1368,
            "learn": [
             0.3775933298
            ],
            "passed_time": 6.743573067,
            "remaining_time": 0.6452944279
           },
           {
            "iteration": 1369,
            "learn": [
             0.3775848863
            ],
            "passed_time": 6.748053048,
            "remaining_time": 0.6403262017
           },
           {
            "iteration": 1370,
            "learn": [
             0.3775379641
            ],
            "passed_time": 6.752534684,
            "remaining_time": 0.6353588434
           },
           {
            "iteration": 1371,
            "learn": [
             0.3774225352
            ],
            "passed_time": 6.757098315,
            "remaining_time": 0.6303998428
           },
           {
            "iteration": 1372,
            "learn": [
             0.3773367475
            ],
            "passed_time": 6.761557727,
            "remaining_time": 0.6254317781
           },
           {
            "iteration": 1373,
            "learn": [
             0.3772844972
            ],
            "passed_time": 6.766140753,
            "remaining_time": 0.6204757895
           },
           {
            "iteration": 1374,
            "learn": [
             0.3772355369
            ],
            "passed_time": 6.770587016,
            "remaining_time": 0.6155079106
           },
           {
            "iteration": 1375,
            "learn": [
             0.3771867623
            ],
            "passed_time": 6.775184379,
            "remaining_time": 0.6105544062
           },
           {
            "iteration": 1376,
            "learn": [
             0.3771535492
            ],
            "passed_time": 6.779591075,
            "remaining_time": 0.605584388
           },
           {
            "iteration": 1377,
            "learn": [
             0.3770834719
            ],
            "passed_time": 6.785030294,
            "remaining_time": 0.6007066008
           },
           {
            "iteration": 1378,
            "learn": [
             0.3770679996
            ],
            "passed_time": 6.790468288,
            "remaining_time": 0.5958278919
           },
           {
            "iteration": 1379,
            "learn": [
             0.3770479082
            ],
            "passed_time": 6.794804467,
            "remaining_time": 0.5908525624
           },
           {
            "iteration": 1380,
            "learn": [
             0.3769963158
            ],
            "passed_time": 6.799281342,
            "remaining_time": 0.5858902821
           },
           {
            "iteration": 1381,
            "learn": [
             0.3769639003
            ],
            "passed_time": 6.803828963,
            "remaining_time": 0.5809347451
           },
           {
            "iteration": 1382,
            "learn": [
             0.3769570235
            ],
            "passed_time": 6.808467327,
            "remaining_time": 0.5759874745
           },
           {
            "iteration": 1383,
            "learn": [
             0.3769266328
            ],
            "passed_time": 6.813179457,
            "remaining_time": 0.5710468331
           },
           {
            "iteration": 1384,
            "learn": [
             0.3769195603
            ],
            "passed_time": 6.817875929,
            "remaining_time": 0.5661052215
           },
           {
            "iteration": 1385,
            "learn": [
             0.3768746421
            ],
            "passed_time": 6.822375559,
            "remaining_time": 0.5611477732
           },
           {
            "iteration": 1386,
            "learn": [
             0.3768596163
            ],
            "passed_time": 6.826906046,
            "remaining_time": 0.556193499
           },
           {
            "iteration": 1387,
            "learn": [
             0.3768030739
            ],
            "passed_time": 6.83158097,
            "remaining_time": 0.5512514904
           },
           {
            "iteration": 1388,
            "learn": [
             0.3767886853
            ],
            "passed_time": 6.836152605,
            "remaining_time": 0.5463016121
           },
           {
            "iteration": 1389,
            "learn": [
             0.3767072938
            ],
            "passed_time": 6.84072129,
            "remaining_time": 0.5413520446
           },
           {
            "iteration": 1390,
            "learn": [
             0.3766262313
            ],
            "passed_time": 6.845268544,
            "remaining_time": 0.5364013453
           },
           {
            "iteration": 1391,
            "learn": [
             0.3765836944
            ],
            "passed_time": 6.849904547,
            "remaining_time": 0.5314581114
           },
           {
            "iteration": 1392,
            "learn": [
             0.3765518156
            ],
            "passed_time": 6.854578386,
            "remaining_time": 0.5265182249
           },
           {
            "iteration": 1393,
            "learn": [
             0.376546563
            ],
            "passed_time": 6.859156133,
            "remaining_time": 0.5215714132
           },
           {
            "iteration": 1394,
            "learn": [
             0.3764954798
            ],
            "passed_time": 6.863924831,
            "remaining_time": 0.5166395034
           },
           {
            "iteration": 1395,
            "learn": [
             0.3764309064
            ],
            "passed_time": 6.868473379,
            "remaining_time": 0.5116914265
           },
           {
            "iteration": 1396,
            "learn": [
             0.3763351826
            ],
            "passed_time": 6.873103214,
            "remaining_time": 0.5067499149
           },
           {
            "iteration": 1397,
            "learn": [
             0.3762703661
            ],
            "passed_time": 6.877492157,
            "remaining_time": 0.5017912733
           },
           {
            "iteration": 1398,
            "learn": [
             0.3762076848
            ],
            "passed_time": 6.882182903,
            "remaining_time": 0.4968552346
           },
           {
            "iteration": 1399,
            "learn": [
             0.3761729029
            ],
            "passed_time": 6.886881415,
            "remaining_time": 0.4919201011
           },
           {
            "iteration": 1400,
            "learn": [
             0.3761641699
            ],
            "passed_time": 6.891453938,
            "remaining_time": 0.4869764024
           },
           {
            "iteration": 1401,
            "learn": [
             0.3760952361
            ],
            "passed_time": 6.896150972,
            "remaining_time": 0.4820419367
           },
           {
            "iteration": 1402,
            "learn": [
             0.3760691661
            ],
            "passed_time": 6.900718187,
            "remaining_time": 0.4770988341
           },
           {
            "iteration": 1403,
            "learn": [
             0.3760607047
            ],
            "passed_time": 6.905401171,
            "remaining_time": 0.4721641827
           },
           {
            "iteration": 1404,
            "learn": [
             0.3760216175
            ],
            "passed_time": 6.910265832,
            "remaining_time": 0.4672421737
           },
           {
            "iteration": 1405,
            "learn": [
             0.3759745417
            ],
            "passed_time": 6.915014241,
            "remaining_time": 0.4623124742
           },
           {
            "iteration": 1406,
            "learn": [
             0.375892753
            ],
            "passed_time": 6.919771203,
            "remaining_time": 0.4573835977
           },
           {
            "iteration": 1407,
            "learn": [
             0.3758189811
            ],
            "passed_time": 6.924242927,
            "remaining_time": 0.4524363276
           },
           {
            "iteration": 1408,
            "learn": [
             0.3757984857
            ],
            "passed_time": 6.929009952,
            "remaining_time": 0.4475088045
           },
           {
            "iteration": 1409,
            "learn": [
             0.3757663752
            ],
            "passed_time": 6.933625909,
            "remaining_time": 0.4425718665
           },
           {
            "iteration": 1410,
            "learn": [
             0.3757473589
            ],
            "passed_time": 6.938110162,
            "remaining_time": 0.4376270761
           },
           {
            "iteration": 1411,
            "learn": [
             0.3756627557
            ],
            "passed_time": 6.942482613,
            "remaining_time": 0.4326759702
           },
           {
            "iteration": 1412,
            "learn": [
             0.3755924683
            ],
            "passed_time": 6.947053519,
            "remaining_time": 0.4277379024
           },
           {
            "iteration": 1413,
            "learn": [
             0.3755469191
            ],
            "passed_time": 6.95173199,
            "remaining_time": 0.4228068961
           },
           {
            "iteration": 1414,
            "learn": [
             0.3755348609
            ],
            "passed_time": 6.956254736,
            "remaining_time": 0.4178668923
           },
           {
            "iteration": 1415,
            "learn": [
             0.3755131305
            ],
            "passed_time": 6.960860191,
            "remaining_time": 0.4129323842
           },
           {
            "iteration": 1416,
            "learn": [
             0.3754749992
            ],
            "passed_time": 6.965508565,
            "remaining_time": 0.4080008546
           },
           {
            "iteration": 1417,
            "learn": [
             0.3754303201
            ],
            "passed_time": 6.975701493,
            "remaining_time": 0.4033903543
           },
           {
            "iteration": 1418,
            "learn": [
             0.3753864437
            ],
            "passed_time": 6.981665383,
            "remaining_time": 0.3985305821
           },
           {
            "iteration": 1419,
            "learn": [
             0.3753765196
            ],
            "passed_time": 6.986319684,
            "remaining_time": 0.3935954752
           },
           {
            "iteration": 1420,
            "learn": [
             0.3753157431
            ],
            "passed_time": 6.991011258,
            "remaining_time": 0.3886628356
           },
           {
            "iteration": 1421,
            "learn": [
             0.3752317639
            ],
            "passed_time": 6.995714426,
            "remaining_time": 0.3837311711
           },
           {
            "iteration": 1422,
            "learn": [
             0.3752222661
            ],
            "passed_time": 7.000397013,
            "remaining_time": 0.378798714
           },
           {
            "iteration": 1423,
            "learn": [
             0.3751915012
            ],
            "passed_time": 7.00475304,
            "remaining_time": 0.3738491791
           },
           {
            "iteration": 1424,
            "learn": [
             0.3751615936
            ],
            "passed_time": 7.009373042,
            "remaining_time": 0.3689143706
           },
           {
            "iteration": 1425,
            "learn": [
             0.3751115927
            ],
            "passed_time": 7.014005399,
            "remaining_time": 0.3639806448
           },
           {
            "iteration": 1426,
            "learn": [
             0.375105888
            ],
            "passed_time": 7.01854966,
            "remaining_time": 0.3590428348
           },
           {
            "iteration": 1427,
            "learn": [
             0.375068577
            ],
            "passed_time": 7.023293918,
            "remaining_time": 0.3541156597
           },
           {
            "iteration": 1428,
            "learn": [
             0.3750364236
            ],
            "passed_time": 7.027974318,
            "remaining_time": 0.3491855679
           },
           {
            "iteration": 1429,
            "learn": [
             0.3750178322
            ],
            "passed_time": 7.032634751,
            "remaining_time": 0.3442548479
           },
           {
            "iteration": 1430,
            "learn": [
             0.3749382515
            ],
            "passed_time": 7.037538678,
            "remaining_time": 0.3393362465
           },
           {
            "iteration": 1431,
            "learn": [
             0.3748405737
            ],
            "passed_time": 7.042293096,
            "remaining_time": 0.334410566
           },
           {
            "iteration": 1432,
            "learn": [
             0.3747764527
            ],
            "passed_time": 7.047142083,
            "remaining_time": 0.3294895461
           },
           {
            "iteration": 1433,
            "learn": [
             0.3747306062
            ],
            "passed_time": 7.051858343,
            "remaining_time": 0.3245625179
           },
           {
            "iteration": 1434,
            "learn": [
             0.3747083988
            ],
            "passed_time": 7.085445818,
            "remaining_time": 0.3209435388
           },
           {
            "iteration": 1435,
            "learn": [
             0.3746748701
            ],
            "passed_time": 7.109388692,
            "remaining_time": 0.3168529779
           },
           {
            "iteration": 1436,
            "learn": [
             0.3746140619
            ],
            "passed_time": 7.126802443,
            "remaining_time": 0.3124485414
           },
           {
            "iteration": 1437,
            "learn": [
             0.374582088
            ],
            "passed_time": 7.139165763,
            "remaining_time": 0.3078082596
           },
           {
            "iteration": 1438,
            "learn": [
             0.3745330432
            ],
            "passed_time": 7.144375223,
            "remaining_time": 0.3028539879
           },
           {
            "iteration": 1439,
            "learn": [
             0.3745295006
            ],
            "passed_time": 7.149773739,
            "remaining_time": 0.2979072391
           },
           {
            "iteration": 1440,
            "learn": [
             0.374509061
            ],
            "passed_time": 7.154962924,
            "remaining_time": 0.2929512925
           },
           {
            "iteration": 1441,
            "learn": [
             0.3744497133
            ],
            "passed_time": 7.160016645,
            "remaining_time": 0.2879895738
           },
           {
            "iteration": 1442,
            "learn": [
             0.374430372
            ],
            "passed_time": 7.164650145,
            "remaining_time": 0.2830111284
           },
           {
            "iteration": 1443,
            "learn": [
             0.37440896
            ],
            "passed_time": 7.169472464,
            "remaining_time": 0.2780404834
           },
           {
            "iteration": 1444,
            "learn": [
             0.3743533422
            ],
            "passed_time": 7.176422373,
            "remaining_time": 0.2731510246
           },
           {
            "iteration": 1445,
            "learn": [
             0.3743135144
            ],
            "passed_time": 7.192202736,
            "remaining_time": 0.2685884839
           },
           {
            "iteration": 1446,
            "learn": [
             0.3742919268
            ],
            "passed_time": 7.198631749,
            "remaining_time": 0.2636679217
           },
           {
            "iteration": 1447,
            "learn": [
             0.3742425074
            ],
            "passed_time": 7.203446486,
            "remaining_time": 0.2586873047
           },
           {
            "iteration": 1448,
            "learn": [
             0.3742135756
            ],
            "passed_time": 7.208300957,
            "remaining_time": 0.2537083153
           },
           {
            "iteration": 1449,
            "learn": [
             0.3742054027
            ],
            "passed_time": 7.213071105,
            "remaining_time": 0.2487265898
           },
           {
            "iteration": 1450,
            "learn": [
             0.3741879828
            ],
            "passed_time": 7.21759431,
            "remaining_time": 0.2437368168
           },
           {
            "iteration": 1451,
            "learn": [
             0.3740958952
            ],
            "passed_time": 7.222207032,
            "remaining_time": 0.2387506457
           },
           {
            "iteration": 1452,
            "learn": [
             0.3740419548
            ],
            "passed_time": 7.226773011,
            "remaining_time": 0.2337634766
           },
           {
            "iteration": 1453,
            "learn": [
             0.3739897478
            ],
            "passed_time": 7.231483959,
            "remaining_time": 0.2287814732
           },
           {
            "iteration": 1454,
            "learn": [
             0.3739687237
            ],
            "passed_time": 7.236351673,
            "remaining_time": 0.2238046909
           },
           {
            "iteration": 1455,
            "learn": [
             0.3739265189
            ],
            "passed_time": 7.241142387,
            "remaining_time": 0.2188257315
           },
           {
            "iteration": 1456,
            "learn": [
             0.3738845604
            ],
            "passed_time": 7.245752061,
            "remaining_time": 0.2138416875
           },
           {
            "iteration": 1457,
            "learn": [
             0.3737946319
            ],
            "passed_time": 7.250320638,
            "remaining_time": 0.2088569731
           },
           {
            "iteration": 1458,
            "learn": [
             0.3737673473
            ],
            "passed_time": 7.254863996,
            "remaining_time": 0.2038721205
           },
           {
            "iteration": 1459,
            "learn": [
             0.3737145931
            ],
            "passed_time": 7.259482083,
            "remaining_time": 0.1988899201
           },
           {
            "iteration": 1460,
            "learn": [
             0.3737096908
            ],
            "passed_time": 7.263886064,
            "remaining_time": 0.1939025027
           },
           {
            "iteration": 1461,
            "learn": [
             0.3736703859
            ],
            "passed_time": 7.268495704,
            "remaining_time": 0.188921229
           },
           {
            "iteration": 1462,
            "learn": [
             0.3736473488
            ],
            "passed_time": 7.272998929,
            "remaining_time": 0.1839377719
           },
           {
            "iteration": 1463,
            "learn": [
             0.3735981468
            ],
            "passed_time": 7.277622015,
            "remaining_time": 0.1789579184
           },
           {
            "iteration": 1464,
            "learn": [
             0.3735647213
            ],
            "passed_time": 7.282249129,
            "remaining_time": 0.1739786481
           },
           {
            "iteration": 1465,
            "learn": [
             0.3734830858
            ],
            "passed_time": 7.287116626,
            "remaining_time": 0.1690054333
           },
           {
            "iteration": 1466,
            "learn": [
             0.3734167878
            ],
            "passed_time": 7.291863295,
            "remaining_time": 0.1640296447
           },
           {
            "iteration": 1467,
            "learn": [
             0.3733833494
            ],
            "passed_time": 7.297639211,
            "remaining_time": 0.1590766041
           },
           {
            "iteration": 1468,
            "learn": [
             0.3733767688
            ],
            "passed_time": 7.302303354,
            "remaining_time": 0.1540989816
           },
           {
            "iteration": 1469,
            "learn": [
             0.3733303333
            ],
            "passed_time": 7.307061652,
            "remaining_time": 0.1491237072
           },
           {
            "iteration": 1470,
            "learn": [
             0.3732878479
            ],
            "passed_time": 7.311596287,
            "remaining_time": 0.1441443184
           },
           {
            "iteration": 1471,
            "learn": [
             0.3732509287
            ],
            "passed_time": 7.316137901,
            "remaining_time": 0.1391656666
           },
           {
            "iteration": 1472,
            "learn": [
             0.373181886
            ],
            "passed_time": 7.320735861,
            "remaining_time": 0.134188641
           },
           {
            "iteration": 1473,
            "learn": [
             0.3731774766
            ],
            "passed_time": 7.325113329,
            "remaining_time": 0.1292082405
           },
           {
            "iteration": 1474,
            "learn": [
             0.3731678322
            ],
            "passed_time": 7.329538648,
            "remaining_time": 0.1242294686
           },
           {
            "iteration": 1475,
            "learn": [
             0.3730621817
            ],
            "passed_time": 7.334169035,
            "remaining_time": 0.1192547811
           },
           {
            "iteration": 1476,
            "learn": [
             0.3730371554
            ],
            "passed_time": 7.339769993,
            "remaining_time": 0.1142956736
           },
           {
            "iteration": 1477,
            "learn": [
             0.3729172915
            ],
            "passed_time": 7.344406909,
            "remaining_time": 0.1093213478
           },
           {
            "iteration": 1478,
            "learn": [
             0.3728668663
            ],
            "passed_time": 7.34918057,
            "remaining_time": 0.1043494199
           },
           {
            "iteration": 1479,
            "learn": [
             0.3728205563
            ],
            "passed_time": 7.354002944,
            "remaining_time": 0.09937841816
           },
           {
            "iteration": 1480,
            "learn": [
             0.3727384694
            ],
            "passed_time": 7.358556428,
            "remaining_time": 0.09440416755
           },
           {
            "iteration": 1481,
            "learn": [
             0.3727372342
            ],
            "passed_time": 7.363369701,
            "remaining_time": 0.0894336401
           },
           {
            "iteration": 1482,
            "learn": [
             0.3726874505
            ],
            "passed_time": 7.368041025,
            "remaining_time": 0.08446169752
           },
           {
            "iteration": 1483,
            "learn": [
             0.3726298312
            ],
            "passed_time": 7.372798006,
            "remaining_time": 0.07949108362
           },
           {
            "iteration": 1484,
            "learn": [
             0.3725752594
            ],
            "passed_time": 7.377516712,
            "remaining_time": 0.07452037083
           },
           {
            "iteration": 1485,
            "learn": [
             0.3725109915
            ],
            "passed_time": 7.38230811,
            "remaining_time": 0.06955068206
           },
           {
            "iteration": 1486,
            "learn": [
             0.3724440218
            ],
            "passed_time": 7.387033229,
            "remaining_time": 0.06458065365
           },
           {
            "iteration": 1487,
            "learn": [
             0.3724053432
            ],
            "passed_time": 7.39137923,
            "remaining_time": 0.05960789702
           },
           {
            "iteration": 1488,
            "learn": [
             0.3723397792
            ],
            "passed_time": 7.396942098,
            "remaining_time": 0.05464497185
           },
           {
            "iteration": 1489,
            "learn": [
             0.3723058748
            ],
            "passed_time": 7.402104196,
            "remaining_time": 0.04967855165
           },
           {
            "iteration": 1490,
            "learn": [
             0.3722643575
            ],
            "passed_time": 7.406757662,
            "remaining_time": 0.04470879876
           },
           {
            "iteration": 1491,
            "learn": [
             0.3722595632
            ],
            "passed_time": 7.411201523,
            "remaining_time": 0.03973834597
           },
           {
            "iteration": 1492,
            "learn": [
             0.372215289
            ],
            "passed_time": 7.415776406,
            "remaining_time": 0.03476921289
           },
           {
            "iteration": 1493,
            "learn": [
             0.3721504884
            ],
            "passed_time": 7.420392982,
            "remaining_time": 0.02980077503
           },
           {
            "iteration": 1494,
            "learn": [
             0.3720650337
            ],
            "passed_time": 7.425161087,
            "remaining_time": 0.02483331467
           },
           {
            "iteration": 1495,
            "learn": [
             0.371990977
            ],
            "passed_time": 7.429702027,
            "remaining_time": 0.01986551344
           },
           {
            "iteration": 1496,
            "learn": [
             0.3719558868
            ],
            "passed_time": 7.434309027,
            "remaining_time": 0.01489841488
           },
           {
            "iteration": 1497,
            "learn": [
             0.3718797718
            ],
            "passed_time": 7.438708423,
            "remaining_time": 0.009931519924
           },
           {
            "iteration": 1498,
            "learn": [
             0.3718180761
            ],
            "passed_time": 7.443658057,
            "remaining_time": 0.004965749204
           },
           {
            "iteration": 1499,
            "learn": [
             0.3717804758
            ],
            "passed_time": 7.44835254,
            "remaining_time": 0
           }
          ],
          "meta": {
           "iteration_count": 1500,
           "launch_mode": "Train",
           "learn_metrics": [
            {
             "best_value": "Min",
             "name": "Logloss"
            }
           ],
           "learn_sets": [
            "learn"
           ],
           "name": "experiment",
           "parameters": "",
           "test_metrics": [],
           "test_sets": []
          }
         },
         "passed_iterations": 1499,
         "total_iterations": 1500
        },
        "name": "bccommits",
        "path": "bccommits"
       }
      },
      "layout": "IPY_MODEL_0d130c2fb48d4ffead5fd257c13f95e9"
     }
    }
   }
  }
 },
 "nbformat": 4,
 "nbformat_minor": 1
}
